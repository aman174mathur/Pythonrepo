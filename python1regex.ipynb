{
  "cells": [
    {
      "cell_type": "code",
      "execution_count": null,
      "id": "873e1a05-0028-43d2-a3ab-e4a9ca45bec5",
      "metadata": {
        "id": "873e1a05-0028-43d2-a3ab-e4a9ca45bec5"
      },
      "outputs": [],
      "source": [
        "#python--version"
      ]
    },
    {
      "cell_type": "markdown",
      "id": "bf42d90d-edfd-461d-b447-03bba0ed3525",
      "metadata": {
        "id": "bf42d90d-edfd-461d-b447-03bba0ed3525"
      },
      "source": [
        "founder:guido van rossum"
      ]
    },
    {
      "cell_type": "markdown",
      "id": "304a3ec1-33fc-499c-ab4b-1c5539a32342",
      "metadata": {
        "id": "304a3ec1-33fc-499c-ab4b-1c5539a32342"
      },
      "source": [
        "fundamentals of python\n",
        "1. interger\n",
        "2. varables\n",
        "3. functions\n",
        "4. datatype\n",
        "5. input(),print()\n",
        "6. float\n",
        "7. typecasting: to change value from one data type to another the cast of the thing"
      ]
    },
    {
      "cell_type": "markdown",
      "id": "80d8c7de-c510-4895-9e60-5870b7639253",
      "metadata": {
        "id": "80d8c7de-c510-4895-9e60-5870b7639253"
      },
      "source": [
        "VARIABLES:\n",
        "this is  a container to store values\n",
        "a=56\n",
        "b='sam'\n",
        "c=78.00"
      ]
    },
    {
      "cell_type": "raw",
      "id": "b6990595-bb9a-423f-b773-1a1aa3a06b20",
      "metadata": {
        "id": "b6990595-bb9a-423f-b773-1a1aa3a06b20"
      },
      "source": [
        "(a)Global variable\n",
        "--> entrirely modify\n",
        "(b)Local Variable\n",
        "-->specific block of code modify."
      ]
    },
    {
      "cell_type": "markdown",
      "id": "926f9a15-bf75-4bb0-9ae5-2a4443cb0608",
      "metadata": {
        "id": "926f9a15-bf75-4bb0-9ae5-2a4443cb0608"
      },
      "source": [
        "datatype;\n",
        "(a) interger:...>all positive and negetive interger\n",
        "ex. 23,34,,44\n",
        "(b). Float---> all decimal values\n",
        "ex---> 34.5\n",
        "\n",
        "(c)string:  'single qoutes', \"double_qoutrs\", '''triple_quotes'''\n",
        "\n",
        " (D) Boolean:--> true,false\n",
        " ex: 5>4: true\n"
      ]
    },
    {
      "cell_type": "code",
      "execution_count": null,
      "id": "3c9f1ed5-e559-4ced-a542-0ba354d16d26",
      "metadata": {
        "id": "3c9f1ed5-e559-4ced-a542-0ba354d16d26",
        "outputId": "9deeb3a8-9fed-460d-d282-5ae4944a8456"
      },
      "outputs": [
        {
          "data": {
            "text/plain": [
              "67.0"
            ]
          },
          "execution_count": 6,
          "metadata": {},
          "output_type": "execute_result"
        }
      ],
      "source": [
        "#typecasting\n",
        "a=67\n",
        "type(a)\n",
        "b=float(a)\n",
        "type(b)\n",
        "b"
      ]
    },
    {
      "cell_type": "code",
      "execution_count": null,
      "id": "e6d3b2df-41b7-494c-8a6b-ced1fa10be72",
      "metadata": {
        "id": "e6d3b2df-41b7-494c-8a6b-ced1fa10be72",
        "outputId": "a1f28eba-2eaf-4252-d7b9-92abf2c28c51"
      },
      "outputs": [
        {
          "name": "stdout",
          "output_type": "stream",
          "text": [
            "1\n",
            "printing a\n",
            "printing b\n",
            "2\n"
          ]
        }
      ],
      "source": [
        "#print()function:\n",
        "\n",
        "a=1\n",
        "print(a)\n",
        "print(\"printing a\")\n",
        "b=2\n",
        "print(\"printing b\")\n",
        "print(b)"
      ]
    },
    {
      "cell_type": "code",
      "execution_count": null,
      "id": "1b7e384f-e73a-4929-8b43-61f0d64c16ae",
      "metadata": {
        "id": "1b7e384f-e73a-4929-8b43-61f0d64c16ae",
        "outputId": "3aa661a4-393b-4b8e-c337-e99c6b34c544"
      },
      "outputs": [
        {
          "name": "stdin",
          "output_type": "stream",
          "text": [
            "enter 1st unmber: 12\n",
            "enter2 nd nuber 12\n"
          ]
        },
        {
          "data": {
            "text/plain": [
              "24"
            ]
          },
          "execution_count": 9,
          "metadata": {},
          "output_type": "execute_result"
        }
      ],
      "source": [
        "a= int(input(\"enter 1st unmber:\"))\n",
        "b=int(input(\"enter2 nd nuber\"))\n",
        "c=a+b\n",
        "c\n",
        "#this is type casting"
      ]
    },
    {
      "cell_type": "code",
      "execution_count": null,
      "id": "f6a0b372-da3c-4fe8-a6f3-c3d5738a028f",
      "metadata": {
        "id": "f6a0b372-da3c-4fe8-a6f3-c3d5738a028f",
        "outputId": "7de84ef2-b858-4476-f05c-d1bf17110f9c"
      },
      "outputs": [
        {
          "name": "stdin",
          "output_type": "stream",
          "text": [
            "enter 1st unmber: 12\n",
            "enter2 nd nuber 12\n"
          ]
        },
        {
          "data": {
            "text/plain": [
              "'1212'"
            ]
          },
          "execution_count": 10,
          "metadata": {},
          "output_type": "execute_result"
        }
      ],
      "source": [
        "a= (input(\"enter 1st unmber:\"))\n",
        "b=(input(\"enter2 nd nuber\"))\n",
        "c=a+b\n",
        "c"
      ]
    },
    {
      "cell_type": "markdown",
      "id": "20667b85-65e2-46a5-8ab5-e5d81febd10b",
      "metadata": {
        "id": "20667b85-65e2-46a5-8ab5-e5d81febd10b"
      },
      "source": [
        "commnly used operators:\n",
        "1. Add: 5+3=8\n",
        "2. sub: 5-3=2\n",
        "3. mul : 5*3=15\n",
        "4. division: 5/3=1.6\n",
        "5. floor division(//) --> round 5//3 =1\n",
        "6. module(%)--> remandier cal =  25%10=5(rem)\n",
        "7. equal to (=) --> assgin values a=10,b='aan'\n",
        "8. eqal equal to (==)--> for comparsion\n",
        "9. not equal to (!=) --> 'sam'!=10\n",
        "10. grater than  5>4\n",
        "11. less than   4<5\n",
        "12. greater than or equalto >=\n",
        "13. less than or equal to <="
      ]
    },
    {
      "cell_type": "raw",
      "id": "bb7d4f53-c266-4a63-baae-4d9260277887",
      "metadata": {
        "id": "bb7d4f53-c266-4a63-baae-4d9260277887"
      },
      "source": [
        "conditional satement in python\n",
        "1. if\n",
        "2. else\n",
        "3. elif\n"
      ]
    },
    {
      "cell_type": "code",
      "execution_count": null,
      "id": "becbd8cd-9173-403b-af21-0ffea8766598",
      "metadata": {
        "id": "becbd8cd-9173-403b-af21-0ffea8766598",
        "outputId": "22db2951-306c-4ee1-f500-2fe72573a0df"
      },
      "outputs": [
        {
          "name": "stdin",
          "output_type": "stream",
          "text": [
            "enter ur name ankit\n"
          ]
        },
        {
          "name": "stdout",
          "output_type": "stream",
          "text": [
            "ok\n"
          ]
        }
      ],
      "source": [
        "#ex.1\n",
        "\n",
        "a=input(\"enter ur name\")\n",
        "if(a=='sam'):\n",
        " print(\"yes\")\n",
        "elif(a=='rahul'):\n",
        " print(\"no\")\n",
        "elif(a=='ankit'):\n",
        " print(\"ok\")\n",
        "else:\n",
        " print(\"print a valid name...\")"
      ]
    },
    {
      "cell_type": "code",
      "execution_count": null,
      "id": "9f00ae9a-71ca-4ae5-9fd2-a36fba207a20",
      "metadata": {
        "colab": {
          "base_uri": "https://localhost:8080/"
        },
        "id": "9f00ae9a-71ca-4ae5-9fd2-a36fba207a20",
        "outputId": "c6ebe6f7-6956-4e64-8001-5443a38758f5"
      },
      "outputs": [
        {
          "output_type": "stream",
          "name": "stdout",
          "text": [
            "we provide these items: pizza,burger,icecream,sandwich\n",
            "MENU: Pizza=100 , burger=50 ,icecream=50,sandwich=100\n",
            "enter your item:  icecream\n",
            "icecream  is availbale\n",
            "enter the number : 10\n",
            "total price :  500\n",
            "your amount is 500\n"
          ]
        }
      ],
      "source": [
        "#ex2\n",
        "\n",
        "print(\"we provide these items: pizza,burger,icecream,sandwich\")\n",
        "print(\"MENU: Pizza=100 , burger=50 ,icecream=50,sandwich=100\")\n",
        "\n",
        "\n",
        "\n",
        "a=input(\"enter your item:  \")\n",
        "\n",
        "if(a==\"pizza\"):\n",
        "  print(\"pizza is availbale\")\n",
        "  b=int(input(\"enter the number : \"))\n",
        "  print(\"total price : \", b*100)\n",
        "  c=b*100\n",
        "  if(c<=1000):\n",
        "    print(\"your 10% discounted price  is : \", c-(c*0.1))\n",
        "  elif(1000<c<2000):\n",
        "    print(\"your 10% discounted price  is : \", c-(c*0.1))\n",
        "  elif(c>=2000):\n",
        "    print(\"your 20% discounted price  is : \", c-(c*0.2))\n",
        "  elif(c>1000):\n",
        "   print(\"your price  is : \", c)\n",
        "\n",
        "#for burger\n",
        "elif(a==\"burger\"):\n",
        " print(\"burger is availbale\")\n",
        " b=int(input(\"enter the number : \"))\n",
        " print(\"total price : \", b*50)\n",
        " c=b*50\n",
        " if(c<1000):\n",
        "    print(\"your amount is\",c)\n",
        " elif(1000<c<2000):\n",
        "  print(\"your 10% discounted price  is : \", c-(c*0.1))\n",
        " elif(c>=2000):\n",
        "  print(\"your 20% discounted price  is : \", c-(c*0.2))\n",
        " elif(c>=1000):\n",
        "  print(\" you have given 10% discount\", c-(c*0.1))\n",
        "\n",
        "#for icecream\n",
        "elif(a==\"icecream\"):\n",
        " print(\"icecream  is availbale\")\n",
        " b=int(input(\"enter the number : \"))\n",
        " print(\"total price : \", b*50)\n",
        " c=b*50\n",
        " if(c<1000):\n",
        "    print(\"your amount is\",c)\n",
        " elif(1000<c<2000):\n",
        "  print(\"your 10% discounted price  is : \", c-(c*0.1))\n",
        " elif(c>=2000):\n",
        "  print(\"your 20% discounted price  is : \", c-(c*0.2))\n",
        " elif(c>=1000):\n",
        "  print(\" you have given 10% discount\", c-(c*0.1))\n",
        "\n",
        "#for sandwich\n",
        "elif(a==\"sandwich\"):\n",
        " print(\"sandwich is availbale\")\n",
        " b=int(input(\"enter the number : \"))\n",
        " print(\"total price : \", b*100)\n",
        " c=b*100\n",
        " if(c<1000):\n",
        "    print(\"your amount is\",c)\n",
        " elif(1000<c<2000):\n",
        "  print(\"your 10% discounted price  is : \", c-(c*0.1))\n",
        " elif(c>=2000):\n",
        "  print(\"your 20% discounted price  is : \", c-(c*0.2))\n",
        " elif(c>=1000):\n",
        "  print(\" you have given 10% discount\", c-(c*0.1))\n",
        "\n",
        "else:\n",
        " print(\"invalid item\")\n",
        "\n",
        "\n"
      ]
    },
    {
      "cell_type": "code",
      "execution_count": null,
      "id": "922fff9f-a8da-41d8-8b1b-06a5aa9396e7",
      "metadata": {
        "colab": {
          "base_uri": "https://localhost:8080/"
        },
        "id": "922fff9f-a8da-41d8-8b1b-06a5aa9396e7",
        "outputId": "173610ed-76a0-472e-9b82-db2099cb0ed4"
      },
      "outputs": [
        {
          "output_type": "execute_result",
          "data": {
            "text/plain": [
              "90.0"
            ]
          },
          "metadata": {},
          "execution_count": 26
        }
      ],
      "source": [
        "a=100\n",
        "b=100*0.1\n",
        "b\n",
        "c=a-b\n",
        "c"
      ]
    },
    {
      "cell_type": "code",
      "source": [
        "#student information system\n",
        "#user (pyhton , java , mernstack)\n",
        "#--> fees, timeduration"
      ],
      "metadata": {
        "id": "o3BW_JW2jWfi"
      },
      "id": "o3BW_JW2jWfi",
      "execution_count": null,
      "outputs": []
    },
    {
      "cell_type": "code",
      "source": [
        "print(\" hello there please select your course: \")\n",
        "print(\"1.python\")\n",
        "print(\"2.java\")\n",
        "print(\"3.mernstack\")\n",
        "a=(input(\"enter your course: \"))\n",
        "if(a=='python'):\n",
        " print(\"your have selected python , the course fee is 1000rs and the duration is 3 months\")\n",
        "elif(a=='java'):\n",
        " print(\"your have selected java , the course fee is 2000rs and the duration is 4 months\")\n",
        "elif(a=='mernstack'):\n",
        " print(\"your have selected mernstack , the course fee is 3000rs and the duration is 5 months\")\n",
        "else:\n",
        " print(\"invalid course\")"
      ],
      "metadata": {
        "colab": {
          "base_uri": "https://localhost:8080/"
        },
        "id": "V08_u03LkWuS",
        "outputId": "1b05c15a-efea-4fb2-bfcb-06c0402b6e59"
      },
      "id": "V08_u03LkWuS",
      "execution_count": null,
      "outputs": [
        {
          "output_type": "stream",
          "name": "stdout",
          "text": [
            " hello there please select your course: \n",
            "1.python\n",
            "2.java\n",
            "3.mernstack\n",
            "enter your course: mern\n",
            "invalid course\n"
          ]
        }
      ]
    },
    {
      "cell_type": "code",
      "source": [
        "#loops in python"
      ],
      "metadata": {
        "id": "yJmTNpsKAWWD"
      },
      "id": "yJmTNpsKAWWD",
      "execution_count": null,
      "outputs": []
    },
    {
      "cell_type": "code",
      "source": [
        "#1. for loop\n",
        "#index=0 , length=1\n",
        "#starting values will include and last value will exclude"
      ],
      "metadata": {
        "id": "Kg-h4YD5Ak0V"
      },
      "id": "Kg-h4YD5Ak0V",
      "execution_count": null,
      "outputs": []
    },
    {
      "cell_type": "code",
      "source": [
        "#method-1\n",
        "for i in range(1,5):\n",
        "  print(i)"
      ],
      "metadata": {
        "colab": {
          "base_uri": "https://localhost:8080/"
        },
        "id": "7DY2wDIPC4q6",
        "outputId": "0da970f0-9544-4211-ddd5-3366b4e54d01"
      },
      "id": "7DY2wDIPC4q6",
      "execution_count": null,
      "outputs": [
        {
          "output_type": "stream",
          "name": "stdout",
          "text": [
            "1\n",
            "2\n",
            "3\n",
            "4\n"
          ]
        }
      ]
    },
    {
      "cell_type": "code",
      "source": [
        "for i in range(1,10,2):\n",
        "  print(i)"
      ],
      "metadata": {
        "colab": {
          "base_uri": "https://localhost:8080/"
        },
        "id": "1oiO-kZeDGxn",
        "outputId": "6b1037b7-f4a5-45e1-8ce0-593528cd6de2"
      },
      "id": "1oiO-kZeDGxn",
      "execution_count": null,
      "outputs": [
        {
          "output_type": "stream",
          "name": "stdout",
          "text": [
            "1\n",
            "3\n",
            "5\n",
            "7\n",
            "9\n"
          ]
        }
      ]
    },
    {
      "cell_type": "code",
      "source": [],
      "metadata": {
        "id": "cXRALO_sDM3k"
      },
      "id": "cXRALO_sDM3k",
      "execution_count": null,
      "outputs": []
    },
    {
      "cell_type": "markdown",
      "source": [
        "here 2 is the gap\n"
      ],
      "metadata": {
        "id": "PnguYtd_DiUV"
      },
      "id": "PnguYtd_DiUV"
    },
    {
      "cell_type": "code",
      "source": [
        "#nested for looop"
      ],
      "metadata": {
        "id": "RhFtSVjcDlpP"
      },
      "id": "RhFtSVjcDlpP",
      "execution_count": null,
      "outputs": []
    },
    {
      "cell_type": "code",
      "source": [
        "for i in range(3):\n",
        "  for j in range(2):\n",
        "    print(f\"i={i},j={j}\")"
      ],
      "metadata": {
        "colab": {
          "base_uri": "https://localhost:8080/"
        },
        "id": "1gfm919lFgY7",
        "outputId": "3c630ea6-1c0d-4ad1-b7a6-2555d3ab6615"
      },
      "id": "1gfm919lFgY7",
      "execution_count": null,
      "outputs": [
        {
          "output_type": "stream",
          "name": "stdout",
          "text": [
            "i=0,j=0\n",
            "i=0,j=1\n",
            "i=1,j=0\n",
            "i=1,j=1\n",
            "i=2,j=0\n",
            "i=2,j=1\n"
          ]
        }
      ]
    },
    {
      "cell_type": "code",
      "source": [
        "i = input(\"enter your name: \")\n",
        "print(f\"hello , {i}, thank you for reaching out\")"
      ],
      "metadata": {
        "colab": {
          "base_uri": "https://localhost:8080/"
        },
        "id": "egcwuGm2GAcr",
        "outputId": "63528fe9-caef-4c5f-f9ad-575c3963bf96"
      },
      "id": "egcwuGm2GAcr",
      "execution_count": null,
      "outputs": [
        {
          "output_type": "stream",
          "name": "stdout",
          "text": [
            "enter your name: aman\n",
            "hello , aman, thank you for reaching out\n"
          ]
        }
      ]
    },
    {
      "cell_type": "code",
      "source": [
        "#star pattern :\n"
      ],
      "metadata": {
        "id": "JkK5zGtmGQvK"
      },
      "id": "JkK5zGtmGQvK",
      "execution_count": null,
      "outputs": []
    },
    {
      "cell_type": "code",
      "source": [
        "n= 5\n",
        "for i in range(1,n+1):\n",
        "  print(\"*\"*i)"
      ],
      "metadata": {
        "colab": {
          "base_uri": "https://localhost:8080/"
        },
        "id": "oTUB9AWCGnrx",
        "outputId": "4d6c701c-0fc2-43cb-9395-ef04419dfb95"
      },
      "id": "oTUB9AWCGnrx",
      "execution_count": null,
      "outputs": [
        {
          "output_type": "stream",
          "name": "stdout",
          "text": [
            "*\n",
            "**\n",
            "***\n",
            "****\n",
            "*****\n"
          ]
        }
      ]
    },
    {
      "cell_type": "code",
      "source": [
        "#hollow star pattern"
      ],
      "metadata": {
        "id": "dpLL8AjaHVjH"
      },
      "id": "dpLL8AjaHVjH",
      "execution_count": null,
      "outputs": []
    },
    {
      "cell_type": "code",
      "source": [
        "n=5\n",
        "for i in range (1,n+1):\n",
        "  if i==1 or i==n:\n",
        "   print(\"*\" * i)#for 1st and last rows\n",
        "  else:\n",
        "    print(\"*\" + \" \" * (i-2) + \"*\")#middle rows with sapces"
      ],
      "metadata": {
        "colab": {
          "base_uri": "https://localhost:8080/"
        },
        "id": "TgP2OgwSHwbl",
        "outputId": "16151e85-5eaf-4508-8cd1-dca7db149d8a"
      },
      "id": "TgP2OgwSHwbl",
      "execution_count": null,
      "outputs": [
        {
          "output_type": "stream",
          "name": "stdout",
          "text": [
            "*\n",
            "**\n",
            "* *\n",
            "*  *\n",
            "*****\n"
          ]
        }
      ]
    },
    {
      "cell_type": "code",
      "source": [
        "#pyramid pattern"
      ],
      "metadata": {
        "id": "7oWODJe6I4D7"
      },
      "id": "7oWODJe6I4D7",
      "execution_count": null,
      "outputs": []
    },
    {
      "cell_type": "code",
      "source": [
        "n=5\n",
        "for i in range(1,n+1):\n",
        "  print(\" \" * (n-i) + \"*\" * (2*i-1))"
      ],
      "metadata": {
        "colab": {
          "base_uri": "https://localhost:8080/"
        },
        "id": "1s7blfxyJKuH",
        "outputId": "e781c749-2ee6-4b12-f5da-0324b23bb834"
      },
      "id": "1s7blfxyJKuH",
      "execution_count": null,
      "outputs": [
        {
          "output_type": "stream",
          "name": "stdout",
          "text": [
            "    *\n",
            "   ***\n",
            "  *****\n",
            " *******\n",
            "*********\n"
          ]
        }
      ]
    },
    {
      "cell_type": "code",
      "source": [
        "# n=5 ,i=1\n",
        "#  \" \"*(5-1)+\" *\" * (2*1-1)\n",
        "\n",
        "#this is the logic"
      ],
      "metadata": {
        "id": "nJvF-mdnKf4e"
      },
      "id": "nJvF-mdnKf4e",
      "execution_count": null,
      "outputs": []
    },
    {
      "cell_type": "code",
      "source": [
        "#While Loop\n",
        "\n",
        "#1. initialization\n",
        "#2.condition\n",
        "#3.increment or decrement"
      ],
      "metadata": {
        "id": "Cy8hC-q2LLQ9"
      },
      "id": "Cy8hC-q2LLQ9",
      "execution_count": null,
      "outputs": []
    },
    {
      "cell_type": "code",
      "source": [
        "#printing 1 to 4\n",
        "i=1\n",
        "n=4\n",
        "while i<=n : #condition\n",
        "  print(i)\n",
        "  i=i+1 #increment"
      ],
      "metadata": {
        "colab": {
          "base_uri": "https://localhost:8080/"
        },
        "id": "FQFaDnVfLNTH",
        "outputId": "aeedd36a-6079-4406-e3e4-f55b9602d042"
      },
      "id": "FQFaDnVfLNTH",
      "execution_count": null,
      "outputs": [
        {
          "output_type": "stream",
          "name": "stdout",
          "text": [
            "1\n",
            "2\n",
            "3\n",
            "4\n"
          ]
        }
      ]
    },
    {
      "cell_type": "code",
      "source": [
        "i = int(input(\"enter a number: \"))\n",
        "n=int(input(\"enter last  number: \"))\n",
        "p= int(input(\"enter the gap: \"))\n",
        "while(i<=n):\n",
        "  print(i)\n",
        "  i=i+p"
      ],
      "metadata": {
        "colab": {
          "base_uri": "https://localhost:8080/"
        },
        "id": "MAeRBZCdM284",
        "outputId": "5f377ef1-9d9a-49ee-8000-befc01095753"
      },
      "id": "MAeRBZCdM284",
      "execution_count": null,
      "outputs": [
        {
          "output_type": "stream",
          "name": "stdout",
          "text": [
            "enter a number: 1\n",
            "enter last  number: 20\n",
            "enter the gap: 5\n",
            "1\n",
            "6\n",
            "11\n",
            "16\n"
          ]
        }
      ]
    },
    {
      "cell_type": "code",
      "source": [
        "#reversing the numbers"
      ],
      "metadata": {
        "id": "jxWqqfAgNhD0"
      },
      "id": "jxWqqfAgNhD0",
      "execution_count": null,
      "outputs": []
    },
    {
      "cell_type": "code",
      "source": [
        "i= 5\n",
        "n=1\n",
        "while(i>=n):\n",
        "  print(i)\n",
        "  i=i-1"
      ],
      "metadata": {
        "colab": {
          "base_uri": "https://localhost:8080/"
        },
        "id": "jNGNHLsGOCD1",
        "outputId": "f5eef3e1-470c-45b6-c5b0-a23936fb2c15"
      },
      "id": "jNGNHLsGOCD1",
      "execution_count": null,
      "outputs": [
        {
          "output_type": "stream",
          "name": "stdout",
          "text": [
            "5\n",
            "4\n",
            "3\n",
            "2\n",
            "1\n"
          ]
        }
      ]
    },
    {
      "cell_type": "code",
      "source": [
        "#sum of elements\n",
        "i=1\n",
        "n=4\n",
        "sum=0\n",
        "while(i<=n):\n",
        " sum=sum+i\n",
        " i=i+1\n",
        "print(sum)\n"
      ],
      "metadata": {
        "colab": {
          "base_uri": "https://localhost:8080/"
        },
        "id": "GbwXWNBgOJ8M",
        "outputId": "3c71ee64-1e03-4e5d-b08b-3bf2ea7c72a3"
      },
      "id": "GbwXWNBgOJ8M",
      "execution_count": null,
      "outputs": [
        {
          "output_type": "stream",
          "name": "stdout",
          "text": [
            "10\n"
          ]
        }
      ]
    },
    {
      "cell_type": "code",
      "source": [
        "print(\"enter your name\")\n",
        "name=input()\n",
        "print(\"hello\",name)"
      ],
      "metadata": {
        "id": "H6h8x15GP9dV",
        "colab": {
          "base_uri": "https://localhost:8080/"
        },
        "outputId": "a5f48bca-6f57-4737-9450-bb677bca30cb"
      },
      "id": "H6h8x15GP9dV",
      "execution_count": null,
      "outputs": [
        {
          "output_type": "stream",
          "name": "stdout",
          "text": [
            "enter your name\n",
            "aman\n",
            "hello aman\n"
          ]
        }
      ]
    },
    {
      "cell_type": "code",
      "source": [
        "#take three variable:\n",
        "\n",
        "a=int(input(\"enter 1st value\"))\n",
        "b=int(input(\"enter 2nd value \"))\n",
        "c=int(input(\" enter 3d value\"))\n",
        "\n",
        "if (a>b and a>c):\n",
        "  print(\"a is greater: \")\n",
        "elif(b>a and b>c):\n",
        "  print(\"b isgreater: \")\n",
        "else:\n",
        "  print(\"c is greaterr: \")\n"
      ],
      "metadata": {
        "colab": {
          "base_uri": "https://localhost:8080/"
        },
        "id": "kdeO51z0Jt1q",
        "outputId": "7c7b4ee3-96d8-4af5-c1b4-c782b1f6f92b"
      },
      "id": "kdeO51z0Jt1q",
      "execution_count": null,
      "outputs": [
        {
          "output_type": "stream",
          "name": "stdout",
          "text": [
            "enter 1st value20\n",
            "enter 2nd value 40\n",
            " enter 3d value50\n",
            "c is greaterr\n"
          ]
        }
      ]
    },
    {
      "cell_type": "code",
      "source": [
        "x=10                                                     #pyhton is a dynamic typed programming language\n",
        "if(x>=10):                                                   #automatically detect  datatype at runtime\n",
        "  print(\"hello\")"
      ],
      "metadata": {
        "colab": {
          "base_uri": "https://localhost:8080/"
        },
        "id": "9yl3xHrNK4hs",
        "outputId": "a1c93635-71c9-482e-b6fb-f8f81822a0e9"
      },
      "id": "9yl3xHrNK4hs",
      "execution_count": null,
      "outputs": [
        {
          "output_type": "stream",
          "name": "stdout",
          "text": [
            "hello\n"
          ]
        }
      ]
    },
    {
      "cell_type": "code",
      "source": [
        "x=8                                                    #pyhton is a dynamic typed programming language\n",
        "if(x>=10):                                                   #automatically detect  datatype at runtime\n",
        "  print(\"hello\")\n",
        "else:\n",
        "  print(\"false condition\")\n"
      ],
      "metadata": {
        "colab": {
          "base_uri": "https://localhost:8080/"
        },
        "id": "S_iJHATZMp-M",
        "outputId": "aa1afa2b-d566-484e-d065-7dc8aed813aa"
      },
      "id": "S_iJHATZMp-M",
      "execution_count": null,
      "outputs": [
        {
          "output_type": "stream",
          "name": "stdout",
          "text": [
            "false condition\n"
          ]
        }
      ]
    },
    {
      "cell_type": "code",
      "source": [
        "x=12\n",
        "y=20\n",
        "x>10 and y>15"
      ],
      "metadata": {
        "colab": {
          "base_uri": "https://localhost:8080/"
        },
        "id": "lIFEF2KmNfUZ",
        "outputId": "ab41d863-67cb-4773-f950-bf76600210dc"
      },
      "id": "lIFEF2KmNfUZ",
      "execution_count": null,
      "outputs": [
        {
          "output_type": "execute_result",
          "data": {
            "text/plain": [
              "True"
            ]
          },
          "metadata": {},
          "execution_count": 11
        }
      ]
    },
    {
      "cell_type": "code",
      "source": [
        "x=5\n",
        "y=20\n",
        "if(x>10 or y>15):\n",
        "  print(\"hello\")\n",
        "else:\n",
        "  print(\"false condition\")"
      ],
      "metadata": {
        "colab": {
          "base_uri": "https://localhost:8080/"
        },
        "id": "AtP5KukXN1Vh",
        "outputId": "3f01c396-d93f-4ce2-b79c-6ef12a9f5761"
      },
      "id": "AtP5KukXN1Vh",
      "execution_count": null,
      "outputs": [
        {
          "output_type": "stream",
          "name": "stdout",
          "text": [
            "hello\n"
          ]
        }
      ]
    },
    {
      "cell_type": "code",
      "source": [
        "# prompt: #variable is multiple of 2 and 6 print hi otherwise bye\n",
        "\n",
        "x=int(input(\"enter a number\"))\n",
        "if(x%2==0 ):\n",
        "  print(\"hi\")\n",
        "elif(x%6==0):\n",
        "  print(\"hello\")\n",
        "else:\n",
        "  print(\"bye\")"
      ],
      "metadata": {
        "colab": {
          "base_uri": "https://localhost:8080/"
        },
        "id": "FD85mD9lOXEN",
        "outputId": "f7baeede-fc04-49e5-a4c7-b57b1d440a01"
      },
      "id": "FD85mD9lOXEN",
      "execution_count": null,
      "outputs": [
        {
          "output_type": "stream",
          "name": "stdout",
          "text": [
            "enter a number17\n",
            "bye\n"
          ]
        }
      ]
    },
    {
      "cell_type": "code",
      "source": [
        "# take a varialbe name as age if\n",
        "#age>10 print child\n",
        "# age>18 adult\n",
        "#age>30 mature\n",
        "#age >60 old citizen\n",
        "#else infant\n",
        "\n",
        "age=int(input(\"enter your age\"))\n",
        "if(age<=10 and age>=18):\n",
        "  print(\"child\")\n",
        "elif(age>=18):\n",
        "    print(\"adult\")\n",
        "elif(age>=30):\n",
        "   print(\"mature\")\n",
        "elif(age>=60):\n",
        "  print(\"old citizen\")\n",
        "else:\n",
        "   print(\"infant\")"
      ],
      "metadata": {
        "colab": {
          "base_uri": "https://localhost:8080/"
        },
        "id": "_qfEhcklPfWb",
        "outputId": "910bcf1f-d275-4191-9a4a-8191d7ffa833"
      },
      "id": "_qfEhcklPfWb",
      "execution_count": null,
      "outputs": [
        {
          "output_type": "stream",
          "name": "stdout",
          "text": [
            "enter your age20\n",
            "adult\n"
          ]
        }
      ]
    },
    {
      "cell_type": "code",
      "source": [
        "#nested if else\n",
        "age=int(input(\"enter your age\"))\n",
        "if(age>=5):\n",
        "  print(\"addhar card is printed\")\n",
        "  if(age>=18):                                                       #be sure of any indentation\n",
        "    print(\" aadhar card  + pan card can be  linked\")\n",
        "  else:\n",
        "    print(\"pan card not created\")\n",
        "else:\n",
        "  print(\"age is small\")"
      ],
      "metadata": {
        "colab": {
          "base_uri": "https://localhost:8080/"
        },
        "id": "1U-HGHO_R3-R",
        "outputId": "3ca27997-e370-45ac-8d0d-c7874d240f4c"
      },
      "id": "1U-HGHO_R3-R",
      "execution_count": null,
      "outputs": [
        {
          "output_type": "stream",
          "name": "stdout",
          "text": [
            "enter your age60\n",
            "addhar card is printed\n",
            " aadhar card  + pan card can be  linked\n"
          ]
        }
      ]
    },
    {
      "cell_type": "code",
      "source": [
        "#if a number is div by2 print div by 2\n",
        "#if a number is div by 3 print div by 6\n",
        "#other wise number is not divisibele by 2 or 3\n",
        "\n",
        "num=int(input(\"enter a number\"))\n",
        "if(num%2==0):\n",
        "  print(\"this number is divisible by 2\")\n",
        "  if(num%3==0):\n",
        "    print(\"this number is divisible by 3\")\n",
        "  else:\n",
        "    print(\"this num is divisible by 6\")\n",
        "else:\n",
        "  print(\"this num is not divisibele by 2 or 3\")"
      ],
      "metadata": {
        "colab": {
          "base_uri": "https://localhost:8080/"
        },
        "id": "py0FwVqsSXPX",
        "outputId": "807064aa-4c0f-4f0f-9281-04c7064cc2a9"
      },
      "id": "py0FwVqsSXPX",
      "execution_count": null,
      "outputs": [
        {
          "output_type": "stream",
          "name": "stdout",
          "text": [
            "enter a number12\n",
            "this number is divisible by 2\n",
            "this number is divisible by 3\n"
          ]
        }
      ]
    },
    {
      "cell_type": "code",
      "source": [
        "print(\"hey \" , end= \"- \")\n",
        "print(\"hello\")"
      ],
      "metadata": {
        "colab": {
          "base_uri": "https://localhost:8080/"
        },
        "id": "nHBanhKDWG1d",
        "outputId": "8449fc54-a3b5-4473-8fd8-bb328246b98e"
      },
      "id": "nHBanhKDWG1d",
      "execution_count": null,
      "outputs": [
        {
          "output_type": "stream",
          "name": "stdout",
          "text": [
            "hey - hello\n"
          ]
        }
      ]
    },
    {
      "cell_type": "code",
      "source": [
        "#learning assginmetn\n",
        "\n",
        "#diff bw py ver2 and ver3 of pyhton"
      ],
      "metadata": {
        "id": "dQIBxTBDXZWF"
      },
      "id": "dQIBxTBDXZWF",
      "execution_count": null,
      "outputs": []
    },
    {
      "cell_type": "code",
      "source": [
        "#slicing opertors\n",
        " #  right to left   ....-5-4,-3-2,-1\n",
        "city =\"RAJASTHAN\"\n",
        "    #  012345678.... left to right\n",
        "\n",
        "print(city[0:3])\n",
        "      #starting value: stopping value\n",
        "print(city[0])"
      ],
      "metadata": {
        "id": "xzSFzJJEcP6J",
        "colab": {
          "base_uri": "https://localhost:8080/"
        },
        "outputId": "02779338-7173-4132-c259-2af02305fce4"
      },
      "id": "xzSFzJJEcP6J",
      "execution_count": 4,
      "outputs": [
        {
          "output_type": "stream",
          "name": "stdout",
          "text": [
            "RAJ\n",
            "R\n"
          ]
        }
      ]
    },
    {
      "cell_type": "code",
      "source": [
        "city =\"RAJASTHAN\"\n",
        "    #  012345678.... right to left\n",
        "\n",
        "print(city[2:5:1])\n",
        "      #starting value: stopping value: skipping value(steep six=ze)\n",
        "print(city[0])"
      ],
      "metadata": {
        "colab": {
          "base_uri": "https://localhost:8080/"
        },
        "id": "wkeHkHO0Uj0p",
        "outputId": "5e7e05ba-6165-4650-adee-f4ffcc24c51d"
      },
      "id": "wkeHkHO0Uj0p",
      "execution_count": 7,
      "outputs": [
        {
          "output_type": "stream",
          "name": "stdout",
          "text": [
            "JAS\n",
            "R\n"
          ]
        }
      ]
    },
    {
      "cell_type": "code",
      "source": [
        "city =\"RAJASTHAN\"\n",
        "    #  012345678.... right to left\n",
        "\n",
        "print(city[:4])"
      ],
      "metadata": {
        "colab": {
          "base_uri": "https://localhost:8080/"
        },
        "id": "CRB5ne_9V15X",
        "outputId": "b56afc61-a3f8-452f-f56e-a7089d82058a"
      },
      "id": "CRB5ne_9V15X",
      "execution_count": 12,
      "outputs": [
        {
          "output_type": "stream",
          "name": "stdout",
          "text": [
            "RAJA\n"
          ]
        }
      ]
    },
    {
      "cell_type": "code",
      "source": [
        "city =\"RAJASTHAN\"\n",
        "    #  012345678.... right to left\n",
        "\n",
        "print(city[2:7:3])\n",
        "#0 +2 =>2 ,"
      ],
      "metadata": {
        "colab": {
          "base_uri": "https://localhost:8080/"
        },
        "id": "RxjAMxQ1WeZf",
        "outputId": "c3140447-97c2-4bbb-95e8-cedccf2b6863"
      },
      "id": "RxjAMxQ1WeZf",
      "execution_count": 15,
      "outputs": [
        {
          "output_type": "stream",
          "name": "stdout",
          "text": [
            "JT\n"
          ]
        }
      ]
    },
    {
      "cell_type": "code",
      "source": [
        "city =\"RAJASTHAN\"\n",
        "    #  012345678.... right to left\n",
        "\n",
        "print(city[0:4:-1])\n",
        "#0 -1 => -1\n",
        "#empty striing\n"
      ],
      "metadata": {
        "colab": {
          "base_uri": "https://localhost:8080/"
        },
        "id": "yB9f4dkUXemR",
        "outputId": "1baae4ed-a975-4b5f-d533-d7a538d9b855"
      },
      "id": "yB9f4dkUXemR",
      "execution_count": 16,
      "outputs": [
        {
          "output_type": "stream",
          "name": "stdout",
          "text": [
            "\n"
          ]
        }
      ]
    },
    {
      "cell_type": "code",
      "source": [
        "city =\"RAJASTHAN\"\n",
        "    #  012345678.... right to left\n",
        "\n",
        "print(city[-1:-3])\n",
        "#-1+1=>0\n"
      ],
      "metadata": {
        "colab": {
          "base_uri": "https://localhost:8080/"
        },
        "outputId": "fda9dd9e-ce3f-4f96-e262-6842d3c5f225",
        "id": "_W6q9GxHYKiC"
      },
      "execution_count": 17,
      "outputs": [
        {
          "output_type": "stream",
          "name": "stdout",
          "text": [
            "\n"
          ]
        }
      ],
      "id": "_W6q9GxHYKiC"
    },
    {
      "cell_type": "code",
      "source": [
        "city =\"RAJASTHAN\"\n",
        "    #  012345678.... right to left\n",
        "\n",
        "print(city[-1:-3:-1])\n",
        "#-1+ -1=> -2\n"
      ],
      "metadata": {
        "colab": {
          "base_uri": "https://localhost:8080/"
        },
        "id": "0K4WR0KAYiIj",
        "outputId": "1efb1c24-1ef6-491c-892a-bc486f63d194"
      },
      "id": "0K4WR0KAYiIj",
      "execution_count": 18,
      "outputs": [
        {
          "output_type": "stream",
          "name": "stdout",
          "text": [
            "NA\n"
          ]
        }
      ]
    },
    {
      "cell_type": "code",
      "source": [
        "city =\"RAJASTHAN\"\n",
        "    #  012345678.... right to left\n",
        "print(city[:])\n",
        "print(city[::-1])"
      ],
      "metadata": {
        "colab": {
          "base_uri": "https://localhost:8080/"
        },
        "id": "9kO7-j3BYuVn",
        "outputId": "8a99e99c-2506-42bd-bf30-cd98875d786d"
      },
      "id": "9kO7-j3BYuVn",
      "execution_count": 20,
      "outputs": [
        {
          "output_type": "stream",
          "name": "stdout",
          "text": [
            "RAJASTHAN\n",
            "NAHTSAJAR\n"
          ]
        }
      ]
    },
    {
      "cell_type": "code",
      "source": [
        "#airthmetic\n",
        "\n",
        "2*2*2\n",
        "2**3\n",
        "\n",
        "10/2 #normal division\n",
        "10//2 #floor division givies answer in interger"
      ],
      "metadata": {
        "colab": {
          "base_uri": "https://localhost:8080/"
        },
        "id": "-K3Ce9yxY5ec",
        "outputId": "cb49194c-6c81-4ec6-83f5-f34dbfd10c68"
      },
      "id": "-K3Ce9yxY5ec",
      "execution_count": 22,
      "outputs": [
        {
          "output_type": "execute_result",
          "data": {
            "text/plain": [
              "5"
            ]
          },
          "metadata": {},
          "execution_count": 22
        }
      ]
    },
    {
      "cell_type": "code",
      "source": [
        "11//2+5-1"
      ],
      "metadata": {
        "colab": {
          "base_uri": "https://localhost:8080/"
        },
        "id": "13-J8GiLZuPQ",
        "outputId": "0a2dc463-cf04-44f7-8058-c2910fe1b2fe"
      },
      "id": "13-J8GiLZuPQ",
      "execution_count": 23,
      "outputs": [
        {
          "output_type": "execute_result",
          "data": {
            "text/plain": [
              "9"
            ]
          },
          "metadata": {},
          "execution_count": 23
        }
      ]
    },
    {
      "cell_type": "code",
      "source": [
        "#comparison operators\n",
        "#assginment opererators\n",
        "x=10\n",
        "x+15 #x+=15\n",
        "\n",
        "print(x)"
      ],
      "metadata": {
        "colab": {
          "base_uri": "https://localhost:8080/"
        },
        "id": "6ZLG3-YUaKiT",
        "outputId": "75a84a15-3452-468d-ddf4-f62a0470f041"
      },
      "id": "6ZLG3-YUaKiT",
      "execution_count": 26,
      "outputs": [
        {
          "output_type": "stream",
          "name": "stdout",
          "text": [
            "10\n"
          ]
        }
      ]
    },
    {
      "cell_type": "code",
      "source": [
        "y=6\n",
        "y/=3   #y=y/3 or y//=3\n",
        "print(y)"
      ],
      "metadata": {
        "colab": {
          "base_uri": "https://localhost:8080/"
        },
        "id": "ChNKTKyXasWf",
        "outputId": "12c1c160-cb27-401d-bbc5-671527dcbeb5"
      },
      "id": "ChNKTKyXasWf",
      "execution_count": 28,
      "outputs": [
        {
          "output_type": "stream",
          "name": "stdout",
          "text": [
            "2.0\n"
          ]
        }
      ]
    },
    {
      "cell_type": "code",
      "source": [
        "#logical operators\n",
        "#and or not\n",
        "#and takes all coditions as true\n"
      ],
      "metadata": {
        "id": "Iu1QizFLa7wE"
      },
      "id": "Iu1QizFLa7wE",
      "execution_count": null,
      "outputs": []
    },
    {
      "cell_type": "code",
      "source": [
        "#membership operator\n",
        "\n",
        "\"y\" in \"yash\"\n",
        "\"z\" in \"yash\"\n",
        "\"Y\" in \"yash\"\n",
        "\"Y\" not in \"yash\"\n",
        "#checks y in yash"
      ],
      "metadata": {
        "colab": {
          "base_uri": "https://localhost:8080/"
        },
        "id": "0ecaEKZLbdcA",
        "outputId": "b1fa4419-abb2-4d24-f855-3f46808f10bf"
      },
      "id": "0ecaEKZLbdcA",
      "execution_count": 32,
      "outputs": [
        {
          "output_type": "execute_result",
          "data": {
            "text/plain": [
              "True"
            ]
          },
          "metadata": {},
          "execution_count": 32
        }
      ]
    },
    {
      "cell_type": "code",
      "source": [
        "# identity operators\n",
        "#check wheater a variable is a instance of a class  or not\n",
        "# to check the same memory address\n",
        "x=10\n",
        "#print(type(x))\n",
        "type(x) is int\n",
        "type(x) is not str\n",
        "\n"
      ],
      "metadata": {
        "colab": {
          "base_uri": "https://localhost:8080/"
        },
        "id": "Q7MbKWZ-b6qu",
        "outputId": "8118e069-716c-453d-aea5-18a58c592e1b"
      },
      "id": "Q7MbKWZ-b6qu",
      "execution_count": 35,
      "outputs": [
        {
          "output_type": "execute_result",
          "data": {
            "text/plain": [
              "False"
            ]
          },
          "metadata": {},
          "execution_count": 35
        }
      ]
    },
    {
      "cell_type": "code",
      "source": [
        "#bitwise operator\n",
        "# 2 bits in comp (0,1)(f,t)\n",
        "\n",
        "#8421 =>0-15\n",
        "# 128 64 32 16       8421=> 0-255\n",
        "                       #8421\n",
        "        #11           #1011\n",
        "        #14           #1110\n",
        "        #--------------------\n",
        "       # 11 & 14      1010\n",
        "                     # 8421\n",
        "                  #---> 8+2=10\n",
        "11 & 14  #--> gives ten ,  check the binary of the number, add them , and the resultant number will be the ans"
      ],
      "metadata": {
        "colab": {
          "base_uri": "https://localhost:8080/"
        },
        "id": "c434g6gJc8-A",
        "outputId": "d66903cb-e672-4abb-a8d3-db6418f691e5"
      },
      "id": "c434g6gJc8-A",
      "execution_count": 36,
      "outputs": [
        {
          "output_type": "execute_result",
          "data": {
            "text/plain": [
              "10"
            ]
          },
          "metadata": {},
          "execution_count": 36
        }
      ]
    },
    {
      "cell_type": "code",
      "source": [
        "13 & 7"
      ],
      "metadata": {
        "colab": {
          "base_uri": "https://localhost:8080/"
        },
        "id": "O4ShNT4QcfuU",
        "outputId": "5fa595f2-beb5-45bf-9fb7-2e6dd9a2049d"
      },
      "id": "O4ShNT4QcfuU",
      "execution_count": 37,
      "outputs": [
        {
          "output_type": "execute_result",
          "data": {
            "text/plain": [
              "5"
            ]
          },
          "metadata": {},
          "execution_count": 37
        }
      ]
    },
    {
      "cell_type": "code",
      "source": [
        "10|14     #used or logic"
      ],
      "metadata": {
        "colab": {
          "base_uri": "https://localhost:8080/"
        },
        "id": "dcSwLAikiAQP",
        "outputId": "8cbca301-2806-4d33-d6ea-34c5ecca5ac5"
      },
      "id": "dcSwLAikiAQP",
      "execution_count": 39,
      "outputs": [
        {
          "output_type": "execute_result",
          "data": {
            "text/plain": [
              "14"
            ]
          },
          "metadata": {},
          "execution_count": 39
        }
      ]
    },
    {
      "cell_type": "code",
      "source": [
        "# right bitwise shift ( right to left)\n",
        "#number // 2 **bit\n",
        "# 54>>3\n",
        "#54 // 2**3\n",
        "# 54//8 ==> 6\n",
        "\n",
        "54>>3"
      ],
      "metadata": {
        "colab": {
          "base_uri": "https://localhost:8080/"
        },
        "id": "F8SQJFjFiCUH",
        "outputId": "a071784a-da70-4a1b-c953-51dd32492400"
      },
      "id": "F8SQJFjFiCUH",
      "execution_count": 40,
      "outputs": [
        {
          "output_type": "execute_result",
          "data": {
            "text/plain": [
              "6"
            ]
          },
          "metadata": {},
          "execution_count": 40
        }
      ]
    },
    {
      "cell_type": "code",
      "source": [
        "# left shift (left to right)\n",
        "# num*2**bit\n",
        "\n"
      ],
      "metadata": {
        "id": "R6tiqvd4ipdj"
      },
      "id": "R6tiqvd4ipdj",
      "execution_count": null,
      "outputs": []
    }
  ],
  "metadata": {
    "kernelspec": {
      "display_name": "Python 3 (ipykernel)",
      "language": "python",
      "name": "python3"
    },
    "language_info": {
      "codemirror_mode": {
        "name": "ipython",
        "version": 3
      },
      "file_extension": ".py",
      "mimetype": "text/x-python",
      "name": "python",
      "nbconvert_exporter": "python",
      "pygments_lexer": "ipython3",
      "version": "3.12.7"
    },
    "colab": {
      "provenance": []
    }
  },
  "nbformat": 4,
  "nbformat_minor": 5
}