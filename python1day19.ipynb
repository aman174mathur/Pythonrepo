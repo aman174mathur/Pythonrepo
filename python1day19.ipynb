{
 "cells": [
  {
   "cell_type": "code",
   "execution_count": 2,
   "id": "78654cb9-95d5-47b2-9f32-7868cbabcac1",
   "metadata": {},
   "outputs": [
    {
     "name": "stdout",
     "output_type": "stream",
     "text": [
      "heelo\n"
     ]
    }
   ],
   "source": [
    "print(\"heelo\")"
   ]
  },
  {
   "cell_type": "code",
   "execution_count": 3,
   "id": "f38dfa28-4600-4808-a62c-314d73a02344",
   "metadata": {},
   "outputs": [],
   "source": [
    "#open => access mode \n",
    "#read / write \n",
    "#close"
   ]
  },
  {
   "cell_type": "code",
   "execution_count": 15,
   "id": "fa483357-071b-4932-9909-434919be38c0",
   "metadata": {},
   "outputs": [],
   "source": [
    "fileobj = open(\"regex1.txt\")   #by defalut read\n",
    "xdata= fileobj.read()   #to use data repetaedly\n",
    "fileobj.close()"
   ]
  },
  {
   "cell_type": "code",
   "execution_count": 16,
   "id": "ab50d700-c274-40e6-97ab-8c041373261a",
   "metadata": {},
   "outputs": [
    {
     "name": "stdout",
     "output_type": "stream",
     "text": [
      "hello aman hello world\n"
     ]
    }
   ],
   "source": [
    "print(xdata)"
   ]
  },
  {
   "cell_type": "code",
   "execution_count": 17,
   "id": "545fb8cc-b0e0-4f59-9fc8-3477879a0d2f",
   "metadata": {},
   "outputs": [],
   "source": [
    "#to write"
   ]
  },
  {
   "cell_type": "code",
   "execution_count": 1,
   "id": "760413e7-94c2-4a2c-8dbe-e8fbe77e5bed",
   "metadata": {},
   "outputs": [],
   "source": [
    "fileobj= open(\"regex1.txt\",\"w\")\n",
    "#w=> owerite all its previous content\n",
    "fileobj.write(\"hwvvlalskvbfbv;fd\")\n",
    "fileobj.close()"
   ]
  },
  {
   "cell_type": "code",
   "execution_count": 2,
   "id": "b3c2fa17-1368-41ba-9855-c4b5f34837c4",
   "metadata": {},
   "outputs": [
    {
     "name": "stdout",
     "output_type": "stream",
     "text": [
      "hwvvlalskvbfbv;fd\n"
     ]
    }
   ],
   "source": [
    "fileobj= open(\"regex1.txt\",\"r+\")\n",
    "xdata=fileobj.read()\n",
    "ydata= fileobj.write(\"##\")           #here write means adding to exsisting content after reading it line by line\n",
    "fileobj.close()\n",
    "\n",
    "print(xdata)"
   ]
  },
  {
   "cell_type": "code",
   "execution_count": 3,
   "id": "3b091b52-a070-4760-9652-774cae5a6bbd",
   "metadata": {},
   "outputs": [
    {
     "name": "stdout",
     "output_type": "stream",
     "text": [
      "vvlalskvbfbv;fd##\n"
     ]
    }
   ],
   "source": [
    "fileobj= open(\"regex1.txt\",\"r+\")\n",
    "ydata= fileobj.write(\"##\") #here we writing first and reading later so it will repalce the 1st charters accordingly\n",
    "xdata=fileobj.read()\n",
    "fileobj.close()\n",
    "\n",
    "print(xdata)   #gives the read data after writing"
   ]
  },
  {
   "cell_type": "code",
   "execution_count": 5,
   "id": "acc06128-1a98-44d7-bac8-d7e2d5063695",
   "metadata": {},
   "outputs": [
    {
     "name": "stdout",
     "output_type": "stream",
     "text": [
      "\n"
     ]
    }
   ],
   "source": [
    "#r+  and w+ \n",
    "fileobj= open(\"regex1.txt\",\"w+\")\n",
    "ydata= fileobj.write(\"##\") #here we writing first and reading later so it will repalce the 1st charters accordingly\n",
    "xdata=fileobj.read()\n",
    "fileobj.close()\n",
    "\n",
    "print(xdata)"
   ]
  },
  {
   "cell_type": "code",
   "execution_count": 9,
   "id": "dfe53cc4-1159-4137-9625-52429d00c1ad",
   "metadata": {},
   "outputs": [
    {
     "name": "stdout",
     "output_type": "stream",
     "text": [
      "1: 0\n",
      "2: 9\n",
      "3: 4\n",
      "sthan\n"
     ]
    }
   ],
   "source": [
    "fileobj= open(\"regex1.txt\",\"w+\")\n",
    "print(\"1:\",fileobj.tell())     #cursor position\n",
    "ydata= fileobj.write(\"Rajasthan\")\n",
    "print(\"2:\",fileobj.tell())\n",
    "\n",
    "#position change\n",
    "fileobj.seek(4)       #to go to the exact position at which you want to read from\n",
    "print(\"3:\",fileobj.tell())\n",
    "\n",
    "\n",
    "xdata=fileobj.read()\n",
    "fileobj.close()\n",
    "\n",
    "print(xdata)"
   ]
  },
  {
   "cell_type": "code",
   "execution_count": 10,
   "id": "4b43d9fe-94ca-41b1-becc-464eb121f4e9",
   "metadata": {},
   "outputs": [
    {
     "name": "stdout",
     "output_type": "stream",
     "text": [
      "Rajasthan\n"
     ]
    }
   ],
   "source": [
    "#METHOD 2  TO READ CONTENT FROM A FILE :\n",
    "with open(\"regex1.txt\",\"r\") as f:\n",
    "    x=f.read()\n",
    "\n",
    "print(x)\n",
    "#dont need to close here but the other method needs to "
   ]
  },
  {
   "cell_type": "code",
   "execution_count": 14,
   "id": "bb0a263f-0fa7-4754-acf7-ec3a97f646fc",
   "metadata": {},
   "outputs": [
    {
     "name": "stdout",
     "output_type": "stream",
     "text": [
      "raj \n",
      "\n",
      "heena \n",
      "\n"
     ]
    }
   ],
   "source": [
    "with open(\"regex1.txt\",\"r\") as f:\n",
    "    print(f.readline())\n",
    "    print(f.readline())#reads each line individualy\n"
   ]
  },
  {
   "cell_type": "code",
   "execution_count": 13,
   "id": "553a270d-22c3-48be-8b2e-1b3ffba590ee",
   "metadata": {},
   "outputs": [
    {
     "name": "stdout",
     "output_type": "stream",
     "text": [
      "raj \n",
      "\n",
      "heena \n",
      "\n",
      "aman\n"
     ]
    }
   ],
   "source": [
    "with open(\"regex1.txt\",\"r\") as f:\n",
    "    for line in f:      #using for loop for printing each line \n",
    "        print(line)"
   ]
  },
  {
   "cell_type": "code",
   "execution_count": 16,
   "id": "4ed7f18f-26ab-495c-b77a-c2a0d96d85ca",
   "metadata": {},
   "outputs": [
    {
     "name": "stdout",
     "output_type": "stream",
     "text": [
      "['raj \\n', 'heena \\n', 'aman']\n"
     ]
    }
   ],
   "source": [
    "with open(\"regex1.txt\" , \"r\") as f:\n",
    "    print(f.readlines())     #all the lines "
   ]
  },
  {
   "cell_type": "raw",
   "id": "ad810d22-cef8-43ee-a7c6-b1c15d4ce6c4",
   "metadata": {},
   "source": [
    "\"hey,tushar yash\".split(\",\")\n",
    "#converts string into list"
   ]
  },
  {
   "cell_type": "raw",
   "id": "66910a61-f5bd-4c47-8472-d5712ada4e39",
   "metadata": {},
   "source": [
    "\" \".join(['hey','tushar'])   #converts list into string"
   ]
  },
  {
   "cell_type": "code",
   "execution_count": 17,
   "id": "ecd2bafe-25b7-4efc-bd7b-a568c850a705",
   "metadata": {},
   "outputs": [
    {
     "name": "stdout",
     "output_type": "stream",
     "text": [
      "raj,10 <class 'str'>\n",
      "heena,20 <class 'str'>\n",
      "aman,30 <class 'str'>\n"
     ]
    }
   ],
   "source": [
    "with open(\"regex1.txt\",\"r\") as f:\n",
    "    for line in f:      #using for loop for printing each line \n",
    "        print(line.strip() , type(line))"
   ]
  },
  {
   "cell_type": "code",
   "execution_count": 22,
   "id": "c0f80652-9e8c-43b2-9169-74a3ab754d5b",
   "metadata": {},
   "outputs": [
    {
     "name": "stdout",
     "output_type": "stream",
     "text": [
      "['raj', '10\\n']\n",
      "['heena', '20\\n']\n",
      "['aman', '30']\n"
     ]
    }
   ],
   "source": [
    "with open(\"regex1.txt\",\"r\") as f:\n",
    "    for line in f:      #using for loop for printing each line \n",
    "        print(line.split(\",\"))                                                                    #list unpacking"
   ]
  },
  {
   "cell_type": "code",
   "execution_count": 28,
   "id": "864653db-269b-449d-af2c-628d19c9d63c",
   "metadata": {},
   "outputs": [
    {
     "name": "stdout",
     "output_type": "stream",
     "text": [
      "name: raj  age: 10\n",
      "name: heena  age: 20\n",
      "name: aman  age: 30\n"
     ]
    }
   ],
   "source": [
    "with open(\"regex1.txt\",\"r\") as f:\n",
    "    for line in f:\n",
    "        line=line.strip()\n",
    "        name,age=line.split(\",\")    #list unpacking\n",
    "        print(\"name:\",name,\" age:\",age)"
   ]
  },
  {
   "cell_type": "code",
   "execution_count": 29,
   "id": "555e80d5-d640-4b64-b094-19fee467db43",
   "metadata": {},
   "outputs": [],
   "source": [
    "#COMMA SEPRATED VARIABLE\n",
    "#DELIMITER SEPRATED VARIABLE"
   ]
  },
  {
   "cell_type": "code",
   "execution_count": 30,
   "id": "1a454e85-43f1-4330-8c15-04515fe0a389",
   "metadata": {},
   "outputs": [
    {
     "name": "stdout",
     "output_type": "stream",
     "text": [
      "name: raj Age: 10\n",
      "name: heena Age: 20\n",
      "name: aman Age: 30\n"
     ]
    }
   ],
   "source": [
    "import csv\n",
    "with open(\"regex1.txt\",\"r\") as fileobj:\n",
    "    fCsv=csv.reader(fileobj)\n",
    "    for line in fCsv:\n",
    "        name,age=line\n",
    "        print(\"name:\",name,\"Age:\",age)"
   ]
  },
  {
   "cell_type": "code",
   "execution_count": null,
   "id": "31e1d982-54d8-4621-a250-22c97b20950c",
   "metadata": {},
   "outputs": [],
   "source": []
  }
 ],
 "metadata": {
  "kernelspec": {
   "display_name": "Python 3 (ipykernel)",
   "language": "python",
   "name": "python3"
  },
  "language_info": {
   "codemirror_mode": {
    "name": "ipython",
    "version": 3
   },
   "file_extension": ".py",
   "mimetype": "text/x-python",
   "name": "python",
   "nbconvert_exporter": "python",
   "pygments_lexer": "ipython3",
   "version": "3.12.7"
  }
 },
 "nbformat": 4,
 "nbformat_minor": 5
}
