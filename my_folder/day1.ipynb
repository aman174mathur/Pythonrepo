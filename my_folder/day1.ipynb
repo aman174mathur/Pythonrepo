{
 "cells": [
  {
   "cell_type": "code",
   "execution_count": 3,
   "metadata": {},
   "outputs": [
    {
     "name": "stdout",
     "output_type": "stream",
     "text": [
      "[24, 56, 45, 230]\n"
     ]
    }
   ],
   "source": [
    "list1 = [230,45,56,24]\n",
    "reversed_list = []\n",
    "for i in range(len(list1) - 1, -1, -1):\n",
    "    reversed_list.append(list1[i])\n",
    "\n",
    "print(reversed_list)\n"
   ]
  },
  {
   "cell_type": "code",
   "execution_count": 2,
   "metadata": {},
   "outputs": [],
   "source": [
    "user_input = ''\n",
    "while user_input != 'quit':\n",
    "    user_input = input('Enter your value: ')"
   ]
  },
  {
   "cell_type": "code",
   "execution_count": 6,
   "metadata": {},
   "outputs": [
    {
     "name": "stdout",
     "output_type": "stream",
     "text": [
      "The factorial of 8 is 40320\n"
     ]
    }
   ],
   "source": [
    "def factorial(num):\n",
    "    if num < 0 :\n",
    "        return \"invalid\"\n",
    "    elif (num == 0):\n",
    "        return 1\n",
    "    else:\n",
    "        result = 1\n",
    "        for i in range(1,num+1):\n",
    "            result = result * i\n",
    "            \n",
    "        return result\n",
    "    \n",
    "x = 8\n",
    "fact = factorial(x)\n",
    "print(f\"The factorial of {x} is {fact}\")  "
   ]
  },
  {
   "cell_type": "code",
   "execution_count": 7,
   "metadata": {},
   "outputs": [
    {
     "name": "stdout",
     "output_type": "stream",
     "text": [
      "The factorial of 8 is 40320\n",
      "The factorial of 0 is 1\n",
      "None\n"
     ]
    }
   ],
   "source": [
    "def factorial(n):\n",
    "    \"\"\"\n",
    "    Calculates the factorial of a non-negative integer.\n",
    "\n",
    "    Args:\n",
    "      n: A non-negative integer.\n",
    "\n",
    "    Returns:\n",
    "      The factorial of n, or 1 if n is 0.\n",
    "      Returns None if n is negative.\n",
    "    \"\"\"\n",
    "    if n < 0:\n",
    "        return None  # Factorial is not defined for negative numbers\n",
    "    elif n == 0:\n",
    "        return 1\n",
    "    else:\n",
    "        result = 1\n",
    "        for i in range(1, n + 1):\n",
    "            result *= i\n",
    "        return result\n",
    "\n",
    "# Example usage:\n",
    "num = 8\n",
    "fact = factorial(num)\n",
    "\n",
    "if fact is not None:\n",
    "    print(f\"The factorial of {num} is {fact}\")\n",
    "else:\n",
    "    print(f\"Factorial of {num} is undefined, because {num} is negative.\")\n",
    "\n",
    "num2 = 0\n",
    "fact2 = factorial(num2)\n",
    "print(f\"The factorial of {num2} is {fact2}\")\n",
    "\n",
    "num3 = -3\n",
    "fact3 = factorial(num3)\n",
    "print(fact3)"
   ]
  },
  {
   "cell_type": "code",
   "execution_count": 10,
   "metadata": {},
   "outputs": [
    {
     "name": "stdout",
     "output_type": "stream",
     "text": [
      "[10, 30, 40, 50]\n",
      "50\n"
     ]
    }
   ],
   "source": [
    "def find_largest_and_list(input_list):\n",
    "    \"\"\"\n",
    "    Finds the largest number in the input list and creates a new list\n",
    "    where each element is the largest number encountered so far.\n",
    "\n",
    "    Args:\n",
    "        input_list: A list of integers.\n",
    "\n",
    "    Returns:\n",
    "        A tuple containing the new list and the largest number.\n",
    "    \"\"\"\n",
    "    largest = 0\n",
    "    result_list = []\n",
    "    for num in input_list:\n",
    "        if num > largest:\n",
    "            largest = num\n",
    "        result_list.append(largest)\n",
    "    return result_list, largest\n",
    "\n",
    "# Example usage\n",
    "list1 = [10, 30, 40, 50]\n",
    "list2, largest = find_largest_and_list(list1)\n",
    "print(list2)\n",
    "print(largest)"
   ]
  },
  {
   "cell_type": "code",
   "execution_count": null,
   "metadata": {},
   "outputs": [
    {
     "name": "stdout",
     "output_type": "stream",
     "text": [
      "not\n",
      "not\n",
      "not\n",
      "not\n",
      "not\n",
      "palindrome\n",
      "['b', 'h', 'a', 'v', 'y', 'a']\n"
     ]
    }
   ],
   "source": [
    "str = 'bhavya'\n",
    "list1 = []\n",
    "for i in str:\n",
    "    list1.append(i)\n",
    "\n",
    "for i in range(0, 1):  # Loop through the first index\n",
    "    for j in range(len(list1) - 1, -1, -1):  # Loop through the list in reverse\n",
    "        if list1[i] == list1[j]:\n",
    "            print(\"palindrome\")\n",
    "            \n",
    "        else:\n",
    "            print(\"not\")\n",
    "print(list1)"
   ]
  },
  {
   "cell_type": "code",
   "execution_count": 2,
   "metadata": {},
   "outputs": [
    {
     "name": "stdout",
     "output_type": "stream",
     "text": [
      "7 \n",
      "7 7 \n",
      "7 7 7 \n",
      "7 7 7 7 \n",
      "7 7 7 7 7 \n"
     ]
    }
   ],
   "source": [
    "n =5\n",
    "for i in range(n):\n",
    "    for j in range(i+1):\n",
    "        print(\"7\", end=\" \")\n",
    "    print()"
   ]
  },
  {
   "cell_type": "code",
   "execution_count": 3,
   "metadata": {},
   "outputs": [
    {
     "name": "stdout",
     "output_type": "stream",
     "text": [
      "6 6 6 6 6 \n",
      "6 6 6 6 \n",
      "6 6 6 \n",
      "6 6 \n",
      "6 \n"
     ]
    }
   ],
   "source": [
    "n =5 \n",
    "for i in range(n):\n",
    "    for j in range(n-i):\n",
    "        print(\"6\" , end = \" \")\n",
    "    print()"
   ]
  },
  {
   "cell_type": "code",
   "execution_count": 13,
   "metadata": {},
   "outputs": [
    {
     "name": "stdout",
     "output_type": "stream",
     "text": [
      "6 6 6 6 6 \n",
      "6     6 \n",
      "6   6 \n",
      "6 6 \n",
      "6 \n"
     ]
    }
   ],
   "source": [
    "n =5 \n",
    "for i in range(n):\n",
    "    for j in range(n-i):\n",
    "        if j==0   or i == 0 or j == n-i-1 or i == n-1:\n",
    "            print(\"6\" , end = \" \")\n",
    "        else:\n",
    "            print(\" \" , end= \" \")\n",
    "    print()"
   ]
  },
  {
   "cell_type": "code",
   "execution_count": 21,
   "metadata": {},
   "outputs": [
    {
     "name": "stdout",
     "output_type": "stream",
     "text": [
      "        1 \n",
      "      1 1 1 \n",
      "    1 1 1 1 1 \n",
      "  1 1 1 1 1 1 1 \n",
      "1 1 1 1 1 1 1 1 1 \n"
     ]
    }
   ],
   "source": [
    "n = 5\n",
    "for i in range(n):\n",
    "    for j in range(n-i-1):\n",
    "        print(\" \", end=' ')\n",
    "    for k in range(i+1):\n",
    "        print(\"1\", end=' ')\n",
    "    for l in range(i):\n",
    "        print(\"1\", end=' ')\n",
    "    print()"
   ]
  },
  {
   "cell_type": "code",
   "execution_count": 26,
   "metadata": {},
   "outputs": [
    {
     "name": "stdout",
     "output_type": "stream",
     "text": [
      "     1 \n",
      "    1 1 \n",
      "   1 2 1 \n",
      "  1 3 3 1 \n",
      " 1 4 6 4 1 \n"
     ]
    }
   ],
   "source": [
    "n = 5\n",
    "for i in range(n):\n",
    "    num = 1\n",
    "    for j in range(n-i):\n",
    "        print(\" \" , end= \"\")\n",
    "    for j in range(i+1):\n",
    "        print(num , end = \" \")\n",
    "        num = num*(i-j)// (j+1)\n",
    "    print()"
   ]
  },
  {
   "cell_type": "code",
   "execution_count": 28,
   "metadata": {},
   "outputs": [
    {
     "name": "stdout",
     "output_type": "stream",
     "text": [
      "1 \n",
      "2 3 \n",
      "4 5 6 \n",
      "7 8 9 10 \n",
      "11 12 13 14 15 \n"
     ]
    }
   ],
   "source": [
    "n = 5\n",
    "num = 1\n",
    "for i in range(n):\n",
    "    for j in range(i+1):\n",
    "        print(num , end = \" \")\n",
    "        num += 1\n",
    "    print()"
   ]
  },
  {
   "cell_type": "code",
   "execution_count": 12,
   "metadata": {},
   "outputs": [
    {
     "name": "stdout",
     "output_type": "stream",
     "text": [
      "A \n",
      "A B \n",
      "A B C \n",
      "A B C D \n",
      "A B C D E \n"
     ]
    }
   ],
   "source": [
    "n = 5\n",
    "for i in range(n):\n",
    "    for j in range(i + 1):\n",
    "        print(chr(65+j), end=\" \")\n",
    "    print()"
   ]
  },
  {
   "cell_type": "code",
   "execution_count": null,
   "metadata": {},
   "outputs": [
    {
     "name": "stdout",
     "output_type": "stream",
     "text": [
      "A\n",
      "AA\n",
      "AAA\n",
      "AAAA\n",
      "AAAAA\n"
     ]
    }
   ],
   "source": [
    "n = 5 \n",
    "char = chr(65)\n",
    "for i in range(n):\n",
    "    for j in range(i+1):\n",
    "        print(char, end = \"\")\n",
    "    print()\n"
   ]
  },
  {
   "cell_type": "code",
   "execution_count": 14,
   "metadata": {},
   "outputs": [
    {
     "name": "stdout",
     "output_type": "stream",
     "text": [
      "A\n",
      "BB\n",
      "CCC\n",
      "DDDD\n",
      "EEEEE\n"
     ]
    }
   ],
   "source": [
    "n =5 \n",
    "for i in range(n):\n",
    "    for j in range(i+1):\n",
    "        print(chr(65+i), end = \"\")\n",
    "    print()"
   ]
  },
  {
   "cell_type": "code",
   "execution_count": 13,
   "metadata": {},
   "outputs": [
    {
     "name": "stdout",
     "output_type": "stream",
     "text": [
      "0 \n",
      "0 1 \n",
      "0 1 2 \n",
      "0 1 2 3 \n",
      "0 1 2 3 4 \n"
     ]
    }
   ],
   "source": [
    "n = 5\n",
    "for i in range(n):\n",
    "    for j in range(i + 1):\n",
    "        print(j, end=\" \")\n",
    "    print()"
   ]
  },
  {
   "cell_type": "code",
   "execution_count": 15,
   "metadata": {},
   "outputs": [
    {
     "name": "stdout",
     "output_type": "stream",
     "text": [
      "5 \n",
      "4 3 \n",
      "2 1 0 \n",
      "-1 -2 -3 -4 \n",
      "-5 -6 -7 -8 -9 \n"
     ]
    }
   ],
   "source": [
    "num =5\n",
    "n = 5 \n",
    "for i in range(n):\n",
    "    for j in range(i+1):\n",
    "        print(num , end = \" \")\n",
    "        num-=1\n",
    "    print()"
   ]
  },
  {
   "cell_type": "code",
   "execution_count": 16,
   "metadata": {},
   "outputs": [
    {
     "name": "stdout",
     "output_type": "stream",
     "text": [
      "5 \n",
      "4 5 \n",
      "3 4 5 \n",
      "2 3 4 5 \n",
      "1 2 3 4 5 \n"
     ]
    }
   ],
   "source": [
    "n = 5\n",
    "for i in  range(n , 0 , -1):\n",
    "    for j in range( i , n+1):\n",
    "        print( j  , end = \" \")\n",
    "    print()\n"
   ]
  },
  {
   "cell_type": "code",
   "execution_count": 78,
   "metadata": {},
   "outputs": [
    {
     "name": "stdout",
     "output_type": "stream",
     "text": [
      "*\n",
      "**\n",
      "* *\n",
      "*  *\n",
      "* *\n",
      "**\n",
      "*\n"
     ]
    }
   ],
   "source": [
    "n = 4 \n",
    "for i in range(n):\n",
    "    for j in range(i+1):\n",
    "        if j == 0  or j == i:\n",
    "            print(\"*\", end=\"\")\n",
    "        else:\n",
    "            print(\" \", end=\"\")\n",
    "    print()\n",
    "\n",
    "for i in range(n-1 ,0 ,-1):\n",
    "    for k in range(i):\n",
    "        if k == 0 or k == i - 1:\n",
    "            print(\"*\", end=\"\")\n",
    "        else:\n",
    "            print(\" \", end=\"\")\n",
    "    print()"
   ]
  },
  {
   "cell_type": "code",
   "execution_count": 65,
   "metadata": {},
   "outputs": [
    {
     "name": "stdout",
     "output_type": "stream",
     "text": [
      "*\n",
      "**\n",
      "* *\n",
      "*  *\n",
      "***\n",
      "**\n",
      "*\n"
     ]
    }
   ],
   "source": [
    "n = 4 \n",
    "\n",
    "# Upper triangle\n",
    "for i in range(n):\n",
    "    for j in range(i + 1):\n",
    "        if j == 0 or j == i :\n",
    "            print(\"*\", end = \"\")\n",
    "        else:\n",
    "            print(\" \", end = \"\")\n",
    "    print()\n",
    "\n",
    "# Lower triangle\n",
    "for i in range(n - 1, 0, -1):\n",
    "    for j in range(i):\n",
    "        print(\"*\", end=\"\")\n",
    "    print()\n"
   ]
  },
  {
   "cell_type": "code",
   "execution_count": 91,
   "metadata": {},
   "outputs": [
    {
     "name": "stdout",
     "output_type": "stream",
     "text": [
      "1 2 3 4 5 \n",
      "2     5 \n",
      "3   5 \n",
      "4 5 \n",
      "5 \n"
     ]
    }
   ],
   "source": [
    "n = 5\n",
    "for i in range(n):\n",
    "    for j in range(i + 1, n + 1):\n",
    "        if j == 0  or i == 0 or j == n or i == n or j - i == 1 :\n",
    "            print(j, end=\" \")\n",
    "        else:\n",
    "            print(\" \" , end = \" \")\n",
    "    print()"
   ]
  },
  {
   "cell_type": "code",
   "execution_count": 100,
   "metadata": {},
   "outputs": [
    {
     "name": "stdout",
     "output_type": "stream",
     "text": [
      "     1 \n",
      "    1 2 \n",
      "   1 2 3 \n",
      "  1 2 3 4 \n",
      " 1 2 3 4 5 \n"
     ]
    }
   ],
   "source": [
    "n = 5\n",
    "for i in range(n):\n",
    "    for k in range(n-i):\n",
    "          print(\"\", end=\" \")\n",
    "    for j in range(i+1):\n",
    "            print(j+1, end=\" \")\n",
    "    print()"
   ]
  },
  {
   "cell_type": "code",
   "execution_count": 4,
   "metadata": {},
   "outputs": [
    {
     "name": "stdout",
     "output_type": "stream",
     "text": [
      "          \n",
      "        1 \n",
      "      2 3 3 \n",
      "    3 4 5 5 4 \n",
      "  4 5 6 7 7 6 5 \n"
     ]
    }
   ],
   "source": [
    "n = 5 \n",
    "for i in range(n):\n",
    "    for j in range(n-i):\n",
    "        print(\" \" , end = \" \")\n",
    "    for k in range(i , 2*i):\n",
    "        print( k  ,end =\" \")\n",
    "    for l in range(2*i-1 , i , -1):\n",
    "        print(l , end = \" \")\n",
    "    print()"
   ]
  },
  {
   "cell_type": "code",
   "execution_count": 24,
   "metadata": {},
   "outputs": [
    {
     "name": "stdout",
     "output_type": "stream",
     "text": [
      "A B C D E \n",
      "A B C D E \n",
      "A B C D E \n",
      "A B C D E \n",
      "A B C D E \n"
     ]
    }
   ],
   "source": [
    "n =5 \n",
    "for i in range(n):\n",
    "    for j in range(1,n+1):\n",
    "        print(chr(64+j), end = ' ')\n",
    "    print()\n"
   ]
  },
  {
   "cell_type": "code",
   "execution_count": 16,
   "metadata": {},
   "outputs": [
    {
     "name": "stdout",
     "output_type": "stream",
     "text": [
      "1 2 3 4 5 \n",
      "1       5 \n",
      "1       5 \n",
      "1       5 \n",
      "1 2 3 4 5 \n"
     ]
    }
   ],
   "source": [
    "n =5 \n",
    "for i in range(n):\n",
    "    for j in range(1,n+1):\n",
    "        if j == 1 or j == n or i == n-1 or i == 0:\n",
    "            print(j, end = ' ')\n",
    "        else:\n",
    "            print(\" \", end = ' ')\n",
    "    print()"
   ]
  },
  {
   "cell_type": "code",
   "execution_count": 19,
   "metadata": {},
   "outputs": [
    {
     "name": "stdout",
     "output_type": "stream",
     "text": [
      "A B C D E \n",
      "A       E \n",
      "A       E \n",
      "A       E \n",
      "A B C D E \n"
     ]
    }
   ],
   "source": [
    "# A B C D E\n",
    "n = 5 \n",
    "for i in range(n):\n",
    "    for j in range(1, n+1):\n",
    "        if j == 1 or j == n or i == n-1 or i == 0:\n",
    "            print(chr(64+j), end = ' ')\n",
    "        else:\n",
    "            print(\" \", end = ' ')\n",
    "    print() "
   ]
  },
  {
   "cell_type": "code",
   "execution_count": 36,
   "metadata": {},
   "outputs": [
    {
     "name": "stdout",
     "output_type": "stream",
     "text": [
      "          1 \n",
      "        1 2 1 \n",
      "      1 2 3 2 3 \n",
      "    1 2 3 4 3 4 5 \n",
      "  1 2 3 4 5 4 5 6 7 \n"
     ]
    }
   ],
   "source": [
    "n =5 \n",
    "for i in range(n):\n",
    "    for j in range(n-i):\n",
    "        print(\" \", end = \" \")\n",
    "    for k in range(i+1):\n",
    "        print(k+1, end = \" \")\n",
    "    for l in range(i,2*i):\n",
    "        print(l, end = \" \")\n",
    "        # print(l+1, end = \" \")\n",
    "    print()"
   ]
  },
  {
   "cell_type": "code",
   "execution_count": null,
   "metadata": {},
   "outputs": [],
   "source": []
  },
  {
   "cell_type": "code",
   "execution_count": 2,
   "metadata": {},
   "outputs": [
    {
     "name": "stdout",
     "output_type": "stream",
     "text": [
      "['1984', '13', '1000']\n",
      "['1', '9', '8', '4', '1', '3', '1', '0', '0', '0']\n"
     ]
    }
   ],
   "source": [
    "# Get only the numbers in a sentence like \n",
    "string = \"In 1984 there were 13 instances of a protest with over 1000 people attending.\"\n",
    "seprate = [x for x in string.split() if x.isdigit()]\n",
    "print(seprate)\n",
    "list1 = [ x for x in string if x.isdigit()]\n",
    "print(list1)  # Output: ['1', '9', '8', '4',\n"
   ]
  },
  {
   "cell_type": "code",
   "execution_count": 5,
   "metadata": {},
   "outputs": [
    {
     "name": "stdout",
     "output_type": "stream",
     "text": [
      "(1, 'hello', 3.14)\n",
      "(1, (2, 3), 4)\n",
      "(2, 3)\n"
     ]
    }
   ],
   "source": [
    "# Multiple types in a tuple\n",
    "mixed_tuple = (1, \"hello\", 3.14)\n",
    "\n",
    "# Nested tuples\n",
    "nested_tuple = (1, (2, 3), 4)\n",
    "\n",
    "# Printing tuples\n",
    "print(mixed_tuple)     # Output: (1, 'hello', 3.14)\n",
    "print(nested_tuple)    # Output: (1, (2, 3), 4)\n",
    "print(nested_tuple[1])"
   ]
  },
  {
   "cell_type": "code",
   "execution_count": 17,
   "metadata": {},
   "outputs": [
    {
     "name": "stdout",
     "output_type": "stream",
     "text": [
      "[1, 2, 'a', 'b', 'c']\n"
     ]
    }
   ],
   "source": [
    "list1 = [1, 2]\n",
    "str = \"abc\"\n",
    "list1.extend(str)  # Append the string to the list\n",
    "print(list1)\n"
   ]
  },
  {
   "cell_type": "code",
   "execution_count": 16,
   "metadata": {},
   "outputs": [
    {
     "name": "stdout",
     "output_type": "stream",
     "text": [
      "[1, 2, ['abc']]\n"
     ]
    }
   ],
   "source": [
    "list1 = [1,2]\n",
    "list2 =  [\"abc\"]\n",
    "list1.append(list2)\n",
    "print(list1)"
   ]
  },
  {
   "cell_type": "code",
   "execution_count": 18,
   "metadata": {},
   "outputs": [
    {
     "name": "stdout",
     "output_type": "stream",
     "text": [
      "{0: 1, 1: 2, 2: 3}\n"
     ]
    }
   ],
   "source": [
    "dic1 = {x:x+1 for x in range(3)}\n",
    "print(dic1)  # {0: 1, 1: 2,"
   ]
  },
  {
   "cell_type": "code",
   "execution_count": 23,
   "metadata": {},
   "outputs": [
    {
     "name": "stdout",
     "output_type": "stream",
     "text": [
      "[(10, 40), (20, 50)]\n"
     ]
    }
   ],
   "source": [
    "list1 = [10, 20, 30]\n",
    "list2 = [40, 50]\n",
    "list3 = zip(list1, list2)\n",
    "print(list(list3))  # Convert the zip object to a list before printing"
   ]
  },
  {
   "cell_type": "code",
   "execution_count": 27,
   "metadata": {},
   "outputs": [
    {
     "name": "stdout",
     "output_type": "stream",
     "text": [
      "[(0, 10), (1, 20), (2, 30)]\n"
     ]
    }
   ],
   "source": [
    "list4 = enumerate(list1)  # Removed list2 as the second argument\n",
    "print(list(list4))"
   ]
  },
  {
   "cell_type": "code",
   "execution_count": null,
   "metadata": {},
   "outputs": [
    {
     "name": "stdout",
     "output_type": "stream",
     "text": [
      "['aman', 'mathur']\n"
     ]
    }
   ],
   "source": [
    "def split_str(string):\n",
    "    return string.split(\" \")\n",
    "\n",
    "x = split_str(\"aman mathur\")\n",
    "print(x)  # Output: ['aman', 'mathur']\n",
    "\n",
    "\n"
   ]
  },
  {
   "cell_type": "code",
   "execution_count": 33,
   "metadata": {},
   "outputs": [
    {
     "name": "stdout",
     "output_type": "stream",
     "text": [
      "['aman', 'mathur']\n"
     ]
    }
   ],
   "source": [
    "string = \"aman mathur\"\n",
    "splitted_list = [x for x in string.split(\" \")]\n",
    "print(splitted_list)  # Output: ['aman', 'mathur']"
   ]
  },
  {
   "cell_type": "code",
   "execution_count": 40,
   "metadata": {},
   "outputs": [
    {
     "name": "stdout",
     "output_type": "stream",
     "text": [
      "1 2 3 4 5 \n",
      "1 2 3 4 \n",
      "1 2 3 \n",
      "1 2 \n",
      "1 \n",
      "\n"
     ]
    }
   ],
   "source": [
    "n = 5\n",
    "for i in range(n, -1,-1):\n",
    "    for j in range(i):\n",
    "        print(j+1 , end=\" \")\n",
    "    print()"
   ]
  },
  {
   "cell_type": "code",
   "execution_count": 44,
   "metadata": {},
   "outputs": [
    {
     "name": "stdout",
     "output_type": "stream",
     "text": [
      "A \n",
      "A B \n",
      "A B C \n",
      "A B C D \n",
      "A B C D E \n"
     ]
    }
   ],
   "source": [
    "n = 5\n",
    "for i in range(n):\n",
    "    for j in range(i+1):\n",
    "        print(chr(65+j), end=' ')\n",
    "    print()"
   ]
  },
  {
   "cell_type": "code",
   "execution_count": 52,
   "metadata": {},
   "outputs": [
    {
     "name": "stdout",
     "output_type": "stream",
     "text": [
      "A \n",
      "B B \n",
      "C C C \n",
      "D D D D \n",
      "E E E E E \n"
     ]
    }
   ],
   "source": [
    "n = 5\n",
    "for i in range(n):\n",
    "    for j in range(i+1):\n",
    "        print(chr(65+i) , end= \" \")\n",
    "    print()"
   ]
  },
  {
   "cell_type": "code",
   "execution_count": 55,
   "metadata": {},
   "outputs": [
    {
     "name": "stdout",
     "output_type": "stream",
     "text": [
      "{1: 1, 2: 4, 3: 9, 4: 16, 5: 25}\n"
     ]
    }
   ],
   "source": [
    "dic1 = {x : x*x for x in range(1,6)}\n",
    "print(dic1)"
   ]
  },
  {
   "cell_type": "code",
   "execution_count": 56,
   "metadata": {},
   "outputs": [
    {
     "name": "stdout",
     "output_type": "stream",
     "text": [
      "{'name': 'Alice', 'age': 25, 'city': 'New York'}\n"
     ]
    }
   ],
   "source": [
    "keys = ['name', 'age', 'city']\n",
    "values = ['Alice', 25, 'New York']\n",
    "dict2 = {key : value for key,value in zip(keys,values)}\n",
    "print(dict2)  # Output: {'name': 'Alice', 'age': 25,"
   ]
  },
  {
   "cell_type": "code",
   "execution_count": 57,
   "metadata": {},
   "outputs": [
    {
     "name": "stdout",
     "output_type": "stream",
     "text": [
      "{'Jane': 82, 'Alice': 91}\n"
     ]
    }
   ],
   "source": [
    "marks = {'John': 45, 'Jane': 82, 'Dave': 36, 'Alice': 91}\n",
    "more_than_50 = {x : y for x , y in marks.items() if y>50}\n",
    "print(more_than_50)"
   ]
  },
  {
   "cell_type": "code",
   "execution_count": 59,
   "metadata": {},
   "outputs": [
    {
     "name": "stdout",
     "output_type": "stream",
     "text": [
      "Counter({'a': 3, 'n': 2, 'b': 1})\n"
     ]
    }
   ],
   "source": [
    "from collections import Counter\n",
    "\n",
    "string= \"banana\"\n",
    "freq = Counter(string)\n",
    "print(freq)  # Output: Counter({'a': 3, 'n': 2, 'b': 1})\n"
   ]
  },
  {
   "cell_type": "code",
   "execution_count": 61,
   "metadata": {},
   "outputs": [
    {
     "name": "stdout",
     "output_type": "stream",
     "text": [
      "{1: 'a', 2: 'b', 3: 'c'}\n"
     ]
    }
   ],
   "source": [
    "d = {'a': 1, 'b': 2, 'c': 3}\n",
    "inverted_dic = { keys : values  for values , keys in d.items() }\n",
    "print(inverted_dic)"
   ]
  },
  {
   "cell_type": "code",
   "execution_count": 62,
   "metadata": {},
   "outputs": [
    {
     "name": "stdout",
     "output_type": "stream",
     "text": [
      "{'Delhi': 86.0, 'Mumbai': 89.6, 'Kolkata': 84.2}\n"
     ]
    }
   ],
   "source": [
    "temps_c = {'Delhi': 30, 'Mumbai': 32, 'Kolkata': 29}\n",
    "# F = C * 9/5 + 32\n",
    "f_dic = { key : value *9/5 +32 for key , value in temps_c.items() }\n",
    "print(f_dic)\n",
    "\n",
    "\n"
   ]
  },
  {
   "cell_type": "code",
   "execution_count": 68,
   "metadata": {},
   "outputs": [
    {
     "name": "stdout",
     "output_type": "stream",
     "text": [
      "['Python', 'is', 'fun', 'and', 'powerful']\n",
      "{'Python': 6, 'is': 2, 'fun': 3, 'and': 3, 'powerful': 8}\n"
     ]
    }
   ],
   "source": [
    "string =  \"Python is fun and powerful\"\n",
    "list1 = []\n",
    "x = string.split()\n",
    "for i in x :\n",
    "    list1.append(i)\n",
    "print(list1)\n",
    "len_of_words = { i:len(i) for i in list1}\n",
    "print(len_of_words)"
   ]
  },
  {
   "cell_type": "code",
   "execution_count": 69,
   "metadata": {},
   "outputs": [
    {
     "name": "stdout",
     "output_type": "stream",
     "text": [
      "{1: {1: 1, 2: 2, 3: 3, 4: 4, 5: 5}, 2: {1: 2, 2: 4, 3: 6, 4: 8, 5: 10}, 3: {1: 3, 2: 6, 3: 9, 4: 12, 5: 15}, 4: {1: 4, 2: 8, 3: 12, 4: 16, 5: 20}, 5: {1: 5, 2: 10, 3: 15, 4: 20, 5: 25}}\n"
     ]
    }
   ],
   "source": [
    "# Create a multiplication table (1 to 5) as a nested dictionary.\n",
    "table = { i :  { j : i * j for j in range(1, 6) } for i in range(1, 6) }\n",
    "print(table)  # Output: {1: {1: 1, 2:\n"
   ]
  },
  {
   "cell_type": "code",
   "execution_count": 71,
   "metadata": {},
   "outputs": [
    {
     "name": "stdout",
     "output_type": "stream",
     "text": [
      "{1: 1, 2: 4, 3: 9, 4: 16, 5: 25, 6: 36, 7: 49}\n"
     ]
    }
   ],
   "source": [
    "squares = { i: i*i for i in range(1,8)}\n",
    "print(squares)"
   ]
  },
  {
   "cell_type": "code",
   "execution_count": 83,
   "metadata": {},
   "outputs": [
    {
     "name": "stdout",
     "output_type": "stream",
     "text": [
      "XII\n"
     ]
    }
   ],
   "source": [
    "char = ['M', 'CM', 'D', 'CD', 'C', 'XC', 'L', 'XL', 'X', 'IX', 'V', 'IV', 'I']\n",
    "val = [1000, 900, 500, 400, 100, 90, 50, 40, 10, 9, 5, 4, 1]\n",
    "num = int(input(\"Enter a number: \"))\n",
    "ans = []\n",
    "for i in range(len(val)):\n",
    "    while num>=val[i]:\n",
    "        num-=val[i]\n",
    "        ans.append(char[i])\n",
    "print(\"\".join(ans))\n"
   ]
  },
  {
   "cell_type": "code",
   "execution_count": 78,
   "metadata": {},
   "outputs": [
    {
     "name": "stdout",
     "output_type": "stream",
     "text": [
      "['man']\n",
      "[['man']]\n"
     ]
    }
   ],
   "source": [
    "str = \"man\"\n",
    "list1 = []\n",
    "x = str.split()\n",
    "print(list(x))\n",
    "list1.append(x)\n",
    "print(list1)"
   ]
  },
  {
   "cell_type": "code",
   "execution_count": 87,
   "metadata": {},
   "outputs": [
    {
     "name": "stdout",
     "output_type": "stream",
     "text": [
      "['a', 'ab', 'abb', 'abba', 'b', 'bb', 'bba', 'ba']\n",
      "{'a': 2, 'ab': 1, 'abb': 1, 'abba': 1, 'b': 2, 'bb': 1, 'bba': 1, 'ba': 1}\n"
     ]
    }
   ],
   "source": [
    "string = \"abba\"\n",
    "list1 = []\n",
    "freq = {}\n",
    "# all possible substrings\n",
    "for i in range(len(string)):\n",
    "    for j in range(i+1 , len(string)+1):\n",
    "        if string[i:j] not in list1:\n",
    "            list1.append(string[i:j])\n",
    "print(list1)\n",
    "\n",
    "for i in list1:\n",
    "    freq[i] = string.count(i)\n",
    "print(freq)\n"
   ]
  },
  {
   "cell_type": "code",
   "execution_count": 88,
   "metadata": {},
   "outputs": [
    {
     "data": {
      "text/plain": [
       "True"
      ]
     },
     "execution_count": 88,
     "metadata": {},
     "output_type": "execute_result"
    }
   ],
   "source": [
    "def is_prime(n):\n",
    "    if n%n==0 or n%1==0:\n",
    "        return True\n",
    "    else:\n",
    "        return False\n",
    "\n",
    "is_prime(7)"
   ]
  },
  {
   "cell_type": "code",
   "execution_count": 90,
   "metadata": {},
   "outputs": [
    {
     "name": "stdout",
     "output_type": "stream",
     "text": [
      "aman mathur\n"
     ]
    }
   ],
   "source": [
    "def full_name(first_name , last_name ):\n",
    "    print(first_name+\" \"+last_name)\n",
    "\n",
    "full_name(\"aman\",\"mathur\")"
   ]
  },
  {
   "cell_type": "code",
   "execution_count": null,
   "metadata": {},
   "outputs": [
    {
     "name": "stdout",
     "output_type": "stream",
     "text": [
      "<generator object count_up_to_10 at 0x000002B9E5088040>\n",
      "0\n",
      "1\n",
      "2\n"
     ]
    }
   ],
   "source": [
    "def count_up_to_10(n):\n",
    "    for i in range(n):\n",
    "        yield i \n",
    "\n",
    "counter = count_up_to_10(10)\n",
    "print(counter)  \n",
    "print(next(counter))\n",
    "print(next(counter))\n",
    "print(next(counter))\n",
    "\n",
    "# generators are type of functions that generate values lazily , one at a time \n",
    "# these are generally used for high data processing and memory efficiency\n"
   ]
  },
  {
   "cell_type": "code",
   "execution_count": null,
   "metadata": {},
   "outputs": [
    {
     "name": "stdout",
     "output_type": "stream",
     "text": [
      "before func1()\n",
      "after func1()\n",
      "in the decorator!\n",
      "before func1()\n",
      "after func1()\n",
      "in the goodbye decorator!\n"
     ]
    }
   ],
   "source": [
    "# decorator  : functionas that are used to modify the behaviour of another function by \n",
    "# adding some extra functionality to it and not changing the original function.\n",
    "def deco_func(func1):\n",
    "    def wrapper():\n",
    "        print(\"before func1()\")\n",
    "        print(\"after func1()\")\n",
    "        func1()\n",
    "    return wrapper\n",
    "\n",
    "# decorator \n",
    "@deco_func # this is same as say_hello = deco_func(say_hello)\n",
    "def say_hello():\n",
    "    print(\"in the decorator!\")\n",
    "\n",
    "@deco_func # this is same as say_goodbye = deco_func(say_goodbye)\n",
    "def say_goodbye():\n",
    "    print(\"in the goodbye decorator!\")\n",
    "\n",
    "say_hello()\n",
    "say_goodbye()"
   ]
  },
  {
   "cell_type": "code",
   "execution_count": null,
   "metadata": {},
   "outputs": [
    {
     "name": "stdout",
     "output_type": "stream",
     "text": [
      "15\n"
     ]
    }
   ],
   "source": [
    "# closures = inner functions that retain thier variables even after outer  function has finished executing\n",
    "\n",
    "def outer_function(x):\n",
    "    def inner_function(y):\n",
    "        return x+y\n",
    "    return inner_function\n",
    "\n",
    "add_five = outer_function(5)\n",
    "print(add_five(10))   \n",
    "# Output: 15 because the inner function has access to the variable x \n",
    "# even after the outer function has finished executing\n",
    "\n"
   ]
  },
  {
   "cell_type": "code",
   "execution_count": null,
   "metadata": {},
   "outputs": [],
   "source": [
    "class Dog:\n",
    "    def __init__(self):\n",
    "        pass\n",
    "\n",
    "class Cat:\n",
    "    def __init__(self):\n",
    "        pass\n",
    "\n",
    "dog1 = Dog()\n",
    "cat1 = Cat()\n",
    "\n"
   ]
  },
  {
   "cell_type": "code",
   "execution_count": 108,
   "metadata": {},
   "outputs": [
    {
     "name": "stdout",
     "output_type": "stream",
     "text": [
      "Some generic animal sound\n"
     ]
    }
   ],
   "source": [
    "class Animal:\n",
    "    def make_sound(self):\n",
    "        print(\"Some generic animal sound\")\n",
    "\n",
    "# Create an object\n",
    "a = Animal()\n",
    "a.make_sound()\n"
   ]
  },
  {
   "cell_type": "code",
   "execution_count": 109,
   "metadata": {},
   "outputs": [
    {
     "name": "stdout",
     "output_type": "stream",
     "text": [
      "A dog is created!\n"
     ]
    }
   ],
   "source": [
    "class Dog:\n",
    "    def __init__(self):  # Default constructor\n",
    "        print(\"A dog is created!\")\n",
    "\n",
    "d = Dog()\n"
   ]
  },
  {
   "cell_type": "code",
   "execution_count": 119,
   "metadata": {},
   "outputs": [
    {
     "name": "stdout",
     "output_type": "stream",
     "text": [
      "the animal ujjwal, of age 2, and breed indie makes sound\n",
      "the animal bhuru, of age 3, and breed indie makes sound\n"
     ]
    }
   ],
   "source": [
    "class Animal:\n",
    "    def __init__(self, age, breed, name=\"bhuru\"):\n",
    "        self.name = name\n",
    "        self.age = age\n",
    "        self.breed = breed\n",
    "\n",
    "    def make_sound(self):\n",
    "        return f\"the animal {self.name}, of age {self.age}, and breed {self.breed} makes sound\"\n",
    "    \n",
    "class Dog(Animal):\n",
    "\n",
    "    def barks(self):\n",
    "        return f\"{self.name} the dog barks\"\n",
    "\n",
    "    \n",
    "a1 = Animal(2, \"indie\", \"sheru\")\n",
    "a2 = Animal(3, \"indie\")\n",
    "d1 = Dog(2, \"indie\", \"rajjo\")\n",
    "\n",
    "a1.name = \"ujjwal\"  # this is an instance variable and can be changed\n",
    "print(a1.make_sound())\n",
    "print(a2.make_sound())"
   ]
  },
  {
   "cell_type": "code",
   "execution_count": 122,
   "metadata": {},
   "outputs": [
    {
     "name": "stdout",
     "output_type": "stream",
     "text": [
      "child method\n",
      "parent method\n"
     ]
    }
   ],
   "source": [
    "# singlle inheritance \n",
    "class Animal :\n",
    "    def show(self):\n",
    "        print(\"parent method\")\n",
    "\n",
    "class Cat(Animal):\n",
    "    def display(self):\n",
    "        print(\"child method\")\n",
    "\n",
    "c = Cat()\n",
    "c.display()\n",
    "c.show()"
   ]
  },
  {
   "cell_type": "code",
   "execution_count": null,
   "metadata": {},
   "outputs": [
    {
     "name": "stdout",
     "output_type": "stream",
     "text": [
      "A method\n",
      "B meyjopd\n",
      "C method\n"
     ]
    }
   ],
   "source": [
    "# multilevel - inheritance \n",
    "\n",
    "class A:\n",
    "    def methodA(self):\n",
    "        print(\"A method\")\n",
    "\n",
    "class B(A):\n",
    "    def methodB(self):\n",
    "        print(\"B meyjopd\")\n",
    "\n",
    "class C(B):\n",
    "    def methodC(self):\n",
    "        print(\"C method\")\n",
    "\n",
    "\n",
    "# c inherits from B  , B inerits from A \n",
    "# all method of a are acessbile to c\n",
    "\n",
    "\n",
    "\n",
    "obj = C()\n",
    "obj.methodA()\n",
    "obj.methodB()\n",
    "obj.methodC()"
   ]
  },
  {
   "cell_type": "code",
   "execution_count": 1,
   "metadata": {},
   "outputs": [
    {
     "name": "stdout",
     "output_type": "stream",
     "text": [
      "skill is driving \n",
      "hobby is cooking \n"
     ]
    }
   ],
   "source": [
    "# multiple inheritance \n",
    "class father:\n",
    "    def skill(self):\n",
    "        print(\"skill is driving \")\n",
    "\n",
    "class Mother:\n",
    "    def hobby(self):\n",
    "        print(\"hobby is cooking \")\n",
    "\n",
    "class Child(father,Mother):\n",
    "    pass\n",
    "\n",
    "c1 = Child()\n",
    "c1.skill()\n",
    "c1.hobby()  # output: hobby is cooking\n"
   ]
  },
  {
   "cell_type": "code",
   "execution_count": null,
   "metadata": {},
   "outputs": [
    {
     "name": "stdout",
     "output_type": "stream",
     "text": [
      "animal speaks bark\n"
     ]
    }
   ],
   "source": [
    "class Animal :\n",
    "    def __init__(self, speak):\n",
    "        self.speak = speak\n",
    "    \n",
    "    def speak(self):\n",
    "        print(\"animal speaks\", self.speaks)\n",
    "\n",
    "a1 = Animal(\"bark\")\n",
    "print(a1.speak())"
   ]
  },
  {
   "cell_type": "code",
   "execution_count": null,
   "metadata": {},
   "outputs": [
    {
     "name": "stdout",
     "output_type": "stream",
     "text": [
      "The dog barks\n"
     ]
    }
   ],
   "source": [
    "class Animal:\n",
    "    def speaks():\n",
    "        print(\"The animal makes a sound\")\n",
    "\n",
    "class Dog(Animal):\n",
    "    def speaks(self):\n",
    "        print(\"The dog barks\")\n",
    "\n",
    "d1 = Dog()\n",
    "\n",
    "d1.speaks()# method overriding \n"
   ]
  },
  {
   "cell_type": "code",
   "execution_count": 11,
   "metadata": {},
   "outputs": [
    {
     "name": "stdout",
     "output_type": "stream",
     "text": [
      "32\n",
      "60\n"
     ]
    }
   ],
   "source": [
    "# method overloading \n",
    "# class Math:\n",
    "#     def add(self , a, b):\n",
    "#         return a + b\n",
    "    \n",
    "#     def add(self , a, b, c):\n",
    "#         return a + b + c\n",
    "    \n",
    "# m = Math()\n",
    "# # print(m.add(10, 20))  # this will give you an error because the method now is the second one \n",
    "# second method has 3 parameters and you are passing only 2 \n",
    "\n",
    "# this is called method overloading\n",
    "# but in python we can't do method overloading like in java or c++\\\n",
    "# we can do it by using default arguments or by using *args and **kwargs\n",
    "\n",
    "class Math:\n",
    "    def add(self , a , b = 10 , c= 2):\n",
    "        return a+b+c\n",
    "    \n",
    "m = Math()\n",
    "print(m.add(10, 20))\n",
    "print(m.add(10, 20, 30))  # this will give you the su"
   ]
  },
  {
   "cell_type": "code",
   "execution_count": 15,
   "metadata": {},
   "outputs": [
    {
     "name": "stdout",
     "output_type": "stream",
     "text": [
      "50\n"
     ]
    }
   ],
   "source": [
    "from abc import ABC , abstractmethod \n",
    "class Shape:\n",
    "    @abstractmethod\n",
    "    def area(self):\n",
    "        pass\n",
    "\n",
    "class Rectange(Shape):\n",
    "    def __init__(self, width, height):\n",
    "        self.width = width\n",
    "        self.height = height\n",
    "\n",
    "    def area(self):\n",
    "        return self.width* self.height\n",
    "    \n",
    "rect = Rectange(5, 10)\n",
    "print(rect.area())  # Output: 50\n",
    "\n"
   ]
  },
  {
   "cell_type": "code",
   "execution_count": 16,
   "metadata": {},
   "outputs": [
    {
     "name": "stdout",
     "output_type": "stream",
     "text": [
      "Instance method: Hello\n",
      "Class method: Hello\n",
      "Static method: no access to class or instance\n"
     ]
    }
   ],
   "source": [
    "class Example:\n",
    "    class_var = \"Hello\"\n",
    "\n",
    "    def instance_method(self):\n",
    "        print(f\"Instance method: {self.class_var}\")\n",
    "\n",
    "    @classmethod\n",
    "    def class_method(cls):\n",
    "        print(f\"Class method: {cls.class_var}\")\n",
    "\n",
    "    @staticmethod\n",
    "    def static_method():\n",
    "        print(\"Static method: no access to class or instance\")\n",
    "\n",
    "obj = Example()\n",
    "obj.instance_method()    # ✅ Works\n",
    "Example.class_method()   # ✅ Works without instance\n",
    "Example.static_method()  # ✅ Utility style\n"
   ]
  },
  {
   "cell_type": "code",
   "execution_count": 17,
   "metadata": {},
   "outputs": [
    {
     "name": "stdout",
     "output_type": "stream",
     "text": [
      "Hello!\n"
     ]
    }
   ],
   "source": [
    "# So what does if __name__ == \"__main__\": do?\n",
    "# It says:\n",
    "\n",
    "# Only run the code inside this block if the file is being run directly, not if it's being imported.\n",
    "\n",
    "# ✅ Example:\n",
    "# python\n",
    "# Copy\n",
    "# Edit\n",
    "# # file: my_script.py\n",
    "\n",
    "def greet():\n",
    "    print(\"Hello!\")\n",
    "\n",
    "if __name__ == \"__main__\":\n",
    "    greet()\n",
    "# Now:\n",
    "\n",
    "# Run directly: ✅ Hello! is printed.\n",
    "\n",
    "# Imported from another file: ❌ Nothing is printed."
   ]
  },
  {
   "cell_type": "code",
   "execution_count": 4,
   "metadata": {},
   "outputs": [
    {
     "name": "stdout",
     "output_type": "stream",
     "text": [
      "5 4 3 2 1 \n",
      "4 3 2 1 \n",
      "3 2 1 \n",
      "2 1 \n",
      "1 \n"
     ]
    }
   ],
   "source": [
    "for i in range(1,6):\n",
    "    for j in range(6-i,0,-1):\n",
    "        print(j , end= \" \")\n",
    "    print()\n",
    "    "
   ]
  },
  {
   "cell_type": "code",
   "execution_count": 24,
   "metadata": {},
   "outputs": [
    {
     "name": "stdout",
     "output_type": "stream",
     "text": [
      "5 4 3 2 1 \n",
      "4 3 2 1 \n",
      "3 2 1 \n",
      "2 1 \n"
     ]
    }
   ],
   "source": [
    "n=5 \n",
    "# 5 4 3 2 1 \n",
    "# 4 3 2 1 \n",
    "# 3 2 1 \n",
    "# 2 1 \n",
    "# 1\n",
    "for i in range(n,1, -1):\n",
    "    for j in range(i):\n",
    "        print(i-j, end=\" \")\n",
    "    print()"
   ]
  },
  {
   "cell_type": "code",
   "execution_count": 33,
   "metadata": {},
   "outputs": [
    {
     "name": "stdout",
     "output_type": "stream",
     "text": [
      "654321\n",
      "65432\n",
      "6543\n",
      "654\n",
      "65\n",
      "6\n"
     ]
    }
   ],
   "source": [
    "n=6\n",
    "for i in range(n,0,-1):\n",
    "    for j in range(i):\n",
    "        print(n-j,end='')\n",
    "    print()"
   ]
  },
  {
   "cell_type": "code",
   "execution_count": 40,
   "metadata": {},
   "outputs": [
    {
     "name": "stdout",
     "output_type": "stream",
     "text": [
      "6 5 4 3 2 1 \n",
      "5 4 3 2 1 \n",
      "4 3 2 1 \n",
      "3 2 1 \n",
      "2 1 \n"
     ]
    }
   ],
   "source": [
    "for i in range(6,1,-1):\n",
    "    for j in range(i):\n",
    "        print(i-j, end=\" \")\n",
    "    print()"
   ]
  },
  {
   "cell_type": "code",
   "execution_count": 52,
   "metadata": {},
   "outputs": [
    {
     "name": "stdout",
     "output_type": "stream",
     "text": [
      "9 8 7 6 5 4 \n",
      "8 7 6 5 4 \n",
      "7 6 5 4 \n",
      "6 5 4 \n",
      "5 4 \n",
      "4 \n",
      "\n",
      "\n",
      "\n"
     ]
    }
   ],
   "source": [
    "for i in range(9,0,-1):\n",
    "    for j in range(i-3):\n",
    "        print((i-j), end=\" \")\n",
    "    print()"
   ]
  },
  {
   "cell_type": "code",
   "execution_count": 55,
   "metadata": {},
   "outputs": [
    {
     "name": "stdout",
     "output_type": "stream",
     "text": [
      "3210\n",
      "210\n",
      "10\n"
     ]
    }
   ],
   "source": [
    "for i in range(3,0,-1):\n",
    "    for j in range(i+1):\n",
    "        print(i-j, end=\"\")\n",
    "    print()"
   ]
  },
  {
   "cell_type": "code",
   "execution_count": 56,
   "metadata": {},
   "outputs": [
    {
     "name": "stdout",
     "output_type": "stream",
     "text": [
      "Input: To Be or Not to Be!\n",
      "Output: To Be oR NoT To Be!\n"
     ]
    }
   ],
   "source": [
    "def modify_string_case(input_string):\n",
    "    result = \"\"\n",
    "    diff = ord('a') - ord('A')  # Constant difference between lowercase and uppercase\n",
    "\n",
    "    for char in input_string:\n",
    "        ascii_val = ord(char)\n",
    "        if 'A' <= char <= 'Z':  # Check if it's an uppercase letter\n",
    "            if ascii_val % 2 == 0:\n",
    "                result += char  # Keep uppercase if ASCII is even\n",
    "            else:\n",
    "                result += chr(ascii_val + diff) # Convert to lowercase if ASCII is odd\n",
    "        elif 'a' <= char <= 'z': # Check if it's a lowercase letter\n",
    "            if ascii_val % 2 == 0:\n",
    "                result += chr(ascii_val - diff) # Convert to uppercase if ASCII is even\n",
    "            else:\n",
    "                result += char  # Keep lowercase if ASCII is odd\n",
    "        else:\n",
    "            result += char  # Keep non-alphabetic characters as they are\n",
    "\n",
    "    return result\n",
    "\n",
    "# Example usage:\n",
    "test_string = \"To Be or Not to Be!\"\n",
    "output = modify_string_case(test_string)\n",
    "print(f\"Input: {test_string}\")\n",
    "print(f\"Output: {output}\")"
   ]
  },
  {
   "cell_type": "code",
   "execution_count": 71,
   "metadata": {},
   "outputs": [
    {
     "name": "stdout",
     "output_type": "stream",
     "text": [
      "Total budget: 90000\n"
     ]
    }
   ],
   "source": [
    "def total_budget(get_budget):\n",
    "    total = 0\n",
    "    for person in get_budget:\n",
    "        total += person['budget']\n",
    "    return total\n",
    "\n",
    "# Example usage:\n",
    "# Use the already defined variable \"get_budget\"\n",
    "result = total_budget(get_budget)\n",
    "print(f\"Total budget: {result}\")\n"
   ]
  },
  {
   "cell_type": "code",
   "execution_count": 73,
   "metadata": {},
   "outputs": [
    {
     "data": {
      "text/plain": [
       "True"
      ]
     },
     "execution_count": 73,
     "metadata": {},
     "output_type": "execute_result"
    }
   ],
   "source": [
    "'a'.isalpha()"
   ]
  },
  {
   "cell_type": "code",
   "execution_count": 58,
   "metadata": {},
   "outputs": [
    {
     "name": "stdout",
     "output_type": "stream",
     "text": [
      "To Be oR NoT To Be!\n"
     ]
    }
   ],
   "source": [
    "def ascii_capitalize(s):\n",
    "    result = ''\n",
    "    for char in s:\n",
    "        if char.isalpha():\n",
    "            if ord(char) % 2 == 0:\n",
    "                result += char.upper()\n",
    "            else:\n",
    "                result += char.lower()\n",
    "        else:\n",
    "            result += char\n",
    "    return result\n",
    "\n",
    "# Example\n",
    "print(ascii_capitalize(\"to be or not to be!\"))\n"
   ]
  },
  {
   "cell_type": "raw",
   "metadata": {
    "vscode": {
     "languageId": "raw"
    }
   },
   "source": [
    "I understand you're looking for a PDF of possible Python mock exam questions. Unfortunately, I cannot directly create and share PDF files. My capabilities are limited to generating text-based content.\n",
    "\n",
    "However, I can help you create your own \"PDF\" by providing you with a structured list of potential questions that you can then copy and paste into a document editor (like Google Docs, Microsoft Word, LibreOffice Writer) and save as a PDF.\n",
    "\n",
    "Here's a structured list of potential Python mock exam questions, covering the areas we discussed:\n",
    "\n",
    "I. Core Python Fundamentals:\n",
    "\n",
    "Data Types:\n",
    "What are the fundamental data types in Python? Give an example of each.\n",
    "Explain the difference between mutable and immutable data types in Python. Provide examples.\n",
    "How do you convert between different data types in Python? Give an example.\n",
    "Operators:\n",
    "What is the output of the following expressions?\n",
    "5 + 3 * 2\n",
    "10 // 3\n",
    "7 % 3\n",
    "2 ** 4\n",
    "True and False\n",
    "not (5 > 10)\n",
    "Explain the difference between == and is operators in Python.\n",
    "Control Flow:\n",
    "Write an if-else statement to check if a number is positive or negative.\n",
    "Write a for loop to print numbers from 1 to 10.\n",
    "Write a while loop to print numbers from 10 down to 1.\n",
    "Explain the purpose of the break and continue statements in loops.\n",
    "II. Working with Data Structures:\n",
    "\n",
    "Lists:\n",
    "How do you create a list in Python?\n",
    "Write code to access the third element of a list.\n",
    "Explain list slicing with an example.\n",
    "What is the output of the following list methods?\n",
    "[1, 2, 3].append(4)\n",
    "[1, 2, 3].pop()\n",
    "[1, 2, 3].insert(1, 5)\n",
    "Write a list comprehension to create a list of squares of numbers from 1 to 5.\n",
    "Tuples:\n",
    "How do you create a tuple in Python?\n",
    "What is the key difference between lists and tuples?\n",
    "Sets:\n",
    "How do you create a set in Python?\n",
    "Write code to find the union and intersection of two sets.\n",
    "How do sets handle duplicate elements?\n",
    "Dictionaries:\n",
    "How do you create a dictionary in Python?\n",
    "Write code to access the value associated with a specific key in a dictionary.\n",
    "How do you add a new key-value pair to a dictionary?\n",
    "Write a loop to iterate through the keys and values of a dictionary.\n",
    "III. Functions:\n",
    "\n",
    "Write a function that takes two numbers as arguments and returns their sum.\n",
    "Explain the difference between local and global variables in Python.\n",
    "What is a docstring and why is it important?\n",
    "Write a lambda function that squares a given number.\n",
    "Explain the concept of higher-order functions with an example (e.g., using map or filter).\n",
    "IV. String Manipulation:\n",
    "\n",
    "How do you access the first and last characters of a string?\n",
    "Explain string slicing with an example.\n",
    "What is the output of the following string methods?\n",
    "\"hello\".upper()\n",
    "\" WORLD \".strip()\n",
    "\"python is fun\".split()\n",
    "\"-\".join([\"apple\", \"banana\", \"cherry\"])\n",
    "Write code to check if a given string starts with \"Py\".\n",
    "How can you format strings using f-strings in Python?\n",
    "V. Error Handling:\n",
    "\n",
    "Explain the purpose of try-except blocks in Python.\n",
    "Write a try-except block to handle a potential ZeroDivisionError.\n",
    "Name a few common exception types in Python.\n",
    "VI. File Handling (Potentially):\n",
    "\n",
    "How do you open a file for reading and writing in Python?\n",
    "Explain the difference between the read(), readline(), and readlines() methods.\n",
    "How do you ensure that a file is properly closed after use? (Hint: with statement).\n",
    "VII. Modules and Packages (Potentially):\n",
    "\n",
    "How do you import a module in Python? Give an example.\n",
    "How do you import a specific function from a module?\n",
    "Name a few commonly used modules in the Python standard library and what they are used for.\n",
    "VIII. Object-Oriented Programming (OOP):\n",
    "\n",
    "What is a class and what is an object in Python?\n",
    "Explain the concepts of attributes and methods in a class.\n",
    "What is the purpose of the __init__ method?\n",
    "Explain the concept of inheritance with a simple example.\n",
    "What is polymorphism? Give an example.\n",
    "Briefly explain encapsulation and abstraction in OOP.\n",
    "IX. Output Prediction:\n",
    "\n",
    "You might be given small code snippets and asked to predict their output.\n",
    "Instructions for Creating Your PDF:\n",
    "\n",
    "Copy the questions above.\n",
    "Open a document editor (e.g., Google Docs, Microsoft Word).\n",
    "Paste the questions into the document.\n",
    "Format the document as needed (add headings, spacing, etc.).\n",
    "Save the document as a PDF file.\n",
    "This should give you a good set of potential questions to practice with for your Python mock exam. Good luck!"
   ]
  },
  {
   "cell_type": "code",
   "execution_count": 59,
   "metadata": {},
   "outputs": [
    {
     "name": "stdout",
     "output_type": "stream",
     "text": [
      "hello\n"
     ]
    }
   ],
   "source": [
    "print(\"hello\")"
   ]
  },
  {
   "cell_type": "code",
   "execution_count": 60,
   "metadata": {},
   "outputs": [
    {
     "data": {
      "text/plain": [
       "11"
      ]
     },
     "execution_count": 60,
     "metadata": {},
     "output_type": "execute_result"
    }
   ],
   "source": [
    "5 + 3 * 2\n"
   ]
  },
  {
   "cell_type": "code",
   "execution_count": 76,
   "metadata": {},
   "outputs": [
    {
     "name": "stdout",
     "output_type": "stream",
     "text": [
      "[10, 5, 20, 30]\n"
     ]
    }
   ],
   "source": [
    "list1 = [10, 20, 30]\n",
    "list1.append(4)  # Appends 4 to the list\n",
    "list1.pop()      # Removes and returns the last element\n",
    "list1.insert(1, 5)  # Inserts 5 at index 1\n",
    "print(list1)  # Output: [10, 5, 20, 30]"
   ]
  },
  {
   "cell_type": "code",
   "execution_count": 81,
   "metadata": {},
   "outputs": [],
   "source": [
    "list1.append([12,90])"
   ]
  },
  {
   "cell_type": "code",
   "execution_count": 82,
   "metadata": {},
   "outputs": [
    {
     "data": {
      "text/plain": [
       "[10, 5, 20, 30, 12, 12, 90, [12, 90]]"
      ]
     },
     "execution_count": 82,
     "metadata": {},
     "output_type": "execute_result"
    }
   ],
   "source": [
    "list1"
   ]
  },
  {
   "cell_type": "code",
   "execution_count": 83,
   "metadata": {},
   "outputs": [
    {
     "name": "stdout",
     "output_type": "stream",
     "text": [
      "[1, 4, 9, 16, 25]\n"
     ]
    }
   ],
   "source": [
    "comp = [x**2 for x in range(1,6) ]\n",
    "print(comp)"
   ]
  },
  {
   "cell_type": "code",
   "execution_count": 93,
   "metadata": {},
   "outputs": [
    {
     "name": "stdout",
     "output_type": "stream",
     "text": [
      "[(1, 2, 3, 4)]\n"
     ]
    },
    {
     "data": {
      "text/plain": [
       "(1, 2, 3, 4)"
      ]
     },
     "execution_count": 93,
     "metadata": {},
     "output_type": "execute_result"
    }
   ],
   "source": [
    "tuple1 = (1,2,3,4)\n",
    "# tuple1.append(6)immutable\n",
    "tuple_list = [tuple1]\n",
    "print(tuple_list)\n",
    "tuple_list[0]  # Access the first (and only) element in the list"
   ]
  },
  {
   "cell_type": "code",
   "execution_count": 86,
   "metadata": {},
   "outputs": [
    {
     "name": "stdout",
     "output_type": "stream",
     "text": [
      "{1, 2, 3, 5}\n"
     ]
    }
   ],
   "source": [
    "set1 = {1,2,3,5}\n",
    "print(set1)"
   ]
  },
  {
   "cell_type": "code",
   "execution_count": 94,
   "metadata": {},
   "outputs": [
    {
     "name": "stdout",
     "output_type": "stream",
     "text": [
      "[1, 2, 3, 4]\n"
     ]
    }
   ],
   "source": [
    "tuple_list = list(tuple1)\n",
    "print(tuple_list)"
   ]
  },
  {
   "cell_type": "code",
   "execution_count": 103,
   "metadata": {},
   "outputs": [
    {
     "name": "stdout",
     "output_type": "stream",
     "text": [
      "{'aman': 24, 'rahul': 26}\n",
      "{'aman': 90, 'rahul': 13}\n"
     ]
    }
   ],
   "source": [
    "dict1 = {\"aman\":12 , \"rahul\":13}\n",
    "compre = { x : y*2 for x,y in dict1.items()}\n",
    "dict1.update({\"aman\":90})\n",
    "print(compre)\n",
    "print(dict1)"
   ]
  },
  {
   "cell_type": "code",
   "execution_count": 2,
   "metadata": {},
   "outputs": [
    {
     "name": "stdout",
     "output_type": "stream",
     "text": [
      "{'aman': 90, 'rahul': 13}\n"
     ]
    }
   ],
   "source": [
    "values = [{'aman':90 ,'rahul': 13 }]\n",
    "values1 = {}\n",
    "for i in values:\n",
    "    for values in i:\n",
    "        values1.update(i)\n",
    "print(values1)\n"
   ]
  },
  {
   "cell_type": "code",
   "execution_count": 4,
   "metadata": {},
   "outputs": [
    {
     "name": "stdout",
     "output_type": "stream",
     "text": [
      "[2, 3, 4]\n"
     ]
    }
   ],
   "source": [
    "x = [lambda y=y: y + 2 for y in range(3)]  # Fix the lambda to capture the current value of y\n",
    "print([func() for func in x])  # Call each lambda function and print the results"
   ]
  },
  {
   "cell_type": "code",
   "execution_count": null,
   "metadata": {},
   "outputs": [],
   "source": []
  }
 ],
 "metadata": {
  "kernelspec": {
   "display_name": "base",
   "language": "python",
   "name": "python3"
  },
  "language_info": {
   "codemirror_mode": {
    "name": "ipython",
    "version": 3
   },
   "file_extension": ".py",
   "mimetype": "text/x-python",
   "name": "python",
   "nbconvert_exporter": "python",
   "pygments_lexer": "ipython3",
   "version": "3.12.7"
  }
 },
 "nbformat": 4,
 "nbformat_minor": 2
}
