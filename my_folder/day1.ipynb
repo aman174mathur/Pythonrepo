{
 "cells": [
  {
   "cell_type": "code",
   "execution_count": 3,
   "metadata": {},
   "outputs": [
    {
     "name": "stdout",
     "output_type": "stream",
     "text": [
      "[24, 56, 45, 230]\n"
     ]
    }
   ],
   "source": [
    "list1 = [230,45,56,24]\n",
    "reversed_list = []\n",
    "for i in range(len(list1) - 1, -1, -1):\n",
    "    reversed_list.append(list1[i])\n",
    "\n",
    "print(reversed_list)\n"
   ]
  },
  {
   "cell_type": "code",
   "execution_count": 2,
   "metadata": {},
   "outputs": [],
   "source": [
    "user_input = ''\n",
    "while user_input != 'quit':\n",
    "    user_input = input('Enter your value: ')"
   ]
  },
  {
   "cell_type": "code",
   "execution_count": 6,
   "metadata": {},
   "outputs": [
    {
     "name": "stdout",
     "output_type": "stream",
     "text": [
      "The factorial of 8 is 40320\n"
     ]
    }
   ],
   "source": [
    "def factorial(num):\n",
    "    if num < 0 :\n",
    "        return \"invalid\"\n",
    "    elif (num == 0):\n",
    "        return 1\n",
    "    else:\n",
    "        result = 1\n",
    "        for i in range(1,num+1):\n",
    "            result = result * i\n",
    "            \n",
    "        return result\n",
    "    \n",
    "x = 8\n",
    "fact = factorial(x)\n",
    "print(f\"The factorial of {x} is {fact}\")  "
   ]
  },
  {
   "cell_type": "code",
   "execution_count": 7,
   "metadata": {},
   "outputs": [
    {
     "name": "stdout",
     "output_type": "stream",
     "text": [
      "The factorial of 8 is 40320\n",
      "The factorial of 0 is 1\n",
      "None\n"
     ]
    }
   ],
   "source": [
    "def factorial(n):\n",
    "    \"\"\"\n",
    "    Calculates the factorial of a non-negative integer.\n",
    "\n",
    "    Args:\n",
    "      n: A non-negative integer.\n",
    "\n",
    "    Returns:\n",
    "      The factorial of n, or 1 if n is 0.\n",
    "      Returns None if n is negative.\n",
    "    \"\"\"\n",
    "    if n < 0:\n",
    "        return None  # Factorial is not defined for negative numbers\n",
    "    elif n == 0:\n",
    "        return 1\n",
    "    else:\n",
    "        result = 1\n",
    "        for i in range(1, n + 1):\n",
    "            result *= i\n",
    "        return result\n",
    "\n",
    "# Example usage:\n",
    "num = 8\n",
    "fact = factorial(num)\n",
    "\n",
    "if fact is not None:\n",
    "    print(f\"The factorial of {num} is {fact}\")\n",
    "else:\n",
    "    print(f\"Factorial of {num} is undefined, because {num} is negative.\")\n",
    "\n",
    "num2 = 0\n",
    "fact2 = factorial(num2)\n",
    "print(f\"The factorial of {num2} is {fact2}\")\n",
    "\n",
    "num3 = -3\n",
    "fact3 = factorial(num3)\n",
    "print(fact3)"
   ]
  },
  {
   "cell_type": "code",
   "execution_count": 10,
   "metadata": {},
   "outputs": [
    {
     "name": "stdout",
     "output_type": "stream",
     "text": [
      "[10, 30, 40, 50]\n",
      "50\n"
     ]
    }
   ],
   "source": [
    "def find_largest_and_list(input_list):\n",
    "    \"\"\"\n",
    "    Finds the largest number in the input list and creates a new list\n",
    "    where each element is the largest number encountered so far.\n",
    "\n",
    "    Args:\n",
    "        input_list: A list of integers.\n",
    "\n",
    "    Returns:\n",
    "        A tuple containing the new list and the largest number.\n",
    "    \"\"\"\n",
    "    largest = 0\n",
    "    result_list = []\n",
    "    for num in input_list:\n",
    "        if num > largest:\n",
    "            largest = num\n",
    "        result_list.append(largest)\n",
    "    return result_list, largest\n",
    "\n",
    "# Example usage\n",
    "list1 = [10, 30, 40, 50]\n",
    "list2, largest = find_largest_and_list(list1)\n",
    "print(list2)\n",
    "print(largest)"
   ]
  },
  {
   "cell_type": "code",
   "execution_count": null,
   "metadata": {},
   "outputs": [
    {
     "name": "stdout",
     "output_type": "stream",
     "text": [
      "not\n",
      "not\n",
      "not\n",
      "not\n",
      "not\n",
      "palindrome\n",
      "['b', 'h', 'a', 'v', 'y', 'a']\n"
     ]
    }
   ],
   "source": [
    "str = 'bhavya'\n",
    "list1 = []\n",
    "for i in str:\n",
    "    list1.append(i)\n",
    "\n",
    "for i in range(0, 1):  # Loop through the first index\n",
    "    for j in range(len(list1) - 1, -1, -1):  # Loop through the list in reverse\n",
    "        if list1[i] == list1[j]:\n",
    "            print(\"palindrome\")\n",
    "            \n",
    "        else:\n",
    "            print(\"not\")\n",
    "print(list1)"
   ]
  },
  {
   "cell_type": "code",
   "execution_count": 2,
   "metadata": {},
   "outputs": [
    {
     "name": "stdout",
     "output_type": "stream",
     "text": [
      "7 \n",
      "7 7 \n",
      "7 7 7 \n",
      "7 7 7 7 \n",
      "7 7 7 7 7 \n"
     ]
    }
   ],
   "source": [
    "n =5\n",
    "for i in range(n):\n",
    "    for j in range(i+1):\n",
    "        print(\"7\", end=\" \")\n",
    "    print()"
   ]
  },
  {
   "cell_type": "code",
   "execution_count": 3,
   "metadata": {},
   "outputs": [
    {
     "name": "stdout",
     "output_type": "stream",
     "text": [
      "6 6 6 6 6 \n",
      "6 6 6 6 \n",
      "6 6 6 \n",
      "6 6 \n",
      "6 \n"
     ]
    }
   ],
   "source": [
    "n =5 \n",
    "for i in range(n):\n",
    "    for j in range(n-i):\n",
    "        print(\"6\" , end = \" \")\n",
    "    print()"
   ]
  },
  {
   "cell_type": "code",
   "execution_count": 13,
   "metadata": {},
   "outputs": [
    {
     "name": "stdout",
     "output_type": "stream",
     "text": [
      "6 6 6 6 6 \n",
      "6     6 \n",
      "6   6 \n",
      "6 6 \n",
      "6 \n"
     ]
    }
   ],
   "source": [
    "n =5 \n",
    "for i in range(n):\n",
    "    for j in range(n-i):\n",
    "        if j==0   or i == 0 or j == n-i-1 or i == n-1:\n",
    "            print(\"6\" , end = \" \")\n",
    "        else:\n",
    "            print(\" \" , end= \" \")\n",
    "    print()"
   ]
  },
  {
   "cell_type": "code",
   "execution_count": 21,
   "metadata": {},
   "outputs": [
    {
     "name": "stdout",
     "output_type": "stream",
     "text": [
      "        1 \n",
      "      1 1 1 \n",
      "    1 1 1 1 1 \n",
      "  1 1 1 1 1 1 1 \n",
      "1 1 1 1 1 1 1 1 1 \n"
     ]
    }
   ],
   "source": [
    "n = 5\n",
    "for i in range(n):\n",
    "    for j in range(n-i-1):\n",
    "        print(\" \", end=' ')\n",
    "    for k in range(i+1):\n",
    "        print(\"1\", end=' ')\n",
    "    for l in range(i):\n",
    "        print(\"1\", end=' ')\n",
    "    print()"
   ]
  },
  {
   "cell_type": "code",
   "execution_count": 26,
   "metadata": {},
   "outputs": [
    {
     "name": "stdout",
     "output_type": "stream",
     "text": [
      "     1 \n",
      "    1 1 \n",
      "   1 2 1 \n",
      "  1 3 3 1 \n",
      " 1 4 6 4 1 \n"
     ]
    }
   ],
   "source": [
    "n = 5\n",
    "for i in range(n):\n",
    "    num = 1\n",
    "    for j in range(n-i):\n",
    "        print(\" \" , end= \"\")\n",
    "    for j in range(i+1):\n",
    "        print(num , end = \" \")\n",
    "        num = num*(i-j)// (j+1)\n",
    "    print()"
   ]
  },
  {
   "cell_type": "code",
   "execution_count": 28,
   "metadata": {},
   "outputs": [
    {
     "name": "stdout",
     "output_type": "stream",
     "text": [
      "1 \n",
      "2 3 \n",
      "4 5 6 \n",
      "7 8 9 10 \n",
      "11 12 13 14 15 \n"
     ]
    }
   ],
   "source": [
    "n = 5\n",
    "num = 1\n",
    "for i in range(n):\n",
    "    for j in range(i+1):\n",
    "        print(num , end = \" \")\n",
    "        num += 1\n",
    "    print()"
   ]
  },
  {
   "cell_type": "code",
   "execution_count": null,
   "metadata": {},
   "outputs": [],
   "source": []
  }
 ],
 "metadata": {
  "kernelspec": {
   "display_name": "base",
   "language": "python",
   "name": "python3"
  },
  "language_info": {
   "codemirror_mode": {
    "name": "ipython",
    "version": 3
   },
   "file_extension": ".py",
   "mimetype": "text/x-python",
   "name": "python",
   "nbconvert_exporter": "python",
   "pygments_lexer": "ipython3",
   "version": "3.12.7"
  }
 },
 "nbformat": 4,
 "nbformat_minor": 2
}
