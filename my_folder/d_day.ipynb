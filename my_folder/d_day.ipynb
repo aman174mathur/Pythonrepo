{
 "cells": [
  {
   "cell_type": "code",
   "execution_count": 25,
   "id": "56b4930e",
   "metadata": {},
   "outputs": [
    {
     "name": "stdout",
     "output_type": "stream",
     "text": [
      "#\n",
      "##\n",
      "# #\n",
      "#  #\n",
      "#  #\n",
      "# #\n",
      "##\n",
      "#\n"
     ]
    }
   ],
   "source": [
    "n=4\n",
    "for i in range(n):\n",
    "    for j in range(i+1):\n",
    "        if j==0 or j==i:\n",
    "            print(\"#\" , end = \"\")\n",
    "        else:\n",
    "            print(\" \", end = \"\")\n",
    "    print()\n",
    "\n",
    "for i in range(n):\n",
    "    for j in range(n-i):\n",
    "        if j==0 or j==n-i-1:\n",
    "            print(\"#\" , end = \"\")\n",
    "        else:\n",
    "            print(\" \", end = \"\")\n",
    "    print()"
   ]
  },
  {
   "cell_type": "code",
   "execution_count": 28,
   "id": "8444357c",
   "metadata": {},
   "outputs": [
    {
     "name": "stdout",
     "output_type": "stream",
     "text": [
      "2\n"
     ]
    }
   ],
   "source": [
    "str1  = \"regexian\"\n",
    "str2 = \"tushar\"\n",
    "common_char = []\n",
    "for i in range(0,len(str1)):\n",
    "    for j in range(0,len(str2)):\n",
    "        if str1[i] == str2[j]:\n",
    "            common_char.append(str1[i])\n",
    "print(len(common_char))"
   ]
  },
  {
   "cell_type": "code",
   "execution_count": null,
   "id": "2bedc031",
   "metadata": {},
   "outputs": [
    {
     "name": "stdout",
     "output_type": "stream",
     "text": [
      "[]\n"
     ]
    }
   ],
   "source": [
    "input_str = \"hello hey computer science new\"\n",
    "len_of_word = []\n",
    "k = 4\n",
    "words = input_str.split(\" \")\n",
    "output = [word for word in words if len(word)=k ]\n",
    "print(output)"
   ]
  },
  {
   "cell_type": "code",
   "execution_count": 48,
   "id": "82a186b6",
   "metadata": {},
   "outputs": [
    {
     "name": "stdout",
     "output_type": "stream",
     "text": [
      "['hello', 'computer', 'science']\n",
      "hello computer science\n"
     ]
    }
   ],
   "source": [
    "input_str = \"hello hey computer science new\"\n",
    "len_of_word = []\n",
    "k = 4\n",
    "words = input_str.split(\" \")\n",
    "output = [word for word in words if len(word) >= k]\n",
    "print(output)\n",
    "x = \" \".join(output)\n",
    "print(x)\n"
   ]
  },
  {
   "cell_type": "code",
   "execution_count": 56,
   "id": "2059a6cb",
   "metadata": {},
   "outputs": [
    {
     "name": "stdout",
     "output_type": "stream",
     "text": [
      "$*********\n",
      "$$*******\n",
      "$$$*****\n",
      "$$$$***\n",
      "$$$$$*\n"
     ]
    }
   ],
   "source": [
    "n=5\n",
    "for i in range(n):\n",
    "    for j in range(i+1):\n",
    "        print(\"$\" , end  = \"\")\n",
    "    for k in range(n-i):\n",
    "        print(\"*\", end = \"\")\n",
    "    for l in range(n-i-1):\n",
    "        print(\"*\", end = \"\")\n",
    "    print()"
   ]
  },
  {
   "cell_type": "code",
   "execution_count": 62,
   "id": "c58aad38",
   "metadata": {},
   "outputs": [
    {
     "name": "stdout",
     "output_type": "stream",
     "text": [
      "1 is not a prime\n",
      "2 is a prime\n",
      "3 is a prime\n",
      "4 is not a prime\n",
      "5 is a prime\n",
      "6 is not a prime\n",
      "7 is a prime\n",
      "8 is not a prime\n",
      "9 is not a prime\n",
      "10 is not a prime\n",
      "11 is a prime\n"
     ]
    }
   ],
   "source": [
    "num = []\n",
    "for i in range(1, 12):\n",
    "    if i == 1:\n",
    "        print(\"1 is not a prime\")\n",
    "        continue\n",
    "    is_prime = True\n",
    "    for j in range(2, int(i**0.5) + 1):  # Check divisors up to the square root of i\n",
    "        if i % j == 0:\n",
    "            is_prime = False\n",
    "            break\n",
    "    if is_prime:\n",
    "        print(i, \"is a prime\")\n",
    "    else:\n",
    "        print(i, \"is not a prime\")"
   ]
  },
  {
   "cell_type": "code",
   "execution_count": 69,
   "id": "d81c91db",
   "metadata": {},
   "outputs": [
    {
     "name": "stdout",
     "output_type": "stream",
     "text": [
      "{'a': 3, 'ab': 2, 'aba': 2, 'abab': 1, 'ababa': 1, 'b': 2, 'ba': 2, 'bab': 1, 'baba': 1}\n",
      "['a', 'ab', 'aba', 'b', 'ba', 'a']\n"
     ]
    }
   ],
   "source": [
    "input_string = \"ababa\"  # Renamed the variable to avoid shadowing the built-in str\n",
    "freq = {}\n",
    "char = []\n",
    "for i in range(len(input_string)):\n",
    "    for j in range(i + 1, len(input_string) + 1):  # Adjusted range to include the last character\n",
    "        substring = input_string[i:j]\n",
    "        if substring in freq:\n",
    "            freq[substring] += 1\n",
    "            char.append(substring)\n",
    "        else:\n",
    "            freq[substring] = 1\n",
    "print(freq)\n",
    "print(char)"
   ]
  },
  {
   "cell_type": "code",
   "execution_count": 90,
   "id": "53d906eb",
   "metadata": {},
   "outputs": [
    {
     "name": "stdout",
     "output_type": "stream",
     "text": [
      "  * * * * * \n",
      "    *     * \n",
      "      *   * \n",
      "        * * \n",
      "          * \n"
     ]
    }
   ],
   "source": [
    "n=5\n",
    "for i in range(n):\n",
    "    for j in range(i+1):\n",
    "        print(\" \", end=\" \")\n",
    "    for k in range(n-i):\n",
    "        if k==0 or i==0 or k== n-i-1:\n",
    "            print(\"*\" , end = \" \")\n",
    "        else:\n",
    "            print(\" \", end = \" \")\n",
    "    print()"
   ]
  },
  {
   "cell_type": "code",
   "execution_count": 99,
   "id": "3cd88c6e",
   "metadata": {},
   "outputs": [
    {
     "name": "stdout",
     "output_type": "stream",
     "text": [
      "dict_values([2, 1, 1, 2, 1, 1])\n"
     ]
    }
   ],
   "source": [
    "input_str = \"aabcdeef\"\n",
    "dic1 = {x: input_str.count(x) for x in set(input_str)}\n",
    "print(dic1.values())"
   ]
  },
  {
   "cell_type": "code",
   "execution_count": 103,
   "id": "5b49d1f2",
   "metadata": {},
   "outputs": [
    {
     "name": "stdout",
     "output_type": "stream",
     "text": [
      "[1, 2, 1, 2, 2, 1]\n"
     ]
    }
   ],
   "source": [
    "str= \"yaashh331\"\n",
    "dic2 = {x:str.count(x)for x in str}\n",
    "print(list(dic2.values()))"
   ]
  },
  {
   "cell_type": "code",
   "execution_count": 123,
   "id": "17daebfb",
   "metadata": {},
   "outputs": [
    {
     "name": "stdout",
     "output_type": "stream",
     "text": [
      "1 2 3 4 \n",
      " 2 3 4 \n",
      "  3 4 \n",
      "   4 \n"
     ]
    }
   ],
   "source": [
    "n=4\n",
    "num = 1\n",
    "for i in range(n):\n",
    "    for j in range(i):\n",
    "        print(\"\" , end = \" \")\n",
    "    for k in range(i,n):\n",
    "        print( k+1, end = \" \")\n",
    "    print()\n"
   ]
  },
  {
   "cell_type": "code",
   "execution_count": 121,
   "id": "87b2011a",
   "metadata": {},
   "outputs": [
    {
     "name": "stdout",
     "output_type": "stream",
     "text": [
      "1234\n",
      "234\n",
      "34\n",
      "4\n"
     ]
    }
   ],
   "source": [
    "for i in range(1, 5):  # Outer loop: controls the starting number of each line\n",
    "    for j in range(i, 5):  # Inner loop: prints numbers from the current starting number up to 4\n",
    "        print(j, end='')  # Print number without newline\n",
    "    print()  # Move to the next line after printing each row\n"
   ]
  },
  {
   "cell_type": "code",
   "execution_count": null,
   "id": "d36f8b8d",
   "metadata": {},
   "outputs": [],
   "source": [
    "1234\n",
    "234\n",
    "34\n",
    "4"
   ]
  },
  {
   "cell_type": "code",
   "execution_count": null,
   "id": "e66d1f55",
   "metadata": {},
   "outputs": [
    {
     "ename": "TypeError",
     "evalue": "'str' object is not callable",
     "output_type": "error",
     "traceback": [
      "\u001b[1;31m---------------------------------------------------------------------------\u001b[0m",
      "\u001b[1;31mTypeError\u001b[0m                                 Traceback (most recent call last)",
      "Cell \u001b[1;32mIn[130], line 8\u001b[0m\n\u001b[0;32m      5\u001b[0m                 \u001b[38;5;28;01mreturn\u001b[39;00m \u001b[38;5;28;01mFalse\u001b[39;00m\n\u001b[0;32m      6\u001b[0m         \u001b[38;5;28;01mreturn\u001b[39;00m \u001b[38;5;28;01mTrue\u001b[39;00m\n\u001b[1;32m----> 8\u001b[0m is_pallindrome(\u001b[38;5;241m121\u001b[39m)\n",
      "Cell \u001b[1;32mIn[130], line 2\u001b[0m, in \u001b[0;36mis_pallindrome\u001b[1;34m(number)\u001b[0m\n\u001b[0;32m      1\u001b[0m \u001b[38;5;28;01mdef\u001b[39;00m \u001b[38;5;21mis_pallindrome\u001b[39m(number):\n\u001b[1;32m----> 2\u001b[0m     \u001b[38;5;28;01mfor\u001b[39;00m i \u001b[38;5;129;01min\u001b[39;00m \u001b[38;5;28mrange\u001b[39m(\u001b[38;5;28mlen\u001b[39m(\u001b[38;5;28mstr\u001b[39m(number))):\n\u001b[0;32m      3\u001b[0m         \u001b[38;5;28;01mfor\u001b[39;00m j \u001b[38;5;129;01min\u001b[39;00m \u001b[38;5;28mrange\u001b[39m(\u001b[38;5;28mlen\u001b[39m(\u001b[38;5;28mstr\u001b[39m(number)) \u001b[38;5;241m-\u001b[39m \u001b[38;5;241m1\u001b[39m, \u001b[38;5;241m-\u001b[39m\u001b[38;5;241m1\u001b[39m, \u001b[38;5;241m-\u001b[39m\u001b[38;5;241m1\u001b[39m):\n\u001b[0;32m      4\u001b[0m             \u001b[38;5;28;01mif\u001b[39;00m \u001b[38;5;28mstr\u001b[39m(number)[i] \u001b[38;5;241m!=\u001b[39m \u001b[38;5;28mstr\u001b[39m(number)[j]:\n",
      "\u001b[1;31mTypeError\u001b[0m: 'str' object is not callable"
     ]
    }
   ],
   "source": [
    "def is_pallindrome(number):\n",
    "    for i in range(len(str(number))):\n",
    "        for j in range(len(str(number)) - 1, -1, -1):\n",
    "            if str(number)[i] != str(number)[j]:\n",
    "                return False\n",
    "        return True\n",
    "x= int(number)\n",
    "is_pallindrome(121)"
   ]
  },
  {
   "cell_type": "code",
   "execution_count": 135,
   "id": "1307af14",
   "metadata": {},
   "outputs": [
    {
     "ename": "TypeError",
     "evalue": "'str' object is not callable",
     "output_type": "error",
     "traceback": [
      "\u001b[1;31m---------------------------------------------------------------------------\u001b[0m",
      "\u001b[1;31mTypeError\u001b[0m                                 Traceback (most recent call last)",
      "Cell \u001b[1;32mIn[135], line 10\u001b[0m\n\u001b[0;32m      7\u001b[0m     \u001b[38;5;28;01mreturn\u001b[39;00m num_str \u001b[38;5;241m==\u001b[39m num_str[::\u001b[38;5;241m-\u001b[39m\u001b[38;5;241m1\u001b[39m]  \u001b[38;5;66;03m# Compare the string with its reverse\u001b[39;00m\n\u001b[0;32m      9\u001b[0m number \u001b[38;5;241m=\u001b[39m \u001b[38;5;241m121\u001b[39m\n\u001b[1;32m---> 10\u001b[0m \u001b[38;5;28mprint\u001b[39m(is_palindrome(number))\n",
      "Cell \u001b[1;32mIn[135], line 6\u001b[0m, in \u001b[0;36mis_palindrome\u001b[1;34m(number)\u001b[0m\n\u001b[0;32m      4\u001b[0m \u001b[38;5;28;01mif\u001b[39;00m number \u001b[38;5;241m<\u001b[39m \u001b[38;5;241m0\u001b[39m:\n\u001b[0;32m      5\u001b[0m     \u001b[38;5;28;01mreturn\u001b[39;00m \u001b[38;5;28;01mFalse\u001b[39;00m\n\u001b[1;32m----> 6\u001b[0m num_str \u001b[38;5;241m=\u001b[39m \u001b[38;5;28mstr\u001b[39m(number)  \u001b[38;5;66;03m# Convert the number to a string\u001b[39;00m\n\u001b[0;32m      7\u001b[0m \u001b[38;5;28;01mreturn\u001b[39;00m num_str \u001b[38;5;241m==\u001b[39m num_str[::\u001b[38;5;241m-\u001b[39m\u001b[38;5;241m1\u001b[39m]\n",
      "\u001b[1;31mTypeError\u001b[0m: 'str' object is not callable"
     ]
    }
   ],
   "source": [
    "def is_palindrome(number):\n",
    "    if not isinstance(number, int):\n",
    "        raise TypeError(\"Input must be an integer.\")\n",
    "    if number < 0:\n",
    "        return False\n",
    "    num_str = str(number)  # Convert the number to a string\n",
    "    return num_str == num_str[::-1]  # Compare the string with its reverse\n",
    "\n",
    "number = 121\n",
    "print(is_palindrome(number))  # Output: True"
   ]
  },
  {
   "cell_type": "code",
   "execution_count": 163,
   "id": "0c5df862",
   "metadata": {},
   "outputs": [
    {
     "name": "stdout",
     "output_type": "stream",
     "text": [
      "    7\n",
      "   55\n",
      "  333\n",
      " 1111\n"
     ]
    }
   ],
   "source": [
    "n=4\n",
    "num = 2*n-1\n",
    "for i in range(n):\n",
    "    for j in range(n-i):\n",
    "        print(\" \", end=\"\")\n",
    "    for k in range(i+1):\n",
    "        print(num, end=\"\")\n",
    "    print()\n",
    "    num-=2"
   ]
  },
  {
   "cell_type": "code",
   "execution_count": 149,
   "id": "6b8a0b59",
   "metadata": {},
   "outputs": [
    {
     "name": "stdout",
     "output_type": "stream",
     "text": [
      "      7 \n",
      "    5 5 \n",
      "  3 3 3 \n",
      "1 1 1 1 \n"
     ]
    }
   ],
   "source": [
    "n = 4  # Total number of rows\n",
    "k = 2 * n - 1  # Starting number to print\n",
    "\n",
    "for i in range(n):  # i = current row index\n",
    "    # Print spaces\n",
    "    for j in range(n - i - 1):\n",
    "        print(\"  \", end=\"\")\n",
    "\n",
    "    # Print number 'k' (i + 1) times\n",
    "    for j in range(i + 1):\n",
    "        print(k, end=\" \")\n",
    "\n",
    "    print()  # Newline after each row\n",
    "    k -= 2  # Decrease number by 2 each row\n"
   ]
  },
  {
   "cell_type": "code",
   "execution_count": 169,
   "id": "754ead26",
   "metadata": {},
   "outputs": [
    {
     "name": "stdout",
     "output_type": "stream",
     "text": [
      "    \n",
      "   1\n",
      "  12\n",
      " 123\n"
     ]
    }
   ],
   "source": [
    "n=4\n",
    "for i in range(n):\n",
    "    for j in range(n-i):\n",
    "        print(\" \", end=\"\")\n",
    "    for k in range(i):\n",
    "        print(k+1, end=\"\")\n",
    "    print()\n",
    "    num-=2"
   ]
  },
  {
   "cell_type": "code",
   "execution_count": 171,
   "id": "a06a97a8",
   "metadata": {},
   "outputs": [
    {
     "name": "stdout",
     "output_type": "stream",
     "text": [
      "1 \n",
      "2 2 \n",
      "3 3 3 \n",
      "4 4 4 4 \n"
     ]
    }
   ],
   "source": [
    "n=4\n",
    "for i in range(n):\n",
    "    for j in range(i+1):\n",
    "        print(i+1 , end = \" \")\n",
    "    print()"
   ]
  },
  {
   "cell_type": "code",
   "execution_count": 191,
   "id": "148532dc",
   "metadata": {},
   "outputs": [
    {
     "name": "stdout",
     "output_type": "stream",
     "text": [
      "9 \n",
      "9 9 \n",
      "9 9 9 \n",
      "9 9 9 9 \n"
     ]
    }
   ],
   "source": [
    "n=5\n",
    "num = 2*n-1\n",
    "for i in range(1,n):\n",
    "    for j in range(i):\n",
    "        print(num, end=\" \")\n",
    "    print()\n"
   ]
  },
  {
   "cell_type": "code",
   "execution_count": null,
   "id": "550e252c",
   "metadata": {},
   "outputs": [],
   "source": [
    "1\n",
    "33\n",
    "555\n",
    "7777"
   ]
  },
  {
   "cell_type": "code",
   "execution_count": 199,
   "id": "cb88b0d1",
   "metadata": {},
   "outputs": [
    {
     "name": "stdout",
     "output_type": "stream",
     "text": [
      "[10, 20, 30, 40]\n",
      "[40, 30, 20, 10]\n"
     ]
    }
   ],
   "source": [
    "list1 = [10,30,40,20]\n",
    "list1.sort()\n",
    "print(list1)\n",
    "x = list1[::-1]\n",
    "print(x)"
   ]
  },
  {
   "cell_type": "code",
   "execution_count": 200,
   "id": "47461295",
   "metadata": {},
   "outputs": [
    {
     "name": "stdout",
     "output_type": "stream",
     "text": [
      "3\n"
     ]
    }
   ],
   "source": [
    "d = {'a': 1, 'b': 2}\n",
    "print(d.get('c', 3))"
   ]
  },
  {
   "cell_type": "code",
   "execution_count": 207,
   "id": "30f85b14",
   "metadata": {},
   "outputs": [
    {
     "name": "stdout",
     "output_type": "stream",
     "text": [
      "{'b': 1, 'a': 3, 'n': 2}\n"
     ]
    }
   ],
   "source": [
    "string = \"banana\"\n",
    "words = []\n",
    "freq = {}\n",
    "for i in string:\n",
    "    freq[i] = string.count(i)\n",
    "print(freq)"
   ]
  },
  {
   "cell_type": "code",
   "execution_count": 210,
   "id": "4b696dd9",
   "metadata": {},
   "outputs": [],
   "source": [
    "list1 = [10,20,30]\n",
    "list1.append([50])\n",
    "list1.extend([50])"
   ]
  },
  {
   "cell_type": "code",
   "execution_count": 211,
   "id": "cc02f305",
   "metadata": {},
   "outputs": [
    {
     "data": {
      "text/plain": [
       "[10, 20, 30, [50], 50]"
      ]
     },
     "execution_count": 211,
     "metadata": {},
     "output_type": "execute_result"
    }
   ],
   "source": [
    "list1"
   ]
  },
  {
   "cell_type": "code",
   "execution_count": 212,
   "id": "8812c022",
   "metadata": {},
   "outputs": [
    {
     "data": {
      "text/plain": [
       "dict_items([('name', 'aman'), ('age', 20)])"
      ]
     },
     "execution_count": 212,
     "metadata": {},
     "output_type": "execute_result"
    }
   ],
   "source": [
    "dictionary = {'name':'aman', 'age':20}\n",
    "dictionary.items()\n"
   ]
  },
  {
   "cell_type": "code",
   "execution_count": 215,
   "id": "dc573d42",
   "metadata": {},
   "outputs": [
    {
     "name": "stdout",
     "output_type": "stream",
     "text": [
      "[3, 4, 5]\n"
     ]
    }
   ],
   "source": [
    "list1 = [1, 2, 3, 4, 5]\n",
    "list2 = [3, 4, 5, 6, 7]\n",
    "common = [value for value in list1 if value in list2]\n",
    "print(common)"
   ]
  },
  {
   "cell_type": "code",
   "execution_count": 226,
   "id": "79983fa4",
   "metadata": {},
   "outputs": [
    {
     "name": "stdout",
     "output_type": "stream",
     "text": [
      "strawberry\n"
     ]
    }
   ],
   "source": [
    "words = [\"apple\", \"banana\", \"strawberry\", \"kiwi\"]\n",
    "len_of_word = [len(x) for x in words]\n",
    "x = max(len_of_word)\n",
    "for i in words:\n",
    "    if len(i)==x:\n",
    "        print(i)"
   ]
  },
  {
   "cell_type": "code",
   "execution_count": null,
   "id": "243a65d9",
   "metadata": {},
   "outputs": [],
   "source": []
  }
 ],
 "metadata": {
  "kernelspec": {
   "display_name": "base",
   "language": "python",
   "name": "python3"
  },
  "language_info": {
   "codemirror_mode": {
    "name": "ipython",
    "version": 3
   },
   "file_extension": ".py",
   "mimetype": "text/x-python",
   "name": "python",
   "nbconvert_exporter": "python",
   "pygments_lexer": "ipython3",
   "version": "3.12.7"
  }
 },
 "nbformat": 4,
 "nbformat_minor": 5
}
