{
 "cells": [
  {
   "cell_type": "code",
   "execution_count": 6,
   "id": "cad0c4cf",
   "metadata": {},
   "outputs": [
    {
     "data": {
      "text/plain": [
       "'project_enhanced2.ipynb'"
      ]
     },
     "execution_count": 6,
     "metadata": {},
     "output_type": "execute_result"
    }
   ],
   "source": [
    "# Start constructing the improved version of the notebook with additional insights and modeling enhancements.\n",
    "from nbformat.v4 import new_notebook, new_code_cell, new_markdown_cell\n",
    "from nbformat import write\n",
    "\n",
    "# Create a list of new cells to add\n",
    "improved_cells = [\n",
    "    new_markdown_cell(\"## 🔍 Enhanced Exploratory Data Analysis\"),\n",
    "    new_code_cell(\"\"\"# Correlation Heatmap\n",
    "plt.figure(figsize=(10, 8))\n",
    "sns.heatmap(df.corr(numeric_only=True), annot=True, cmap='coolwarm', fmt=\".2f\")\n",
    "plt.title(\"Correlation Heatmap\")\n",
    "plt.show()\"\"\"),\n",
    "    \n",
    "    new_code_cell(\"\"\"# Distribution Plots\n",
    "num_features = ['Price', 'Discount', 'Rating (out of 5)', 'Amount Sold']\n",
    "for feature in num_features:\n",
    "    plt.figure(figsize=(6, 4))\n",
    "    sns.histplot(df[feature], kde=True, bins=30)\n",
    "    plt.title(f'Distribution of {feature}')\n",
    "    plt.show()\"\"\"),\n",
    "\n",
    "    new_code_cell(\"\"\"# Boxplots to check for outliers\n",
    "for feature in num_features:\n",
    "    plt.figure(figsize=(6, 4))\n",
    "    sns.boxplot(x=df[feature])\n",
    "    plt.title(f'Boxplot of {feature}')\n",
    "    plt.show()\"\"\"),\n",
    "\n",
    "    new_markdown_cell(\"## 🧠 Feature Engineering\"),\n",
    "    new_code_cell(\"\"\"# Add price after discount\n",
    "df['Price_After_Discount'] = df['Price'] * (1 - df['Discount'] / 100)\"\"\"),\n",
    "\n",
    "    new_markdown_cell(\"## ⚙️ Model Comparison with Multiple Regressors\"),\n",
    "    new_code_cell(\"\"\"from sklearn.ensemble import RandomForestRegressor\n",
    "from sklearn.linear_model import LinearRegression\n",
    "from sklearn.model_selection import cross_val_score\n",
    "from xgboost import XGBRegressor\n",
    "\n",
    "models = {\n",
    "    'Decision Tree': DecisionTreeRegressor(**grid_search.best_params_, random_state=42),\n",
    "    'Random Forest': RandomForestRegressor(random_state=42),\n",
    "    'Linear Regression': LinearRegression(),\n",
    "    'XGBoost': XGBRegressor(random_state=42)\n",
    "}\n",
    "\n",
    "results = {}\n",
    "for name, model in models.items():\n",
    "    scores = cross_val_score(model, X, y, cv=5, scoring='r2')\n",
    "    results[name] = scores\n",
    "    print(f\"{name} | Mean R²: {scores.mean():.4f} | Std: {scores.std():.4f}\")\"\"\"),\n",
    "\n",
    "    new_markdown_cell(\"## 📊 Residual Analysis\"),\n",
    "    new_code_cell(\"\"\"# Residuals for the best model (Decision Tree from GridSearch)\n",
    "best_model = DecisionTreeRegressor(**grid_search.best_params_, random_state=42)\n",
    "best_model.fit(X_train, y_train)\n",
    "y_pred_best = best_model.predict(X_test)\n",
    "residuals = y_test - y_pred_best\n",
    "\n",
    "plt.figure(figsize=(6, 4))\n",
    "sns.histplot(residuals, kde=True)\n",
    "plt.title(\"Residuals Distribution\")\n",
    "plt.xlabel(\"Residual\")\n",
    "plt.show()\n",
    "\n",
    "plt.figure(figsize=(6, 4))\n",
    "plt.scatter(y_test, residuals)\n",
    "plt.axhline(0, color='red', linestyle='--')\n",
    "plt.title(\"Residuals vs Actual\")\n",
    "plt.xlabel(\"Actual\")\n",
    "plt.ylabel(\"Residual\")\n",
    "plt.show()\"\"\"),\n",
    "]\n",
    "\n",
    "# Create a new notebook object\n",
    "nb = new_notebook()\n",
    "\n",
    "# Append the improved cells to the new notebook\n",
    "nb.cells.extend(improved_cells)\n",
    "\n",
    "# Save the enhanced notebook\n",
    "enhanced_notebook_path = \"project_enhanced2.ipynb\"\n",
    "with open(enhanced_notebook_path, \"w\") as f:\n",
    "    write(nb, f)\n",
    "\n",
    "enhanced_notebook_path\n"
   ]
  },
  {
   "cell_type": "code",
   "execution_count": null,
   "id": "b15743af",
   "metadata": {},
   "outputs": [],
   "source": []
  }
 ],
 "metadata": {
  "kernelspec": {
   "display_name": "base",
   "language": "python",
   "name": "python3"
  },
  "language_info": {
   "codemirror_mode": {
    "name": "ipython",
    "version": 3
   },
   "file_extension": ".py",
   "mimetype": "text/x-python",
   "name": "python",
   "nbconvert_exporter": "python",
   "pygments_lexer": "ipython3",
   "version": "3.12.7"
  }
 },
 "nbformat": 4,
 "nbformat_minor": 5
}
