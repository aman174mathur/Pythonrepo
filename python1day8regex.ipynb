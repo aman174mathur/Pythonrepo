{
  "cells": [
    {
      "cell_type": "code",
      "execution_count": null,
      "id": "873e1a05-0028-43d2-a3ab-e4a9ca45bec5",
      "metadata": {
        "id": "873e1a05-0028-43d2-a3ab-e4a9ca45bec5"
      },
      "outputs": [],
      "source": [
        "#python--version"
      ]
    },
    {
      "cell_type": "markdown",
      "id": "bf42d90d-edfd-461d-b447-03bba0ed3525",
      "metadata": {
        "id": "bf42d90d-edfd-461d-b447-03bba0ed3525"
      },
      "source": [
        "founder:guido van rossum"
      ]
    },
    {
      "cell_type": "markdown",
      "id": "304a3ec1-33fc-499c-ab4b-1c5539a32342",
      "metadata": {
        "id": "304a3ec1-33fc-499c-ab4b-1c5539a32342"
      },
      "source": [
        "fundamentals of python\n",
        "1. interger\n",
        "2. varables\n",
        "3. functions\n",
        "4. datatype\n",
        "5. input(),print()\n",
        "6. float\n",
        "7. typecasting: to change value from one data type to another the cast of the thing"
      ]
    },
    {
      "cell_type": "markdown",
      "id": "80d8c7de-c510-4895-9e60-5870b7639253",
      "metadata": {
        "id": "80d8c7de-c510-4895-9e60-5870b7639253"
      },
      "source": [
        "VARIABLES:\n",
        "this is  a container to store values\n",
        "a=56\n",
        "b='sam'\n",
        "c=78.00"
      ]
    },
    {
      "cell_type": "raw",
      "id": "b6990595-bb9a-423f-b773-1a1aa3a06b20",
      "metadata": {
        "id": "b6990595-bb9a-423f-b773-1a1aa3a06b20"
      },
      "source": [
        "(a)Global variable\n",
        "--> entrirely modify\n",
        "(b)Local Variable\n",
        "-->specific block of code modify."
      ]
    },
    {
      "cell_type": "markdown",
      "id": "926f9a15-bf75-4bb0-9ae5-2a4443cb0608",
      "metadata": {
        "id": "926f9a15-bf75-4bb0-9ae5-2a4443cb0608"
      },
      "source": [
        "datatype;\n",
        "(a) interger:...>all positive and negetive interger\n",
        "ex. 23,34,,44\n",
        "(b). Float---> all decimal values\n",
        "ex---> 34.5\n",
        "\n",
        "(c)string:  'single qoutes', \"double_qoutrs\", '''triple_quotes'''\n",
        "\n",
        " (D) Boolean:--> true,false\n",
        " ex: 5>4: true\n"
      ]
    },
    {
      "cell_type": "code",
      "execution_count": null,
      "id": "3c9f1ed5-e559-4ced-a542-0ba354d16d26",
      "metadata": {
        "id": "3c9f1ed5-e559-4ced-a542-0ba354d16d26",
        "outputId": "9deeb3a8-9fed-460d-d282-5ae4944a8456"
      },
      "outputs": [
        {
          "data": {
            "text/plain": [
              "67.0"
            ]
          },
          "execution_count": 6,
          "metadata": {},
          "output_type": "execute_result"
        }
      ],
      "source": [
        "#typecasting\n",
        "a=67\n",
        "type(a)\n",
        "b=float(a)\n",
        "type(b)\n",
        "b"
      ]
    },
    {
      "cell_type": "code",
      "execution_count": null,
      "id": "e6d3b2df-41b7-494c-8a6b-ced1fa10be72",
      "metadata": {
        "id": "e6d3b2df-41b7-494c-8a6b-ced1fa10be72",
        "outputId": "a1f28eba-2eaf-4252-d7b9-92abf2c28c51"
      },
      "outputs": [
        {
          "name": "stdout",
          "output_type": "stream",
          "text": [
            "1\n",
            "printing a\n",
            "printing b\n",
            "2\n"
          ]
        }
      ],
      "source": [
        "#print()function:\n",
        "\n",
        "a=1\n",
        "print(a)\n",
        "print(\"printing a\")\n",
        "b=2\n",
        "print(\"printing b\")\n",
        "print(b)"
      ]
    },
    {
      "cell_type": "code",
      "execution_count": null,
      "id": "1b7e384f-e73a-4929-8b43-61f0d64c16ae",
      "metadata": {
        "id": "1b7e384f-e73a-4929-8b43-61f0d64c16ae",
        "outputId": "3aa661a4-393b-4b8e-c337-e99c6b34c544"
      },
      "outputs": [
        {
          "name": "stdin",
          "output_type": "stream",
          "text": [
            "enter 1st unmber: 12\n",
            "enter2 nd nuber 12\n"
          ]
        },
        {
          "data": {
            "text/plain": [
              "24"
            ]
          },
          "execution_count": 9,
          "metadata": {},
          "output_type": "execute_result"
        }
      ],
      "source": [
        "a= int(input(\"enter 1st unmber:\"))\n",
        "b=int(input(\"enter2 nd nuber\"))\n",
        "c=a+b\n",
        "c\n",
        "#this is type casting"
      ]
    },
    {
      "cell_type": "code",
      "execution_count": null,
      "id": "f6a0b372-da3c-4fe8-a6f3-c3d5738a028f",
      "metadata": {
        "id": "f6a0b372-da3c-4fe8-a6f3-c3d5738a028f",
        "outputId": "7de84ef2-b858-4476-f05c-d1bf17110f9c"
      },
      "outputs": [
        {
          "name": "stdin",
          "output_type": "stream",
          "text": [
            "enter 1st unmber: 12\n",
            "enter2 nd nuber 12\n"
          ]
        },
        {
          "data": {
            "text/plain": [
              "'1212'"
            ]
          },
          "execution_count": 10,
          "metadata": {},
          "output_type": "execute_result"
        }
      ],
      "source": [
        "a= (input(\"enter 1st unmber:\"))\n",
        "b=(input(\"enter2 nd nuber\"))\n",
        "c=a+b\n",
        "c"
      ]
    },
    {
      "cell_type": "markdown",
      "id": "20667b85-65e2-46a5-8ab5-e5d81febd10b",
      "metadata": {
        "id": "20667b85-65e2-46a5-8ab5-e5d81febd10b"
      },
      "source": [
        "commnly used operators:\n",
        "1. Add: 5+3=8\n",
        "2. sub: 5-3=2\n",
        "3. mul : 5*3=15\n",
        "4. division: 5/3=1.6\n",
        "5. floor division(//) --> round 5//3 =1\n",
        "6. module(%)--> remandier cal =  25%10=5(rem)\n",
        "7. equal to (=) --> assgin values a=10,b='aan'\n",
        "8. eqal equal to (==)--> for comparsion\n",
        "9. not equal to (!=) --> 'sam'!=10\n",
        "10. grater than  5>4\n",
        "11. less than   4<5\n",
        "12. greater than or equalto >=\n",
        "13. less than or equal to <="
      ]
    },
    {
      "cell_type": "raw",
      "id": "bb7d4f53-c266-4a63-baae-4d9260277887",
      "metadata": {
        "id": "bb7d4f53-c266-4a63-baae-4d9260277887"
      },
      "source": [
        "conditional satement in python\n",
        "1. if\n",
        "2. else\n",
        "3. elif\n"
      ]
    },
    {
      "cell_type": "code",
      "execution_count": null,
      "id": "becbd8cd-9173-403b-af21-0ffea8766598",
      "metadata": {
        "id": "becbd8cd-9173-403b-af21-0ffea8766598",
        "outputId": "22db2951-306c-4ee1-f500-2fe72573a0df"
      },
      "outputs": [
        {
          "name": "stdin",
          "output_type": "stream",
          "text": [
            "enter ur name ankit\n"
          ]
        },
        {
          "name": "stdout",
          "output_type": "stream",
          "text": [
            "ok\n"
          ]
        }
      ],
      "source": [
        "#ex.1\n",
        "\n",
        "a=input(\"enter ur name\")\n",
        "if(a=='sam'):\n",
        " print(\"yes\")\n",
        "elif(a=='rahul'):\n",
        " print(\"no\")\n",
        "elif(a=='ankit'):\n",
        " print(\"ok\")\n",
        "else:\n",
        " print(\"print a valid name...\")"
      ]
    },
    {
      "cell_type": "code",
      "execution_count": null,
      "id": "9f00ae9a-71ca-4ae5-9fd2-a36fba207a20",
      "metadata": {
        "colab": {
          "base_uri": "https://localhost:8080/"
        },
        "id": "9f00ae9a-71ca-4ae5-9fd2-a36fba207a20",
        "outputId": "c6ebe6f7-6956-4e64-8001-5443a38758f5"
      },
      "outputs": [
        {
          "output_type": "stream",
          "name": "stdout",
          "text": [
            "we provide these items: pizza,burger,icecream,sandwich\n",
            "MENU: Pizza=100 , burger=50 ,icecream=50,sandwich=100\n",
            "enter your item:  icecream\n",
            "icecream  is availbale\n",
            "enter the number : 10\n",
            "total price :  500\n",
            "your amount is 500\n"
          ]
        }
      ],
      "source": [
        "#ex2\n",
        "\n",
        "print(\"we provide these items: pizza,burger,icecream,sandwich\")\n",
        "print(\"MENU: Pizza=100 , burger=50 ,icecream=50,sandwich=100\")\n",
        "\n",
        "\n",
        "\n",
        "a=input(\"enter your item:  \")\n",
        "\n",
        "if(a==\"pizza\"):\n",
        "  print(\"pizza is availbale\")\n",
        "  b=int(input(\"enter the number : \"))\n",
        "  print(\"total price : \", b*100)\n",
        "  c=b*100\n",
        "  if(c<=1000):\n",
        "    print(\"your 10% discounted price  is : \", c-(c*0.1))\n",
        "  elif(1000<c<2000):\n",
        "    print(\"your 10% discounted price  is : \", c-(c*0.1))\n",
        "  elif(c>=2000):\n",
        "    print(\"your 20% discounted price  is : \", c-(c*0.2))\n",
        "  elif(c>1000):\n",
        "   print(\"your price  is : \", c)\n",
        "\n",
        "#for burger\n",
        "elif(a==\"burger\"):\n",
        " print(\"burger is availbale\")\n",
        " b=int(input(\"enter the number : \"))\n",
        " print(\"total price : \", b*50)\n",
        " c=b*50\n",
        " if(c<1000):\n",
        "    print(\"your amount is\",c)\n",
        " elif(1000<c<2000):\n",
        "  print(\"your 10% discounted price  is : \", c-(c*0.1))\n",
        " elif(c>=2000):\n",
        "  print(\"your 20% discounted price  is : \", c-(c*0.2))\n",
        " elif(c>=1000):\n",
        "  print(\" you have given 10% discount\", c-(c*0.1))\n",
        "\n",
        "#for icecream\n",
        "elif(a==\"icecream\"):\n",
        " print(\"icecream  is availbale\")\n",
        " b=int(input(\"enter the number : \"))\n",
        " print(\"total price : \", b*50)\n",
        " c=b*50\n",
        " if(c<1000):\n",
        "    print(\"your amount is\",c)\n",
        " elif(1000<c<2000):\n",
        "  print(\"your 10% discounted price  is : \", c-(c*0.1))\n",
        " elif(c>=2000):\n",
        "  print(\"your 20% discounted price  is : \", c-(c*0.2))\n",
        " elif(c>=1000):\n",
        "  print(\" you have given 10% discount\", c-(c*0.1))\n",
        "\n",
        "#for sandwich\n",
        "elif(a==\"sandwich\"):\n",
        " print(\"sandwich is availbale\")\n",
        " b=int(input(\"enter the number : \"))\n",
        " print(\"total price : \", b*100)\n",
        " c=b*100\n",
        " if(c<1000):\n",
        "    print(\"your amount is\",c)\n",
        " elif(1000<c<2000):\n",
        "  print(\"your 10% discounted price  is : \", c-(c*0.1))\n",
        " elif(c>=2000):\n",
        "  print(\"your 20% discounted price  is : \", c-(c*0.2))\n",
        " elif(c>=1000):\n",
        "  print(\" you have given 10% discount\", c-(c*0.1))\n",
        "\n",
        "else:\n",
        " print(\"invalid item\")\n",
        "\n",
        "\n"
      ]
    },
    {
      "cell_type": "code",
      "execution_count": null,
      "id": "922fff9f-a8da-41d8-8b1b-06a5aa9396e7",
      "metadata": {
        "colab": {
          "base_uri": "https://localhost:8080/"
        },
        "id": "922fff9f-a8da-41d8-8b1b-06a5aa9396e7",
        "outputId": "173610ed-76a0-472e-9b82-db2099cb0ed4"
      },
      "outputs": [
        {
          "output_type": "execute_result",
          "data": {
            "text/plain": [
              "90.0"
            ]
          },
          "metadata": {},
          "execution_count": 26
        }
      ],
      "source": [
        "a=100\n",
        "b=100*0.1\n",
        "b\n",
        "c=a-b\n",
        "c"
      ]
    },
    {
      "cell_type": "code",
      "source": [
        "#student information system\n",
        "#user (pyhton , java , mernstack)\n",
        "#--> fees, timeduration"
      ],
      "metadata": {
        "id": "o3BW_JW2jWfi"
      },
      "id": "o3BW_JW2jWfi",
      "execution_count": null,
      "outputs": []
    },
    {
      "cell_type": "code",
      "source": [
        "print(\" hello there please select your course: \")\n",
        "print(\"1.python\")\n",
        "print(\"2.java\")\n",
        "print(\"3.mernstack\")\n",
        "a=(input(\"enter your course: \"))\n",
        "if(a=='python'):\n",
        " print(\"your have selected python , the course fee is 1000rs and the duration is 3 months\")\n",
        "elif(a=='java'):\n",
        " print(\"your have selected java , the course fee is 2000rs and the duration is 4 months\")\n",
        "elif(a=='mernstack'):\n",
        " print(\"your have selected mernstack , the course fee is 3000rs and the duration is 5 months\")\n",
        "else:\n",
        " print(\"invalid course\")"
      ],
      "metadata": {
        "colab": {
          "base_uri": "https://localhost:8080/"
        },
        "id": "V08_u03LkWuS",
        "outputId": "1b05c15a-efea-4fb2-bfcb-06c0402b6e59"
      },
      "id": "V08_u03LkWuS",
      "execution_count": null,
      "outputs": [
        {
          "output_type": "stream",
          "name": "stdout",
          "text": [
            " hello there please select your course: \n",
            "1.python\n",
            "2.java\n",
            "3.mernstack\n",
            "enter your course: mern\n",
            "invalid course\n"
          ]
        }
      ]
    },
    {
      "cell_type": "code",
      "source": [
        "#loops in python"
      ],
      "metadata": {
        "id": "yJmTNpsKAWWD"
      },
      "id": "yJmTNpsKAWWD",
      "execution_count": null,
      "outputs": []
    },
    {
      "cell_type": "code",
      "source": [
        "#1. for loop\n",
        "#index=0 , length=1\n",
        "#starting values will include and last value will exclude"
      ],
      "metadata": {
        "id": "Kg-h4YD5Ak0V"
      },
      "id": "Kg-h4YD5Ak0V",
      "execution_count": null,
      "outputs": []
    },
    {
      "cell_type": "code",
      "source": [
        "#method-1\n",
        "for i in range(1,5):\n",
        "  print(i)"
      ],
      "metadata": {
        "colab": {
          "base_uri": "https://localhost:8080/"
        },
        "id": "7DY2wDIPC4q6",
        "outputId": "0da970f0-9544-4211-ddd5-3366b4e54d01"
      },
      "id": "7DY2wDIPC4q6",
      "execution_count": null,
      "outputs": [
        {
          "output_type": "stream",
          "name": "stdout",
          "text": [
            "1\n",
            "2\n",
            "3\n",
            "4\n"
          ]
        }
      ]
    },
    {
      "cell_type": "code",
      "source": [
        "for i in range(1,10,2):\n",
        "  print(i)"
      ],
      "metadata": {
        "colab": {
          "base_uri": "https://localhost:8080/"
        },
        "id": "1oiO-kZeDGxn",
        "outputId": "6b1037b7-f4a5-45e1-8ce0-593528cd6de2"
      },
      "id": "1oiO-kZeDGxn",
      "execution_count": null,
      "outputs": [
        {
          "output_type": "stream",
          "name": "stdout",
          "text": [
            "1\n",
            "3\n",
            "5\n",
            "7\n",
            "9\n"
          ]
        }
      ]
    },
    {
      "cell_type": "code",
      "source": [],
      "metadata": {
        "id": "cXRALO_sDM3k"
      },
      "id": "cXRALO_sDM3k",
      "execution_count": null,
      "outputs": []
    },
    {
      "cell_type": "markdown",
      "source": [
        "here 2 is the gap\n"
      ],
      "metadata": {
        "id": "PnguYtd_DiUV"
      },
      "id": "PnguYtd_DiUV"
    },
    {
      "cell_type": "code",
      "source": [
        "#nested for looop"
      ],
      "metadata": {
        "id": "RhFtSVjcDlpP"
      },
      "id": "RhFtSVjcDlpP",
      "execution_count": null,
      "outputs": []
    },
    {
      "cell_type": "code",
      "source": [
        "for i in range(3):\n",
        "  for j in range(2):\n",
        "    print(f\"i={i},j={j}\")"
      ],
      "metadata": {
        "colab": {
          "base_uri": "https://localhost:8080/"
        },
        "id": "1gfm919lFgY7",
        "outputId": "3c630ea6-1c0d-4ad1-b7a6-2555d3ab6615"
      },
      "id": "1gfm919lFgY7",
      "execution_count": null,
      "outputs": [
        {
          "output_type": "stream",
          "name": "stdout",
          "text": [
            "i=0,j=0\n",
            "i=0,j=1\n",
            "i=1,j=0\n",
            "i=1,j=1\n",
            "i=2,j=0\n",
            "i=2,j=1\n"
          ]
        }
      ]
    },
    {
      "cell_type": "code",
      "source": [
        "i = input(\"enter your name: \")\n",
        "print(f\"hello , {i}, thank you for reaching out\")"
      ],
      "metadata": {
        "colab": {
          "base_uri": "https://localhost:8080/"
        },
        "id": "egcwuGm2GAcr",
        "outputId": "63528fe9-caef-4c5f-f9ad-575c3963bf96"
      },
      "id": "egcwuGm2GAcr",
      "execution_count": null,
      "outputs": [
        {
          "output_type": "stream",
          "name": "stdout",
          "text": [
            "enter your name: aman\n",
            "hello , aman, thank you for reaching out\n"
          ]
        }
      ]
    },
    {
      "cell_type": "code",
      "source": [
        "#star pattern :\n"
      ],
      "metadata": {
        "id": "JkK5zGtmGQvK"
      },
      "id": "JkK5zGtmGQvK",
      "execution_count": null,
      "outputs": []
    },
    {
      "cell_type": "code",
      "source": [
        "n= 5\n",
        "for i in range(1,n+1):\n",
        "  print(\"*\"*i)"
      ],
      "metadata": {
        "colab": {
          "base_uri": "https://localhost:8080/"
        },
        "id": "oTUB9AWCGnrx",
        "outputId": "4d6c701c-0fc2-43cb-9395-ef04419dfb95"
      },
      "id": "oTUB9AWCGnrx",
      "execution_count": null,
      "outputs": [
        {
          "output_type": "stream",
          "name": "stdout",
          "text": [
            "*\n",
            "**\n",
            "***\n",
            "****\n",
            "*****\n"
          ]
        }
      ]
    },
    {
      "cell_type": "code",
      "source": [
        "#hollow star pattern"
      ],
      "metadata": {
        "id": "dpLL8AjaHVjH"
      },
      "id": "dpLL8AjaHVjH",
      "execution_count": null,
      "outputs": []
    },
    {
      "cell_type": "code",
      "source": [
        "n=5\n",
        "for i in range (1,n+1):\n",
        "  if i==1 or i==n:\n",
        "   print(\"*\" * i)#for 1st and last rows\n",
        "  else:\n",
        "    print(\"*\" + \" \" * (i-2) + \"*\")#middle rows with sapces"
      ],
      "metadata": {
        "colab": {
          "base_uri": "https://localhost:8080/"
        },
        "id": "TgP2OgwSHwbl",
        "outputId": "16151e85-5eaf-4508-8cd1-dca7db149d8a"
      },
      "id": "TgP2OgwSHwbl",
      "execution_count": null,
      "outputs": [
        {
          "output_type": "stream",
          "name": "stdout",
          "text": [
            "*\n",
            "**\n",
            "* *\n",
            "*  *\n",
            "*****\n"
          ]
        }
      ]
    },
    {
      "cell_type": "code",
      "source": [
        "#pyramid pattern"
      ],
      "metadata": {
        "id": "7oWODJe6I4D7"
      },
      "id": "7oWODJe6I4D7",
      "execution_count": null,
      "outputs": []
    },
    {
      "cell_type": "code",
      "source": [
        "n=5\n",
        "for i in range(1,n+1):\n",
        "  print(\" \" * (n-i) + \"*\" * (2*i-1))"
      ],
      "metadata": {
        "colab": {
          "base_uri": "https://localhost:8080/"
        },
        "id": "1s7blfxyJKuH",
        "outputId": "e781c749-2ee6-4b12-f5da-0324b23bb834"
      },
      "id": "1s7blfxyJKuH",
      "execution_count": null,
      "outputs": [
        {
          "output_type": "stream",
          "name": "stdout",
          "text": [
            "    *\n",
            "   ***\n",
            "  *****\n",
            " *******\n",
            "*********\n"
          ]
        }
      ]
    },
    {
      "cell_type": "code",
      "source": [
        "# n=5 ,i=1\n",
        "#  \" \"*(5-1)+\" *\" * (2*1-1)\n",
        "\n",
        "#this is the logic"
      ],
      "metadata": {
        "id": "nJvF-mdnKf4e"
      },
      "id": "nJvF-mdnKf4e",
      "execution_count": null,
      "outputs": []
    },
    {
      "cell_type": "code",
      "source": [
        "#While Loop\n",
        "\n",
        "#1. initialization\n",
        "#2.condition\n",
        "#3.increment or decrement"
      ],
      "metadata": {
        "id": "Cy8hC-q2LLQ9"
      },
      "id": "Cy8hC-q2LLQ9",
      "execution_count": null,
      "outputs": []
    },
    {
      "cell_type": "code",
      "source": [
        "#printing 1 to 4\n",
        "i=1\n",
        "n=4\n",
        "while i<=n : #condition\n",
        "  print(i)\n",
        "  i=i+1 #increment"
      ],
      "metadata": {
        "colab": {
          "base_uri": "https://localhost:8080/"
        },
        "id": "FQFaDnVfLNTH",
        "outputId": "aeedd36a-6079-4406-e3e4-f55b9602d042"
      },
      "id": "FQFaDnVfLNTH",
      "execution_count": null,
      "outputs": [
        {
          "output_type": "stream",
          "name": "stdout",
          "text": [
            "1\n",
            "2\n",
            "3\n",
            "4\n"
          ]
        }
      ]
    },
    {
      "cell_type": "code",
      "source": [
        "i = int(input(\"enter a number: \"))\n",
        "n=int(input(\"enter last  number: \"))\n",
        "p= int(input(\"enter the gap: \"))\n",
        "while(i<=n):\n",
        "  print(i)\n",
        "  i=i+p"
      ],
      "metadata": {
        "colab": {
          "base_uri": "https://localhost:8080/"
        },
        "id": "MAeRBZCdM284",
        "outputId": "5f377ef1-9d9a-49ee-8000-befc01095753"
      },
      "id": "MAeRBZCdM284",
      "execution_count": null,
      "outputs": [
        {
          "output_type": "stream",
          "name": "stdout",
          "text": [
            "enter a number: 1\n",
            "enter last  number: 20\n",
            "enter the gap: 5\n",
            "1\n",
            "6\n",
            "11\n",
            "16\n"
          ]
        }
      ]
    },
    {
      "cell_type": "code",
      "source": [
        "#reversing the numbers"
      ],
      "metadata": {
        "id": "jxWqqfAgNhD0"
      },
      "id": "jxWqqfAgNhD0",
      "execution_count": null,
      "outputs": []
    },
    {
      "cell_type": "code",
      "source": [
        "i= 5\n",
        "n=1\n",
        "while(i>=n):\n",
        "  print(i)\n",
        "  i=i-1"
      ],
      "metadata": {
        "colab": {
          "base_uri": "https://localhost:8080/"
        },
        "id": "jNGNHLsGOCD1",
        "outputId": "f5eef3e1-470c-45b6-c5b0-a23936fb2c15"
      },
      "id": "jNGNHLsGOCD1",
      "execution_count": null,
      "outputs": [
        {
          "output_type": "stream",
          "name": "stdout",
          "text": [
            "5\n",
            "4\n",
            "3\n",
            "2\n",
            "1\n"
          ]
        }
      ]
    },
    {
      "cell_type": "code",
      "source": [
        "#sum of elements\n",
        "i=1\n",
        "n=4\n",
        "sum=0\n",
        "while(i<=n):\n",
        " sum=sum+i\n",
        " i=i+1\n",
        "print(sum)\n"
      ],
      "metadata": {
        "colab": {
          "base_uri": "https://localhost:8080/"
        },
        "id": "GbwXWNBgOJ8M",
        "outputId": "3c71ee64-1e03-4e5d-b08b-3bf2ea7c72a3"
      },
      "id": "GbwXWNBgOJ8M",
      "execution_count": null,
      "outputs": [
        {
          "output_type": "stream",
          "name": "stdout",
          "text": [
            "10\n"
          ]
        }
      ]
    },
    {
      "cell_type": "code",
      "source": [
        "print(\"enter your name\")\n",
        "name=input()\n",
        "print(\"hello\",name)"
      ],
      "metadata": {
        "id": "H6h8x15GP9dV",
        "colab": {
          "base_uri": "https://localhost:8080/"
        },
        "outputId": "a5f48bca-6f57-4737-9450-bb677bca30cb"
      },
      "id": "H6h8x15GP9dV",
      "execution_count": null,
      "outputs": [
        {
          "output_type": "stream",
          "name": "stdout",
          "text": [
            "enter your name\n",
            "aman\n",
            "hello aman\n"
          ]
        }
      ]
    },
    {
      "cell_type": "code",
      "source": [
        "#take three variable:\n",
        "\n",
        "a=int(input(\"enter 1st value\"))\n",
        "b=int(input(\"enter 2nd value \"))\n",
        "c=int(input(\" enter 3d value\"))\n",
        "\n",
        "if (a>b and a>c):\n",
        "  print(\"a is greater: \")\n",
        "elif(b>a and b>c):\n",
        "  print(\"b isgreater: \")\n",
        "else:\n",
        "  print(\"c is greaterr: \")\n"
      ],
      "metadata": {
        "colab": {
          "base_uri": "https://localhost:8080/"
        },
        "id": "kdeO51z0Jt1q",
        "outputId": "7c7b4ee3-96d8-4af5-c1b4-c782b1f6f92b"
      },
      "id": "kdeO51z0Jt1q",
      "execution_count": null,
      "outputs": [
        {
          "output_type": "stream",
          "name": "stdout",
          "text": [
            "enter 1st value20\n",
            "enter 2nd value 40\n",
            " enter 3d value50\n",
            "c is greaterr\n"
          ]
        }
      ]
    },
    {
      "cell_type": "code",
      "source": [
        "x=10                                                     #pyhton is a dynamic typed programming language\n",
        "if(x>=10):                                                   #automatically detect  datatype at runtime\n",
        "  print(\"hello\")"
      ],
      "metadata": {
        "colab": {
          "base_uri": "https://localhost:8080/"
        },
        "id": "9yl3xHrNK4hs",
        "outputId": "a1c93635-71c9-482e-b6fb-f8f81822a0e9"
      },
      "id": "9yl3xHrNK4hs",
      "execution_count": null,
      "outputs": [
        {
          "output_type": "stream",
          "name": "stdout",
          "text": [
            "hello\n"
          ]
        }
      ]
    },
    {
      "cell_type": "code",
      "source": [
        "x=8                                                    #pyhton is a dynamic typed programming language\n",
        "if(x>=10):                                                   #automatically detect  datatype at runtime\n",
        "  print(\"hello\")\n",
        "else:\n",
        "  print(\"false condition\")\n"
      ],
      "metadata": {
        "colab": {
          "base_uri": "https://localhost:8080/"
        },
        "id": "S_iJHATZMp-M",
        "outputId": "aa1afa2b-d566-484e-d065-7dc8aed813aa"
      },
      "id": "S_iJHATZMp-M",
      "execution_count": null,
      "outputs": [
        {
          "output_type": "stream",
          "name": "stdout",
          "text": [
            "false condition\n"
          ]
        }
      ]
    },
    {
      "cell_type": "code",
      "source": [
        "x=12\n",
        "y=20\n",
        "x>10 and y>15"
      ],
      "metadata": {
        "colab": {
          "base_uri": "https://localhost:8080/"
        },
        "id": "lIFEF2KmNfUZ",
        "outputId": "ab41d863-67cb-4773-f950-bf76600210dc"
      },
      "id": "lIFEF2KmNfUZ",
      "execution_count": null,
      "outputs": [
        {
          "output_type": "execute_result",
          "data": {
            "text/plain": [
              "True"
            ]
          },
          "metadata": {},
          "execution_count": 11
        }
      ]
    },
    {
      "cell_type": "code",
      "source": [
        "x=5\n",
        "y=20\n",
        "if(x>10 or y>15):\n",
        "  print(\"hello\")\n",
        "else:\n",
        "  print(\"false condition\")"
      ],
      "metadata": {
        "colab": {
          "base_uri": "https://localhost:8080/"
        },
        "id": "AtP5KukXN1Vh",
        "outputId": "3f01c396-d93f-4ce2-b79c-6ef12a9f5761"
      },
      "id": "AtP5KukXN1Vh",
      "execution_count": null,
      "outputs": [
        {
          "output_type": "stream",
          "name": "stdout",
          "text": [
            "hello\n"
          ]
        }
      ]
    },
    {
      "cell_type": "code",
      "source": [
        "# prompt: #variable is multiple of 2 and 6 print hi otherwise bye\n",
        "\n",
        "x=int(input(\"enter a number\"))\n",
        "if(x%2==0 ):\n",
        "  print(\"hi\")\n",
        "elif(x%6==0):\n",
        "  print(\"hello\")\n",
        "else:\n",
        "  print(\"bye\")"
      ],
      "metadata": {
        "colab": {
          "base_uri": "https://localhost:8080/"
        },
        "id": "FD85mD9lOXEN",
        "outputId": "f7baeede-fc04-49e5-a4c7-b57b1d440a01"
      },
      "id": "FD85mD9lOXEN",
      "execution_count": null,
      "outputs": [
        {
          "output_type": "stream",
          "name": "stdout",
          "text": [
            "enter a number17\n",
            "bye\n"
          ]
        }
      ]
    },
    {
      "cell_type": "code",
      "source": [
        "# take a varialbe name as age if\n",
        "#age>10 print child\n",
        "# age>18 adult\n",
        "#age>30 mature\n",
        "#age >60 old citizen\n",
        "#else infant\n",
        "\n",
        "age=int(input(\"enter your age\"))\n",
        "if(age<=10 and age>=18):\n",
        "  print(\"child\")\n",
        "elif(age>=18):\n",
        "    print(\"adult\")\n",
        "elif(age>=30):\n",
        "   print(\"mature\")\n",
        "elif(age>=60):\n",
        "  print(\"old citizen\")\n",
        "else:\n",
        "   print(\"infant\")"
      ],
      "metadata": {
        "colab": {
          "base_uri": "https://localhost:8080/"
        },
        "id": "_qfEhcklPfWb",
        "outputId": "910bcf1f-d275-4191-9a4a-8191d7ffa833"
      },
      "id": "_qfEhcklPfWb",
      "execution_count": null,
      "outputs": [
        {
          "output_type": "stream",
          "name": "stdout",
          "text": [
            "enter your age20\n",
            "adult\n"
          ]
        }
      ]
    },
    {
      "cell_type": "code",
      "source": [
        "#nested if else\n",
        "age=int(input(\"enter your age\"))\n",
        "if(age>=5):\n",
        "  print(\"addhar card is printed\")\n",
        "  if(age>=18):                                                       #be sure of any indentation\n",
        "    print(\" aadhar card  + pan card can be  linked\")\n",
        "  else:\n",
        "    print(\"pan card not created\")\n",
        "else:\n",
        "  print(\"age is small\")"
      ],
      "metadata": {
        "colab": {
          "base_uri": "https://localhost:8080/"
        },
        "id": "1U-HGHO_R3-R",
        "outputId": "3ca27997-e370-45ac-8d0d-c7874d240f4c"
      },
      "id": "1U-HGHO_R3-R",
      "execution_count": null,
      "outputs": [
        {
          "output_type": "stream",
          "name": "stdout",
          "text": [
            "enter your age60\n",
            "addhar card is printed\n",
            " aadhar card  + pan card can be  linked\n"
          ]
        }
      ]
    },
    {
      "cell_type": "code",
      "source": [
        "#if a number is div by2 print div by 2\n",
        "#if a number is div by 3 print div by 6\n",
        "#other wise number is not divisibele by 2 or 3\n",
        "\n",
        "num=int(input(\"enter a number\"))\n",
        "if(num%2==0):\n",
        "  print(\"this number is divisible by 2\")\n",
        "  if(num%3==0):\n",
        "    print(\"this number is divisible by 3\")\n",
        "  else:\n",
        "    print(\"this num is divisible by 6\")\n",
        "else:\n",
        "  print(\"this num is not divisibele by 2 or 3\")"
      ],
      "metadata": {
        "colab": {
          "base_uri": "https://localhost:8080/"
        },
        "id": "py0FwVqsSXPX",
        "outputId": "807064aa-4c0f-4f0f-9281-04c7064cc2a9"
      },
      "id": "py0FwVqsSXPX",
      "execution_count": null,
      "outputs": [
        {
          "output_type": "stream",
          "name": "stdout",
          "text": [
            "enter a number12\n",
            "this number is divisible by 2\n",
            "this number is divisible by 3\n"
          ]
        }
      ]
    },
    {
      "cell_type": "code",
      "source": [
        "print(\"hey \" , end= \"- \")\n",
        "print(\"hello\")"
      ],
      "metadata": {
        "colab": {
          "base_uri": "https://localhost:8080/"
        },
        "id": "nHBanhKDWG1d",
        "outputId": "8449fc54-a3b5-4473-8fd8-bb328246b98e"
      },
      "id": "nHBanhKDWG1d",
      "execution_count": null,
      "outputs": [
        {
          "output_type": "stream",
          "name": "stdout",
          "text": [
            "hey - hello\n"
          ]
        }
      ]
    },
    {
      "cell_type": "code",
      "source": [
        "#learning assginmetn\n",
        "\n",
        "#diff bw py ver2 and ver3 of pyhton"
      ],
      "metadata": {
        "id": "dQIBxTBDXZWF"
      },
      "id": "dQIBxTBDXZWF",
      "execution_count": null,
      "outputs": []
    },
    {
      "cell_type": "code",
      "source": [
        "#slicing opertors\n",
        " #  right to left   ....-5-4,-3-2,-1\n",
        "city =\"RAJASTHAN\"\n",
        "    #  012345678.... left to right\n",
        "\n",
        "print(city[0:3])\n",
        "      #starting value: stopping value\n",
        "print(city[0])"
      ],
      "metadata": {
        "id": "xzSFzJJEcP6J",
        "colab": {
          "base_uri": "https://localhost:8080/"
        },
        "outputId": "02779338-7173-4132-c259-2af02305fce4"
      },
      "id": "xzSFzJJEcP6J",
      "execution_count": null,
      "outputs": [
        {
          "output_type": "stream",
          "name": "stdout",
          "text": [
            "RAJ\n",
            "R\n"
          ]
        }
      ]
    },
    {
      "cell_type": "code",
      "source": [
        "city =\"RAJASTHAN\"\n",
        "    #  012345678.... right to left\n",
        "\n",
        "print(city[2:5:1])\n",
        "      #starting value: stopping value: skipping value(steep six=ze)\n",
        "print(city[0])"
      ],
      "metadata": {
        "colab": {
          "base_uri": "https://localhost:8080/"
        },
        "id": "wkeHkHO0Uj0p",
        "outputId": "5e7e05ba-6165-4650-adee-f4ffcc24c51d"
      },
      "id": "wkeHkHO0Uj0p",
      "execution_count": null,
      "outputs": [
        {
          "output_type": "stream",
          "name": "stdout",
          "text": [
            "JAS\n",
            "R\n"
          ]
        }
      ]
    },
    {
      "cell_type": "code",
      "source": [
        "city =\"RAJASTHAN\"\n",
        "    #  012345678.... right to left\n",
        "\n",
        "print(city[:4])"
      ],
      "metadata": {
        "colab": {
          "base_uri": "https://localhost:8080/"
        },
        "id": "CRB5ne_9V15X",
        "outputId": "b56afc61-a3f8-452f-f56e-a7089d82058a"
      },
      "id": "CRB5ne_9V15X",
      "execution_count": null,
      "outputs": [
        {
          "output_type": "stream",
          "name": "stdout",
          "text": [
            "RAJA\n"
          ]
        }
      ]
    },
    {
      "cell_type": "code",
      "source": [
        "city =\"RAJASTHAN\"\n",
        "    #  012345678.... right to left\n",
        "\n",
        "print(city[2:7:3])\n",
        "#0 +2 =>2 ,"
      ],
      "metadata": {
        "colab": {
          "base_uri": "https://localhost:8080/"
        },
        "id": "RxjAMxQ1WeZf",
        "outputId": "c3140447-97c2-4bbb-95e8-cedccf2b6863"
      },
      "id": "RxjAMxQ1WeZf",
      "execution_count": null,
      "outputs": [
        {
          "output_type": "stream",
          "name": "stdout",
          "text": [
            "JT\n"
          ]
        }
      ]
    },
    {
      "cell_type": "code",
      "source": [
        "city =\"RAJASTHAN\"\n",
        "    #  012345678.... right to left\n",
        "\n",
        "print(city[0:4:-1])\n",
        "#0 -1 => -1\n",
        "#empty striing\n"
      ],
      "metadata": {
        "colab": {
          "base_uri": "https://localhost:8080/"
        },
        "id": "yB9f4dkUXemR",
        "outputId": "1baae4ed-a975-4b5f-d533-d7a538d9b855"
      },
      "id": "yB9f4dkUXemR",
      "execution_count": null,
      "outputs": [
        {
          "output_type": "stream",
          "name": "stdout",
          "text": [
            "\n"
          ]
        }
      ]
    },
    {
      "cell_type": "code",
      "source": [
        "city =\"RAJASTHAN\"\n",
        "    #  012345678.... right to left\n",
        "\n",
        "print(city[-1:-3])\n",
        "#-1+1=>0\n"
      ],
      "metadata": {
        "colab": {
          "base_uri": "https://localhost:8080/"
        },
        "outputId": "fda9dd9e-ce3f-4f96-e262-6842d3c5f225",
        "id": "_W6q9GxHYKiC"
      },
      "execution_count": null,
      "outputs": [
        {
          "output_type": "stream",
          "name": "stdout",
          "text": [
            "\n"
          ]
        }
      ],
      "id": "_W6q9GxHYKiC"
    },
    {
      "cell_type": "code",
      "source": [
        "city =\"RAJASTHAN\"\n",
        "    #  012345678.... right to left\n",
        "\n",
        "print(city[-1:-3:-1])\n",
        "#-1+ -1=> -2\n"
      ],
      "metadata": {
        "colab": {
          "base_uri": "https://localhost:8080/"
        },
        "id": "0K4WR0KAYiIj",
        "outputId": "1efb1c24-1ef6-491c-892a-bc486f63d194"
      },
      "id": "0K4WR0KAYiIj",
      "execution_count": null,
      "outputs": [
        {
          "output_type": "stream",
          "name": "stdout",
          "text": [
            "NA\n"
          ]
        }
      ]
    },
    {
      "cell_type": "code",
      "source": [
        "city =\"RAJASTHAN\"\n",
        "    #  012345678.... right to left\n",
        "print(city[:])\n",
        "print(city[::-1])"
      ],
      "metadata": {
        "colab": {
          "base_uri": "https://localhost:8080/"
        },
        "id": "9kO7-j3BYuVn",
        "outputId": "8a99e99c-2506-42bd-bf30-cd98875d786d"
      },
      "id": "9kO7-j3BYuVn",
      "execution_count": null,
      "outputs": [
        {
          "output_type": "stream",
          "name": "stdout",
          "text": [
            "RAJASTHAN\n",
            "NAHTSAJAR\n"
          ]
        }
      ]
    },
    {
      "cell_type": "code",
      "source": [
        "#airthmetic\n",
        "\n",
        "2*2*2\n",
        "2**3\n",
        "\n",
        "10/2 #normal division\n",
        "10//2 #floor division givies answer in interger"
      ],
      "metadata": {
        "colab": {
          "base_uri": "https://localhost:8080/"
        },
        "id": "-K3Ce9yxY5ec",
        "outputId": "cb49194c-6c81-4ec6-83f5-f34dbfd10c68"
      },
      "id": "-K3Ce9yxY5ec",
      "execution_count": null,
      "outputs": [
        {
          "output_type": "execute_result",
          "data": {
            "text/plain": [
              "5"
            ]
          },
          "metadata": {},
          "execution_count": 22
        }
      ]
    },
    {
      "cell_type": "code",
      "source": [
        "11//2+5-1"
      ],
      "metadata": {
        "colab": {
          "base_uri": "https://localhost:8080/"
        },
        "id": "13-J8GiLZuPQ",
        "outputId": "0a2dc463-cf04-44f7-8058-c2910fe1b2fe"
      },
      "id": "13-J8GiLZuPQ",
      "execution_count": null,
      "outputs": [
        {
          "output_type": "execute_result",
          "data": {
            "text/plain": [
              "9"
            ]
          },
          "metadata": {},
          "execution_count": 23
        }
      ]
    },
    {
      "cell_type": "code",
      "source": [
        "#comparison operators\n",
        "#assginment opererators\n",
        "x=10\n",
        "x+15 #x+=15\n",
        "\n",
        "print(x)"
      ],
      "metadata": {
        "colab": {
          "base_uri": "https://localhost:8080/"
        },
        "id": "6ZLG3-YUaKiT",
        "outputId": "75a84a15-3452-468d-ddf4-f62a0470f041"
      },
      "id": "6ZLG3-YUaKiT",
      "execution_count": null,
      "outputs": [
        {
          "output_type": "stream",
          "name": "stdout",
          "text": [
            "10\n"
          ]
        }
      ]
    },
    {
      "cell_type": "code",
      "source": [
        "y=6\n",
        "y/=3   #y=y/3 or y//=3\n",
        "print(y)"
      ],
      "metadata": {
        "colab": {
          "base_uri": "https://localhost:8080/"
        },
        "id": "ChNKTKyXasWf",
        "outputId": "12c1c160-cb27-401d-bbc5-671527dcbeb5"
      },
      "id": "ChNKTKyXasWf",
      "execution_count": null,
      "outputs": [
        {
          "output_type": "stream",
          "name": "stdout",
          "text": [
            "2.0\n"
          ]
        }
      ]
    },
    {
      "cell_type": "code",
      "source": [
        "#logical operators\n",
        "#and or not\n",
        "#and takes all coditions as true\n"
      ],
      "metadata": {
        "id": "Iu1QizFLa7wE"
      },
      "id": "Iu1QizFLa7wE",
      "execution_count": null,
      "outputs": []
    },
    {
      "cell_type": "code",
      "source": [
        "#membership operator\n",
        "\n",
        "\"y\" in \"yash\"\n",
        "\"z\" in \"yash\"\n",
        "\"Y\" in \"yash\"\n",
        "\"Y\" not in \"yash\"\n",
        "#checks y in yash"
      ],
      "metadata": {
        "colab": {
          "base_uri": "https://localhost:8080/"
        },
        "id": "0ecaEKZLbdcA",
        "outputId": "b1fa4419-abb2-4d24-f855-3f46808f10bf"
      },
      "id": "0ecaEKZLbdcA",
      "execution_count": null,
      "outputs": [
        {
          "output_type": "execute_result",
          "data": {
            "text/plain": [
              "True"
            ]
          },
          "metadata": {},
          "execution_count": 32
        }
      ]
    },
    {
      "cell_type": "code",
      "source": [
        "# identity operators\n",
        "#check wheater a variable is a instance of a class  or not\n",
        "# to check the same memory address\n",
        "x=10\n",
        "#print(type(x))\n",
        "type(x) is int\n",
        "type(x) is not str\n",
        "\n"
      ],
      "metadata": {
        "colab": {
          "base_uri": "https://localhost:8080/"
        },
        "id": "Q7MbKWZ-b6qu",
        "outputId": "8118e069-716c-453d-aea5-18a58c592e1b"
      },
      "id": "Q7MbKWZ-b6qu",
      "execution_count": null,
      "outputs": [
        {
          "output_type": "execute_result",
          "data": {
            "text/plain": [
              "False"
            ]
          },
          "metadata": {},
          "execution_count": 35
        }
      ]
    },
    {
      "cell_type": "code",
      "source": [
        "#bitwise operator\n",
        "# 2 bits in comp (0,1)(f,t)\n",
        "\n",
        "#8421 =>0-15\n",
        "# 128 64 32 16       8421=> 0-255\n",
        "                       #8421\n",
        "        #11           #1011\n",
        "        #14           #1110\n",
        "        #--------------------\n",
        "       # 11 & 14      1010\n",
        "                     # 8421\n",
        "                  #---> 8+2=10\n",
        "11 & 14  #--> gives ten ,  check the binary of the number, add them , and the resultant number will be the ans"
      ],
      "metadata": {
        "colab": {
          "base_uri": "https://localhost:8080/"
        },
        "id": "c434g6gJc8-A",
        "outputId": "d66903cb-e672-4abb-a8d3-db6418f691e5"
      },
      "id": "c434g6gJc8-A",
      "execution_count": null,
      "outputs": [
        {
          "output_type": "execute_result",
          "data": {
            "text/plain": [
              "10"
            ]
          },
          "metadata": {},
          "execution_count": 36
        }
      ]
    },
    {
      "cell_type": "code",
      "source": [
        "13 & 7"
      ],
      "metadata": {
        "colab": {
          "base_uri": "https://localhost:8080/"
        },
        "id": "O4ShNT4QcfuU",
        "outputId": "5fa595f2-beb5-45bf-9fb7-2e6dd9a2049d"
      },
      "id": "O4ShNT4QcfuU",
      "execution_count": null,
      "outputs": [
        {
          "output_type": "execute_result",
          "data": {
            "text/plain": [
              "5"
            ]
          },
          "metadata": {},
          "execution_count": 37
        }
      ]
    },
    {
      "cell_type": "code",
      "source": [
        "10|14     #used or logic"
      ],
      "metadata": {
        "colab": {
          "base_uri": "https://localhost:8080/"
        },
        "id": "dcSwLAikiAQP",
        "outputId": "8cbca301-2806-4d33-d6ea-34c5ecca5ac5"
      },
      "id": "dcSwLAikiAQP",
      "execution_count": null,
      "outputs": [
        {
          "output_type": "execute_result",
          "data": {
            "text/plain": [
              "14"
            ]
          },
          "metadata": {},
          "execution_count": 39
        }
      ]
    },
    {
      "cell_type": "code",
      "source": [
        "# right bitwise shift ( right to left)\n",
        "#number // 2 **bit\n",
        "# 54>>3\n",
        "#54 // 2**3\n",
        "# 54//8 ==> 6\n",
        "\n",
        "54>>3"
      ],
      "metadata": {
        "colab": {
          "base_uri": "https://localhost:8080/"
        },
        "id": "F8SQJFjFiCUH",
        "outputId": "a071784a-da70-4a1b-c953-51dd32492400"
      },
      "id": "F8SQJFjFiCUH",
      "execution_count": null,
      "outputs": [
        {
          "output_type": "execute_result",
          "data": {
            "text/plain": [
              "6"
            ]
          },
          "metadata": {},
          "execution_count": 40
        }
      ]
    },
    {
      "cell_type": "code",
      "source": [
        "# left shift (left to right)\n",
        "# num*2**bit\n",
        "\n"
      ],
      "metadata": {
        "id": "R6tiqvd4ipdj"
      },
      "id": "R6tiqvd4ipdj",
      "execution_count": null,
      "outputs": []
    },
    {
      "cell_type": "code",
      "source": [
        "#LOOPS IN PYTHON"
      ],
      "metadata": {
        "id": "6pMwXpjPkM1_"
      },
      "id": "6pMwXpjPkM1_",
      "execution_count": null,
      "outputs": []
    },
    {
      "cell_type": "code",
      "source": [
        "#FOR LOOPS\n",
        "#range( satarting value , stopping value , [step=1])\n",
        "for i in range(0,10):\n",
        "  print(i)"
      ],
      "metadata": {
        "colab": {
          "base_uri": "https://localhost:8080/"
        },
        "id": "OTJU4CekkMts",
        "outputId": "81baa441-f10c-4f9a-d665-40f34291a770"
      },
      "id": "OTJU4CekkMts",
      "execution_count": null,
      "outputs": [
        {
          "output_type": "stream",
          "name": "stdout",
          "text": [
            "0\n",
            "1\n",
            "2\n",
            "3\n",
            "4\n",
            "5\n",
            "6\n",
            "7\n",
            "8\n",
            "9\n"
          ]
        }
      ]
    },
    {
      "cell_type": "code",
      "source": [
        "for i in range(6,11,2):     #6+2 steeping value\n",
        "  print(i)"
      ],
      "metadata": {
        "colab": {
          "base_uri": "https://localhost:8080/"
        },
        "id": "LjXOi0T8lRk-",
        "outputId": "27bccb06-9d2c-4d7d-a8b8-c8848e25d723"
      },
      "id": "LjXOi0T8lRk-",
      "execution_count": null,
      "outputs": [
        {
          "output_type": "stream",
          "name": "stdout",
          "text": [
            "6\n",
            "8\n",
            "10\n"
          ]
        }
      ]
    },
    {
      "cell_type": "code",
      "source": [
        "for i in range(50,11,-1):\n",
        "  print(i)"
      ],
      "metadata": {
        "colab": {
          "base_uri": "https://localhost:8080/"
        },
        "id": "hOpma_J3lT4z",
        "outputId": "68167386-79b5-4a2d-fee1-55e6d5ee2529"
      },
      "id": "hOpma_J3lT4z",
      "execution_count": null,
      "outputs": [
        {
          "output_type": "stream",
          "name": "stdout",
          "text": [
            "50\n",
            "49\n",
            "48\n",
            "47\n",
            "46\n",
            "45\n",
            "44\n",
            "43\n",
            "42\n",
            "41\n",
            "40\n",
            "39\n",
            "38\n",
            "37\n",
            "36\n",
            "35\n",
            "34\n",
            "33\n",
            "32\n",
            "31\n",
            "30\n",
            "29\n",
            "28\n",
            "27\n",
            "26\n",
            "25\n",
            "24\n",
            "23\n",
            "22\n",
            "21\n",
            "20\n",
            "19\n",
            "18\n",
            "17\n",
            "16\n",
            "15\n",
            "14\n",
            "13\n",
            "12\n"
          ]
        }
      ]
    },
    {
      "cell_type": "code",
      "source": [
        "total=0\n",
        "for i in range(1,11):\n",
        "  total+=i\n",
        "print(total)"
      ],
      "metadata": {
        "colab": {
          "base_uri": "https://localhost:8080/"
        },
        "id": "MMx45yQtlsD6",
        "outputId": "7dda2780-a7e0-4c82-8afd-d449ecdef96e"
      },
      "id": "MMx45yQtlsD6",
      "execution_count": null,
      "outputs": [
        {
          "output_type": "stream",
          "name": "stdout",
          "text": [
            "55\n"
          ]
        }
      ]
    },
    {
      "cell_type": "code",
      "source": [
        " #count 70 till 3\n",
        "# 3 and 70 must not be included\n",
        "count=0\n",
        "for i in range(4,70):  #()\n",
        "    count+=1\n",
        "print(count)"
      ],
      "metadata": {
        "colab": {
          "base_uri": "https://localhost:8080/"
        },
        "id": "JgXpEG_VnSKw",
        "outputId": "60ef83d3-5867-4121-a51d-b1443a8209b7"
      },
      "id": "JgXpEG_VnSKw",
      "execution_count": null,
      "outputs": [
        {
          "output_type": "stream",
          "name": "stdout",
          "text": [
            "66\n"
          ]
        }
      ]
    },
    {
      "cell_type": "code",
      "source": [
        "#divisibe by 3\n",
        "#1 , 13\n",
        "\n",
        "for i in range(1,14):\n",
        "  if(i%3==0):\n",
        "    print(i)\n",
        "\n"
      ],
      "metadata": {
        "colab": {
          "base_uri": "https://localhost:8080/"
        },
        "id": "VECU7x1uoJtF",
        "outputId": "18b65b07-c9e8-46c4-f6b8-91f12b393716"
      },
      "id": "VECU7x1uoJtF",
      "execution_count": null,
      "outputs": [
        {
          "output_type": "stream",
          "name": "stdout",
          "text": [
            "3\n",
            "6\n",
            "9\n",
            "12\n"
          ]
        }
      ]
    },
    {
      "cell_type": "code",
      "source": [
        "#55 to 22\n",
        "#print the total of all even and odd numbers\n",
        "\n",
        "\n",
        "even_sum = 0\n",
        "odd_sum = 0\n",
        "\n",
        "for i in range(22, 56):\n",
        "    if i % 2 == 0:\n",
        "        even_sum += i\n",
        "    else:\n",
        "        odd_sum += i\n",
        "\n",
        "print(\"Sum even numbers:\", even_sum)\n",
        "print(\"Sum odd numbers:\", odd_sum)"
      ],
      "metadata": {
        "colab": {
          "base_uri": "https://localhost:8080/"
        },
        "id": "cmLOMsR4ojqb",
        "outputId": "ee35542f-ce44-424f-8495-6b39e4ccb4ea"
      },
      "id": "cmLOMsR4ojqb",
      "execution_count": null,
      "outputs": [
        {
          "output_type": "stream",
          "name": "stdout",
          "text": [
            "Sum even numbers: 646\n",
            "Sum odd numbers: 663\n"
          ]
        }
      ]
    },
    {
      "cell_type": "code",
      "source": [
        "# learinig\n",
        "#1. yt check diff bw call by value and call by refence\n",
        "#2. what is ascii values and UTF values\n",
        "#3. diff data type in python\n",
        "#4. diff bw is operator and == operator\n",
        "#perpare for test"
      ],
      "metadata": {
        "id": "TT6XX1H5qS0a"
      },
      "id": "TT6XX1H5qS0a",
      "execution_count": null,
      "outputs": []
    },
    {
      "cell_type": "code",
      "source": [
        "a = [1, 2, 3]\n",
        "b = a\n",
        "print(a is b)  # True, because both `a` and `b` refer to the same object.\n"
      ],
      "metadata": {
        "id": "dI6in-qmUvuO",
        "outputId": "c948e930-cde2-4b27-a2bd-b73f836b33bf",
        "colab": {
          "base_uri": "https://localhost:8080/"
        }
      },
      "id": "dI6in-qmUvuO",
      "execution_count": null,
      "outputs": [
        {
          "output_type": "stream",
          "name": "stdout",
          "text": [
            "True\n"
          ]
        }
      ]
    },
    {
      "cell_type": "code",
      "source": [
        "#for on string\n",
        "data = \"regex\"\n",
        "for i in data:\n",
        "    print(i)"
      ],
      "metadata": {
        "id": "2WRjjgv-UwXj",
        "colab": {
          "base_uri": "https://localhost:8080/"
        },
        "outputId": "b54f5f09-6a6e-4291-b605-48680b5392f9"
      },
      "id": "2WRjjgv-UwXj",
      "execution_count": null,
      "outputs": [
        {
          "output_type": "stream",
          "name": "stdout",
          "text": [
            "r\n",
            "e\n",
            "g\n",
            "e\n",
            "x\n"
          ]
        }
      ]
    },
    {
      "cell_type": "code",
      "source": [
        "data = \"regex\"\n",
        "#data[1]\n",
        "for i in range(0,5):\n",
        "    print(i,data[i])"
      ],
      "metadata": {
        "colab": {
          "base_uri": "https://localhost:8080/"
        },
        "id": "J_ULB7w3c6xN",
        "outputId": "c30415a2-fd0a-4c0c-bdb0-21f6be0a1165"
      },
      "id": "J_ULB7w3c6xN",
      "execution_count": null,
      "outputs": [
        {
          "output_type": "stream",
          "name": "stdout",
          "text": [
            "0 r\n",
            "1 e\n",
            "2 g\n",
            "3 e\n",
            "4 x\n"
          ]
        }
      ]
    },
    {
      "cell_type": "code",
      "source": [
        "data = \"regexsoftware\"\n",
        "\n",
        "for i in range(0,len(data)):  #-->len= gives the length of the string\n",
        "    print(i,data[i])"
      ],
      "metadata": {
        "colab": {
          "base_uri": "https://localhost:8080/"
        },
        "id": "c6hKUdPbdyg5",
        "outputId": "ffa660e3-62f4-4f81-c081-9a31e6b0aaf8"
      },
      "id": "c6hKUdPbdyg5",
      "execution_count": null,
      "outputs": [
        {
          "output_type": "stream",
          "name": "stdout",
          "text": [
            "0 r\n",
            "1 e\n",
            "2 g\n",
            "3 e\n",
            "4 x\n",
            "5 s\n",
            "6 o\n",
            "7 f\n",
            "8 t\n",
            "9 w\n",
            "10 a\n",
            "11 r\n",
            "12 e\n"
          ]
        }
      ]
    },
    {
      "cell_type": "code",
      "source": [
        "\n",
        "#take a string and print all the vovels\n",
        "string = \"regexsoftware\"\n",
        "for i in range(0, len(string)):\n",
        "    if(string[i] == 'a' or string[i] == 'e' or string[i] == 'i' or string[i] == 'o' or string[i] == 'u'):\n",
        "        print(i, string[i])"
      ],
      "metadata": {
        "colab": {
          "base_uri": "https://localhost:8080/"
        },
        "id": "AScvXnEZgTUr",
        "outputId": "8a247bdd-7e7d-4783-862f-b431a2e0da5e"
      },
      "id": "AScvXnEZgTUr",
      "execution_count": null,
      "outputs": [
        {
          "output_type": "stream",
          "name": "stdout",
          "text": [
            "1 e\n",
            "3 e\n",
            "6 o\n",
            "10 a\n",
            "12 e\n"
          ]
        }
      ]
    },
    {
      "cell_type": "code",
      "source": [
        "#for printing consonant and counting it\n",
        "string=\"regexsoftware\"\n",
        "count=0\n",
        "for i in string:\n",
        "  if(i=='a' or i=='e' or i=='i' or i=='o' or i=='u'):\n",
        "    print(i)\n",
        "  else:\n",
        "    print(\"consonant\")\n",
        "    count+=1\n",
        "    print(count)\n",
        "print(i)"
      ],
      "metadata": {
        "colab": {
          "base_uri": "https://localhost:8080/"
        },
        "id": "4GYOEAgzhQPU",
        "outputId": "fab81662-e452-4417-f476-237d87a74bbb"
      },
      "id": "4GYOEAgzhQPU",
      "execution_count": null,
      "outputs": [
        {
          "output_type": "stream",
          "name": "stdout",
          "text": [
            "consonant\n",
            "1\n",
            "e\n",
            "consonant\n",
            "2\n",
            "e\n",
            "consonant\n",
            "3\n",
            "consonant\n",
            "4\n",
            "o\n",
            "consonant\n",
            "5\n",
            "consonant\n",
            "6\n",
            "consonant\n",
            "7\n",
            "a\n",
            "consonant\n",
            "8\n",
            "e\n",
            "e\n"
          ]
        }
      ]
    },
    {
      "cell_type": "code",
      "source": [
        "x = \"rajasthan\"\n",
        "mid = len(x) // 2\n",
        "for i in range(mid):\n",
        "    print(x[i])"
      ],
      "metadata": {
        "colab": {
          "base_uri": "https://localhost:8080/"
        },
        "id": "DnF1wendjzi4",
        "outputId": "fb562a65-6bce-4545-deb8-b5d149978bf4"
      },
      "id": "DnF1wendjzi4",
      "execution_count": null,
      "outputs": [
        {
          "output_type": "stream",
          "name": "stdout",
          "text": [
            "r\n",
            "a\n",
            "j\n",
            "a\n"
          ]
        }
      ]
    },
    {
      "cell_type": "code",
      "source": [
        "for i in range(1,5):\n",
        "  print(i)\n",
        "  break\n",
        "print(\"outside loop\")"
      ],
      "metadata": {
        "colab": {
          "base_uri": "https://localhost:8080/"
        },
        "id": "vVVUxVjMknj-",
        "outputId": "c5e81065-7f07-48c4-d974-f4158612d645"
      },
      "id": "vVVUxVjMknj-",
      "execution_count": null,
      "outputs": [
        {
          "output_type": "stream",
          "name": "stdout",
          "text": [
            "1\n",
            "outside loop\n"
          ]
        }
      ]
    },
    {
      "cell_type": "code",
      "source": [
        "for i in range(1,5):\n",
        "  if(i==2):\n",
        "    continue\n",
        "    print(\"####\")\n",
        "  else:\n",
        "    print(i)\n",
        "print(\"outside loop\")\n"
      ],
      "metadata": {
        "colab": {
          "base_uri": "https://localhost:8080/"
        },
        "id": "I5mSD8d6kFlq",
        "outputId": "32d16ab9-d197-4943-9e75-3fe5e273ad1f"
      },
      "id": "I5mSD8d6kFlq",
      "execution_count": null,
      "outputs": [
        {
          "output_type": "stream",
          "name": "stdout",
          "text": [
            "1\n",
            "3\n",
            "4\n",
            "outside loop\n"
          ]
        }
      ]
    },
    {
      "cell_type": "code",
      "source": [
        "for i in range(1,21):\n",
        "  if(i%3==0):\n",
        "    break\n",
        "    print(\" \")\n",
        "  else:\n",
        "    print(i)\n",
        "print(\"outside loop\")"
      ],
      "metadata": {
        "colab": {
          "base_uri": "https://localhost:8080/"
        },
        "id": "dRtau4U0lg1M",
        "outputId": "39b40914-28f8-41cf-c44b-b0fb44aad1b5"
      },
      "id": "dRtau4U0lg1M",
      "execution_count": null,
      "outputs": [
        {
          "output_type": "stream",
          "name": "stdout",
          "text": [
            "1\n",
            "2\n",
            "outside loop\n"
          ]
        }
      ]
    },
    {
      "cell_type": "code",
      "source": [
        "#take a number and check if its a prime number\n",
        "x=int(input(\"enter ur number: \"))\n",
        "for i in range(2,x):\n",
        "  if(x%i==0):\n",
        "    print(\"num is not prime\")\n",
        "    break\n",
        "  else:\n",
        "    print(\"the num is prime\")\n"
      ],
      "metadata": {
        "colab": {
          "base_uri": "https://localhost:8080/"
        },
        "id": "JhDzeuYgms35",
        "outputId": "8fae2990-fdba-4243-80fb-f5425b674c4c"
      },
      "id": "JhDzeuYgms35",
      "execution_count": null,
      "outputs": [
        {
          "output_type": "stream",
          "name": "stdout",
          "text": [
            "enter ur number: 15\n",
            "prime\n",
            "not prime\n"
          ]
        }
      ]
    },
    {
      "cell_type": "code",
      "source": [
        "#2nd approach\n",
        "x=int(input(\"enter ur number: \"))\n",
        "a=0\n",
        "\n",
        "for i in range(2,x):\n",
        "  if(x%i==0):\n",
        "    a=1\n",
        "    break\n",
        "\n",
        "if(a==1):\n",
        "  print(\"not prime\")\n",
        "else:\n",
        "    print(\"prime num : \", x)"
      ],
      "metadata": {
        "colab": {
          "base_uri": "https://localhost:8080/"
        },
        "id": "_Wouo-MvpJgb",
        "outputId": "3cda0041-b48a-4e6e-e026-c8e04fa33d55"
      },
      "id": "_Wouo-MvpJgb",
      "execution_count": null,
      "outputs": [
        {
          "output_type": "stream",
          "name": "stdout",
          "text": [
            "enter ur number: 3\n",
            "prime num :  3\n"
          ]
        }
      ]
    },
    {
      "cell_type": "code",
      "source": [
        "#whlie Loop\n",
        "#used whenn not know finite iteration (range not fixed)\n",
        "#while(condition):\n",
        "#true\n"
      ],
      "metadata": {
        "id": "4NO4UBXuqu-g"
      },
      "id": "4NO4UBXuqu-g",
      "execution_count": null,
      "outputs": []
    },
    {
      "cell_type": "code",
      "source": [
        "#using while loop for prime number\n",
        "i=1\n",
        "while(i<5):     #condi\n",
        "   print(i)\n",
        "   i+=1"
      ],
      "metadata": {
        "colab": {
          "base_uri": "https://localhost:8080/"
        },
        "id": "CYcDHuOGr4k0",
        "outputId": "cc7a6e94-fbbc-47e6-ed68-56d28b9df062"
      },
      "id": "CYcDHuOGr4k0",
      "execution_count": null,
      "outputs": [
        {
          "output_type": "stream",
          "name": "stdout",
          "text": [
            "1\n",
            "2\n",
            "3\n",
            "4\n"
          ]
        }
      ]
    },
    {
      "cell_type": "code",
      "source": [
        "# to find starting 5 num divisibele by 3\n",
        "i=1\n",
        "count=0\n",
        "while(count<5):\n",
        "  if(i%3==0):\n",
        "    print(i)\n",
        "    count+=1\n",
        "  i+=1\n"
      ],
      "metadata": {
        "colab": {
          "base_uri": "https://localhost:8080/"
        },
        "id": "2t5KBO0ttZxI",
        "outputId": "cb1bb598-24e1-492d-dd15-1b8877ffa6b2"
      },
      "id": "2t5KBO0ttZxI",
      "execution_count": null,
      "outputs": [
        {
          "output_type": "stream",
          "name": "stdout",
          "text": [
            "3\n",
            "6\n",
            "9\n",
            "12\n",
            "15\n"
          ]
        }
      ]
    },
    {
      "cell_type": "code",
      "source": [
        "#take a number and increment the number untill 100 and write  the numbers with addition\n",
        "x=int(input(\"enter a number\"))\n",
        "count=0\n",
        "while(x<100):\n",
        "  count+=1\n",
        "  x+=1\n"
      ],
      "metadata": {
        "colab": {
          "base_uri": "https://localhost:8080/"
        },
        "id": "WM30N-z_tk0h",
        "outputId": "e400ad86-1fe2-4d59-f8ac-46f4b12600dc"
      },
      "id": "WM30N-z_tk0h",
      "execution_count": null,
      "outputs": [
        {
          "name": "stdout",
          "output_type": "stream",
          "text": [
            "enter a number4\n"
          ]
        }
      ]
    },
    {
      "cell_type": "code",
      "source": [
        "number = 4\n",
        "while (number <= 100):\n",
        "    print(\"Current number:\", number)\n",
        "    number += 1\n"
      ],
      "metadata": {
        "colab": {
          "base_uri": "https://localhost:8080/"
        },
        "id": "01BdfJAzy7nJ",
        "outputId": "55fe639b-22bb-41fe-ba44-0764e49b0705"
      },
      "id": "01BdfJAzy7nJ",
      "execution_count": null,
      "outputs": [
        {
          "output_type": "stream",
          "name": "stdout",
          "text": [
            "Current number: 4\n",
            "Current number: 5\n",
            "Current number: 6\n",
            "Current number: 7\n",
            "Current number: 8\n",
            "Current number: 9\n",
            "Current number: 10\n",
            "Current number: 11\n",
            "Current number: 12\n",
            "Current number: 13\n",
            "Current number: 14\n",
            "Current number: 15\n",
            "Current number: 16\n",
            "Current number: 17\n",
            "Current number: 18\n",
            "Current number: 19\n",
            "Current number: 20\n",
            "Current number: 21\n",
            "Current number: 22\n",
            "Current number: 23\n",
            "Current number: 24\n",
            "Current number: 25\n",
            "Current number: 26\n",
            "Current number: 27\n",
            "Current number: 28\n",
            "Current number: 29\n",
            "Current number: 30\n",
            "Current number: 31\n",
            "Current number: 32\n",
            "Current number: 33\n",
            "Current number: 34\n",
            "Current number: 35\n",
            "Current number: 36\n",
            "Current number: 37\n",
            "Current number: 38\n",
            "Current number: 39\n",
            "Current number: 40\n",
            "Current number: 41\n",
            "Current number: 42\n",
            "Current number: 43\n",
            "Current number: 44\n",
            "Current number: 45\n",
            "Current number: 46\n",
            "Current number: 47\n",
            "Current number: 48\n",
            "Current number: 49\n",
            "Current number: 50\n",
            "Current number: 51\n",
            "Current number: 52\n",
            "Current number: 53\n",
            "Current number: 54\n",
            "Current number: 55\n",
            "Current number: 56\n",
            "Current number: 57\n",
            "Current number: 58\n",
            "Current number: 59\n",
            "Current number: 60\n",
            "Current number: 61\n",
            "Current number: 62\n",
            "Current number: 63\n",
            "Current number: 64\n",
            "Current number: 65\n",
            "Current number: 66\n",
            "Current number: 67\n",
            "Current number: 68\n",
            "Current number: 69\n",
            "Current number: 70\n",
            "Current number: 71\n",
            "Current number: 72\n",
            "Current number: 73\n",
            "Current number: 74\n",
            "Current number: 75\n",
            "Current number: 76\n",
            "Current number: 77\n",
            "Current number: 78\n",
            "Current number: 79\n",
            "Current number: 80\n",
            "Current number: 81\n",
            "Current number: 82\n",
            "Current number: 83\n",
            "Current number: 84\n",
            "Current number: 85\n",
            "Current number: 86\n",
            "Current number: 87\n",
            "Current number: 88\n",
            "Current number: 89\n",
            "Current number: 90\n",
            "Current number: 91\n",
            "Current number: 92\n",
            "Current number: 93\n",
            "Current number: 94\n",
            "Current number: 95\n",
            "Current number: 96\n",
            "Current number: 97\n",
            "Current number: 98\n",
            "Current number: 99\n",
            "Current number: 100\n"
          ]
        }
      ]
    },
    {
      "cell_type": "code",
      "source": [
        "n=int(input(\"enter your num\"))\n",
        "count=0\n",
        "while(count<10):\n",
        "  if(n%2==0 and n%6==0 and n%7==0):\n",
        "    print(\"divisible by 2,6,7\",n)\n",
        "    count+=1\n",
        "  n+=1"
      ],
      "metadata": {
        "id": "6xBwypaE0K_A",
        "colab": {
          "base_uri": "https://localhost:8080/"
        },
        "outputId": "dcc15f0a-ad75-4744-c46b-d3fc9c64a920"
      },
      "id": "6xBwypaE0K_A",
      "execution_count": null,
      "outputs": [
        {
          "output_type": "stream",
          "name": "stdout",
          "text": [
            "enter your num42\n",
            "divisible by 2,6,7 42\n",
            "divisible by 2,6,7 84\n",
            "divisible by 2,6,7 126\n",
            "divisible by 2,6,7 168\n",
            "divisible by 2,6,7 210\n",
            "divisible by 2,6,7 252\n",
            "divisible by 2,6,7 294\n",
            "divisible by 2,6,7 336\n",
            "divisible by 2,6,7 378\n",
            "divisible by 2,6,7 420\n"
          ]
        }
      ]
    },
    {
      "cell_type": "code",
      "source": [
        "#while loop can be infinte\n",
        "a=3\n",
        "b=7\n",
        "num=1\n",
        "while(True):     #true with while checks infinite times\n",
        "  if(num%a==0 and num%b==0):\n",
        "    print(\"divisible:\",num)\n",
        "    break\n",
        "  num+=1"
      ],
      "metadata": {
        "colab": {
          "base_uri": "https://localhost:8080/"
        },
        "id": "J3YWxwrdnKdg",
        "outputId": "291bbe03-9676-476e-8334-ccd4a0f16a25"
      },
      "id": "J3YWxwrdnKdg",
      "execution_count": null,
      "outputs": [
        {
          "output_type": "stream",
          "name": "stdout",
          "text": [
            "divisible: 21\n"
          ]
        }
      ]
    },
    {
      "cell_type": "code",
      "source": [
        "\n",
        "#take 2 num and find out lcm of 2 numbers\n",
        "a = int(input(\"Enter the first number: \"))\n",
        "b = int(input(\"Enter the second number: \"))\n",
        "\n",
        "if a > b:\n",
        "  greater = a\n",
        "else:\n",
        "  greater = b\n",
        "\n",
        "while True:\n",
        "  if greater % a == 0 and greater % b == 0:\n",
        "    lcm = greater\n",
        "    break\n",
        "  greater += 1\n",
        "\n",
        "print(\"The LCM of\", a, \"and\", b, \"is\", lcm)"
      ],
      "metadata": {
        "colab": {
          "base_uri": "https://localhost:8080/"
        },
        "id": "GE4uNQYLuiXZ",
        "outputId": "0a84d683-a025-482d-df16-94cad0b225e3"
      },
      "id": "GE4uNQYLuiXZ",
      "execution_count": null,
      "outputs": [
        {
          "output_type": "stream",
          "name": "stdout",
          "text": [
            "Enter the first number: 5\n",
            "Enter the second number: 9\n",
            "The LCM of 5 and 9 is 45\n"
          ]
        }
      ]
    },
    {
      "cell_type": "code",
      "source": [
        "#pallindrome\n",
        "data=\"NAMAN\"\n",
        "start=0\n",
        "end=len(data)-1\n",
        "x=False #by default value is true #checking value\n",
        "while(start<end):\n",
        "  if(data[start]!=data[end]):\n",
        "    x+=1\n",
        "    break\n",
        "  start+=1\n",
        "  end-=1\n",
        "if(x==0):\n",
        "  print(\"pallindrome\")\n",
        "else:\n",
        "  print(\"not pallindrome\")"
      ],
      "metadata": {
        "colab": {
          "base_uri": "https://localhost:8080/"
        },
        "id": "twcAbQsius_W",
        "outputId": "daf8ba70-556a-4cc8-a49a-64b0ebc0990a"
      },
      "id": "twcAbQsius_W",
      "execution_count": null,
      "outputs": [
        {
          "output_type": "stream",
          "name": "stdout",
          "text": [
            "pallindrome\n"
          ]
        }
      ]
    },
    {
      "cell_type": "code",
      "source": [
        "#nested loops#\n",
        "for x in  range(1,5):\n",
        "    print(x)\n",
        "    for y in range(1,3):\n",
        "        print(\"food\")"
      ],
      "metadata": {
        "colab": {
          "base_uri": "https://localhost:8080/"
        },
        "id": "h86ao3vt1QzU",
        "outputId": "67e5bcd1-2647-48f5-c1cc-0d5b1c663b20"
      },
      "id": "h86ao3vt1QzU",
      "execution_count": null,
      "outputs": [
        {
          "output_type": "stream",
          "name": "stdout",
          "text": [
            "1\n",
            "food\n",
            "food\n",
            "2\n",
            "food\n",
            "food\n",
            "3\n",
            "food\n",
            "food\n",
            "4\n",
            "food\n",
            "food\n"
          ]
        }
      ]
    },
    {
      "cell_type": "code",
      "source": [
        "#nested loops#\n",
        "for x in  range(1,5):\n",
        "    print(\"employee\",x)\n",
        "    for y in range(1,x+1):    #(1,2) ,  (1,1)-->X\n",
        "        print(\"food coupon \",y)\n"
      ],
      "metadata": {
        "colab": {
          "base_uri": "https://localhost:8080/"
        },
        "id": "VUr2URee2uPp",
        "outputId": "16d23bf3-0665-40c5-96e4-50dd6f7309bf"
      },
      "id": "VUr2URee2uPp",
      "execution_count": null,
      "outputs": [
        {
          "output_type": "stream",
          "name": "stdout",
          "text": [
            "employee 1\n",
            "food coupon  0\n",
            "employee 2\n",
            "food coupon  0\n",
            "food coupon  1\n",
            "employee 3\n",
            "food coupon  0\n",
            "food coupon  1\n",
            "food coupon  2\n",
            "employee 4\n",
            "food coupon  0\n",
            "food coupon  1\n",
            "food coupon  2\n",
            "food coupon  3\n"
          ]
        }
      ]
    },
    {
      "cell_type": "code",
      "source": [
        "#APPROACH 2 BY MAKING A VARIABLE\n",
        "num=1\n",
        "for x in range(1,5):\n",
        "  print(\"employee\",x)\n",
        "  for y in range(4,x-1,-1):\n",
        "    print(\"food coupon\",y)\n",
        "    num+=1"
      ],
      "metadata": {
        "colab": {
          "base_uri": "https://localhost:8080/"
        },
        "id": "va3Sh6u44IUc",
        "outputId": "16187275-4294-405e-ba17-69ceea158575"
      },
      "id": "va3Sh6u44IUc",
      "execution_count": null,
      "outputs": [
        {
          "output_type": "stream",
          "name": "stdout",
          "text": [
            "employee 1\n",
            "food coupon 4\n",
            "food coupon 3\n",
            "food coupon 2\n",
            "food coupon 1\n",
            "employee 2\n",
            "food coupon 4\n",
            "food coupon 3\n",
            "food coupon 2\n",
            "employee 3\n",
            "food coupon 4\n",
            "food coupon 3\n",
            "employee 4\n",
            "food coupon 4\n"
          ]
        }
      ]
    },
    {
      "cell_type": "code",
      "source": [
        "#printing a table of num\n",
        "num=int(input(\"enter yor num\"))\n",
        "for i in range(1,11):\n",
        "  print(num,\"*\",i,\"=\",num*i)"
      ],
      "metadata": {
        "colab": {
          "base_uri": "https://localhost:8080/"
        },
        "id": "TwB4j5Vo426D",
        "outputId": "e30d4925-8796-413f-98ca-9d6b73ac9400"
      },
      "id": "TwB4j5Vo426D",
      "execution_count": null,
      "outputs": [
        {
          "output_type": "stream",
          "name": "stdout",
          "text": [
            "enter yor num5\n",
            "5 * 1 = 5\n",
            "5 * 2 = 10\n",
            "5 * 3 = 15\n",
            "5 * 4 = 20\n",
            "5 * 5 = 25\n",
            "5 * 6 = 30\n",
            "5 * 7 = 35\n",
            "5 * 8 = 40\n",
            "5 * 9 = 45\n",
            "5 * 10 = 50\n"
          ]
        }
      ]
    },
    {
      "cell_type": "code",
      "source": [
        "#print table from 2 to 7\n",
        "for i in range(2,8):\n",
        "  print(\"table of\",i)\n",
        "  for j in range(1,11):\n",
        "    print(i,\"*\",j,\"=\",i*j)"
      ],
      "metadata": {
        "colab": {
          "base_uri": "https://localhost:8080/"
        },
        "id": "Izehw6op6F51",
        "outputId": "ba934212-3bf8-4f63-e4cf-9c4e92a61e82"
      },
      "id": "Izehw6op6F51",
      "execution_count": null,
      "outputs": [
        {
          "output_type": "stream",
          "name": "stdout",
          "text": [
            "table of 2\n",
            "2 * 1 = 2\n",
            "2 * 2 = 4\n",
            "2 * 3 = 6\n",
            "2 * 4 = 8\n",
            "2 * 5 = 10\n",
            "2 * 6 = 12\n",
            "2 * 7 = 14\n",
            "2 * 8 = 16\n",
            "2 * 9 = 18\n",
            "2 * 10 = 20\n",
            "table of 3\n",
            "3 * 1 = 3\n",
            "3 * 2 = 6\n",
            "3 * 3 = 9\n",
            "3 * 4 = 12\n",
            "3 * 5 = 15\n",
            "3 * 6 = 18\n",
            "3 * 7 = 21\n",
            "3 * 8 = 24\n",
            "3 * 9 = 27\n",
            "3 * 10 = 30\n",
            "table of 4\n",
            "4 * 1 = 4\n",
            "4 * 2 = 8\n",
            "4 * 3 = 12\n",
            "4 * 4 = 16\n",
            "4 * 5 = 20\n",
            "4 * 6 = 24\n",
            "4 * 7 = 28\n",
            "4 * 8 = 32\n",
            "4 * 9 = 36\n",
            "4 * 10 = 40\n",
            "table of 5\n",
            "5 * 1 = 5\n",
            "5 * 2 = 10\n",
            "5 * 3 = 15\n",
            "5 * 4 = 20\n",
            "5 * 5 = 25\n",
            "5 * 6 = 30\n",
            "5 * 7 = 35\n",
            "5 * 8 = 40\n",
            "5 * 9 = 45\n",
            "5 * 10 = 50\n",
            "table of 6\n",
            "6 * 1 = 6\n",
            "6 * 2 = 12\n",
            "6 * 3 = 18\n",
            "6 * 4 = 24\n",
            "6 * 5 = 30\n",
            "6 * 6 = 36\n",
            "6 * 7 = 42\n",
            "6 * 8 = 48\n",
            "6 * 9 = 54\n",
            "6 * 10 = 60\n",
            "table of 7\n",
            "7 * 1 = 7\n",
            "7 * 2 = 14\n",
            "7 * 3 = 21\n",
            "7 * 4 = 28\n",
            "7 * 5 = 35\n",
            "7 * 6 = 42\n",
            "7 * 7 = 49\n",
            "7 * 8 = 56\n",
            "7 * 9 = 63\n",
            "7 * 10 = 70\n"
          ]
        }
      ]
    },
    {
      "cell_type": "code",
      "source": [],
      "metadata": {
        "id": "yktdnLjG_Au-"
      },
      "id": "yktdnLjG_Au-",
      "execution_count": null,
      "outputs": []
    },
    {
      "cell_type": "code",
      "execution_count": null,
      "metadata": {
        "colab": {
          "base_uri": "https://localhost:8080/"
        },
        "id": "6bk6l6izXBf0",
        "outputId": "5a2e24a9-1f5b-4437-fb30-035a56b958d2"
      },
      "outputs": [
        {
          "output_type": "stream",
          "name": "stdout",
          "text": [
            "   * \n",
            "  * * \n",
            " * * * \n",
            "* * * * \n"
          ]
        }
      ],
      "source": [
        "for i in range(1,5):\n",
        "  for j in range(i,4):\n",
        "    print(\" \", end=\"\")\n",
        "  for k in range(1,i+1):\n",
        "    print(\"*\", end=\" \")\n",
        "  print(\"\")"
      ],
      "id": "6bk6l6izXBf0"
    },
    {
      "cell_type": "code",
      "source": [
        "for i in range(4, 0, -1):\n",
        "    for j in range(i,5):\n",
        "        print(\" \", end=\"\")\n",
        "    for k in range(1, i + 1):\n",
        "        print(\"* \", end=\" \")\n",
        "    print(\"\")"
      ],
      "metadata": {
        "colab": {
          "base_uri": "https://localhost:8080/"
        },
        "id": "LHVGXMxcZfmM",
        "outputId": "0175e082-7711-4c4e-b3b7-08e899f4a082"
      },
      "execution_count": null,
      "outputs": [
        {
          "output_type": "stream",
          "name": "stdout",
          "text": [
            " *  *  *  *  \n",
            "  *  *  *  \n",
            "   *  *  \n",
            "    *  \n"
          ]
        }
      ],
      "id": "LHVGXMxcZfmM"
    },
    {
      "cell_type": "code",
      "source": [
        "# Loop through the number of rows\n",
        "for i in range(1, 5):\n",
        "    for j in range(i, 4):\n",
        "        print(\" \", end=\"\")\n",
        "    for k in range(1, i + 1):\n",
        "        print(chr(64 + k), end=\"\")\n",
        "    print(\"\")\n",
        "\n"
      ],
      "metadata": {
        "colab": {
          "base_uri": "https://localhost:8080/"
        },
        "id": "6u3XErrUaIYK",
        "outputId": "b9ddd80d-1059-4cd6-b043-32106bc929b0"
      },
      "execution_count": null,
      "outputs": [
        {
          "output_type": "stream",
          "name": "stdout",
          "text": [
            "   A\n",
            "  AB\n",
            " ABC\n",
            "ABCD\n"
          ]
        }
      ],
      "id": "6u3XErrUaIYK"
    },
    {
      "cell_type": "code",
      "source": [
        "#right angle triangle\n",
        "for i in range(1, 5):\n",
        "    for j in range(i, 4):\n",
        "        print(\" \", end=\"\")\n",
        "    for k in range(1, i + 1):\n",
        "        print(\"*\", end=\"\")\n",
        "    print(\"\")"
      ],
      "metadata": {
        "colab": {
          "base_uri": "https://localhost:8080/"
        },
        "id": "x8D4Z6Xpbeqh",
        "outputId": "a2b5eb23-6fab-4c38-a65b-2d3de47f50bf"
      },
      "execution_count": null,
      "outputs": [
        {
          "output_type": "stream",
          "name": "stdout",
          "text": [
            "   *\n",
            "  **\n",
            " ***\n",
            "****\n"
          ]
        }
      ],
      "id": "x8D4Z6Xpbeqh"
    },
    {
      "cell_type": "code",
      "source": [
        "#hollow right angled triangle\n",
        "h= 5\n",
        "\n",
        "for i in range(h):\n",
        "    for j in range(h):\n",
        "        if j == 0 or j == i or i == h - 1:\n",
        "            print(\"*\", end=\" \")\n",
        "        else:\n",
        "            print(\" \", end=\" \")\n",
        "    print()\n"
      ],
      "metadata": {
        "colab": {
          "base_uri": "https://localhost:8080/"
        },
        "id": "cHTp_x_QcXPo",
        "outputId": "3e74f038-91ec-411c-fe85-d06d89cec48b"
      },
      "execution_count": null,
      "outputs": [
        {
          "output_type": "stream",
          "name": "stdout",
          "text": [
            "*         \n",
            "* *       \n",
            "*   *     \n",
            "*     *   \n",
            "* * * * * \n"
          ]
        }
      ],
      "id": "cHTp_x_QcXPo"
    },
    {
      "cell_type": "code",
      "source": [
        "#LISTS = COLLECTION OF ELEMENTS\n",
        "#STORED BASED ON INDEX POSITION\n",
        "#MUTABLE DATA TYPE(CANGEABLE)\n",
        "#SEQUENCE DATATYPE\n",
        "\n",
        "X=[10,20,30,40,\"hey\",100.0]\n",
        "print(type(X))"
      ],
      "metadata": {
        "colab": {
          "base_uri": "https://localhost:8080/"
        },
        "id": "ygKKfIzUgnFf",
        "outputId": "a0a64ede-15a5-4073-fb5a-efc20579c960"
      },
      "execution_count": null,
      "outputs": [
        {
          "output_type": "stream",
          "name": "stdout",
          "text": [
            "<class 'list'>\n"
          ]
        }
      ],
      "id": "ygKKfIzUgnFf"
    },
    {
      "cell_type": "code",
      "source": [
        "X=[10,20,30,40,\"hey\",100.0]\n",
        "print(X[0:3])"
      ],
      "metadata": {
        "colab": {
          "base_uri": "https://localhost:8080/"
        },
        "id": "yPpzzUzchXN1",
        "outputId": "1e856cce-fe9a-46ef-d084-3aa66156225b"
      },
      "execution_count": null,
      "outputs": [
        {
          "output_type": "stream",
          "name": "stdout",
          "text": [
            "[10, 20, 30]\n"
          ]
        }
      ],
      "id": "yPpzzUzchXN1"
    },
    {
      "cell_type": "code",
      "source": [
        "X=[10,20,30,40,\"hey\",100.0]\n",
        "X[0]=90   #update the data value\n",
        "print(X)"
      ],
      "metadata": {
        "colab": {
          "base_uri": "https://localhost:8080/"
        },
        "id": "v46dBsjShqzN",
        "outputId": "7968a79a-b0a0-487e-b225-d76fb5c8d451"
      },
      "execution_count": null,
      "outputs": [
        {
          "output_type": "stream",
          "name": "stdout",
          "text": [
            "[90, 20, 30, 40, 'hey', 100.0]\n"
          ]
        }
      ],
      "id": "v46dBsjShqzN"
    },
    {
      "cell_type": "code",
      "source": [
        "X=[10,20,30,40,\"hey\",100.0]\n",
        "X.append(500)  #add in the data value\n",
        "print(X)"
      ],
      "metadata": {
        "colab": {
          "base_uri": "https://localhost:8080/"
        },
        "id": "9iRdikwVh2dS",
        "outputId": "80205489-74d0-4139-ecdd-22ff3ca8f899"
      },
      "execution_count": null,
      "outputs": [
        {
          "output_type": "stream",
          "name": "stdout",
          "text": [
            "[10, 20, 30, 40, 'hey', 100.0, 500]\n"
          ]
        }
      ],
      "id": "9iRdikwVh2dS"
    },
    {
      "cell_type": "code",
      "source": [
        "X=[10,20,30,40,\"hey\",100.0]\n",
        "X.extend(\"hello\")\n",
        "X.extend([\"hello\",999])  #add multiple  in the data value    #hello is an iterable #an integer is never an iterable\n",
        "print(X)"
      ],
      "metadata": {
        "colab": {
          "base_uri": "https://localhost:8080/"
        },
        "id": "CWtqrmzUiKyt",
        "outputId": "93867983-47c9-4e34-923b-a9d29566b3f5"
      },
      "execution_count": null,
      "outputs": [
        {
          "output_type": "stream",
          "name": "stdout",
          "text": [
            "[10, 20, 30, 40, 'hey', 100.0, 'h', 'e', 'l', 'l', 'o', 'hello', 999]\n"
          ]
        }
      ],
      "id": "CWtqrmzUiKyt"
    },
    {
      "cell_type": "code",
      "source": [
        "X=[10,20,30,40,\"hey\",100.0]\n",
        "z=X.pop() #remove in the data value\n",
        "y=X.pop()\n",
        "w=X.pop(0) #remove in the data value with index\n",
        "print(X,\"z:\",z,\"y:\",y,\"w:\",w)"
      ],
      "metadata": {
        "colab": {
          "base_uri": "https://localhost:8080/"
        },
        "id": "OwW3N2IGi5DU",
        "outputId": "0bbf704c-f3cb-4a1e-ee72-723b1b1402a4"
      },
      "execution_count": null,
      "outputs": [
        {
          "output_type": "stream",
          "name": "stdout",
          "text": [
            "[20, 30, 40] z: 100.0 y: hey w: 10\n"
          ]
        }
      ],
      "id": "OwW3N2IGi5DU"
    },
    {
      "cell_type": "code",
      "source": [
        "#to delete dirrectly a element\n",
        "X=[10,20,30,40,\"hey\",100.0]\n",
        "X.remove(10)\n",
        "print(X)"
      ],
      "metadata": {
        "colab": {
          "base_uri": "https://localhost:8080/"
        },
        "id": "eoN9J38qkfps",
        "outputId": "689017d6-3182-4d2b-e2e0-729300cc8541"
      },
      "execution_count": null,
      "outputs": [
        {
          "output_type": "stream",
          "name": "stdout",
          "text": [
            "[20, 30, 40, 'hey', 100.0]\n"
          ]
        }
      ],
      "id": "eoN9J38qkfps"
    },
    {
      "cell_type": "code",
      "source": [
        "X=[10,20,30,40,\"hey\",100.0]\n",
        "for i in X:\n",
        "  print(X)"
      ],
      "metadata": {
        "colab": {
          "base_uri": "https://localhost:8080/"
        },
        "id": "08_USkJmlEwe",
        "outputId": "d4dad7e2-fb88-498b-a20a-44ca91143996"
      },
      "execution_count": null,
      "outputs": [
        {
          "output_type": "stream",
          "name": "stdout",
          "text": [
            "[10, 20, 30, 40, 'hey', 100.0]\n",
            "[10, 20, 30, 40, 'hey', 100.0]\n",
            "[10, 20, 30, 40, 'hey', 100.0]\n",
            "[10, 20, 30, 40, 'hey', 100.0]\n",
            "[10, 20, 30, 40, 'hey', 100.0]\n",
            "[10, 20, 30, 40, 'hey', 100.0]\n"
          ]
        }
      ],
      "id": "08_USkJmlEwe"
    },
    {
      "cell_type": "code",
      "source": [
        "X=[10,20,30,40,\"hey\",100.0]\n",
        "for i in range(0,len(X)):\n",
        "  print(i,X[i])"
      ],
      "metadata": {
        "colab": {
          "base_uri": "https://localhost:8080/"
        },
        "id": "vTwLFMXWlVuN",
        "outputId": "8943afb9-77e0-4215-a3cf-25139a8cab16"
      },
      "execution_count": null,
      "outputs": [
        {
          "output_type": "stream",
          "name": "stdout",
          "text": [
            "0 10\n",
            "1 20\n",
            "2 30\n",
            "3 40\n",
            "4 hey\n",
            "5 100.0\n"
          ]
        }
      ],
      "id": "vTwLFMXWlVuN"
    },
    {
      "cell_type": "code",
      "source": [
        "X=[10,20,30,40,\"hey\",100.0]\n",
        "for i in range(0,len((X))):\n",
        "   if type(i)==int:\n",
        "    print(i)"
      ],
      "metadata": {
        "colab": {
          "base_uri": "https://localhost:8080/"
        },
        "id": "Zhz61yNElsuQ",
        "outputId": "415cbb96-75db-4bcf-8d09-4db62ac034f6"
      },
      "execution_count": null,
      "outputs": [
        {
          "output_type": "stream",
          "name": "stdout",
          "text": [
            "0\n",
            "1\n",
            "2\n",
            "3\n",
            "4\n",
            "5\n"
          ]
        }
      ],
      "id": "Zhz61yNElsuQ"
    },
    {
      "cell_type": "code",
      "source": [
        "mylist=[10,20,4,7,5,12]\n",
        "list=[]\n",
        "for i in range(0,len(mylist)-1):\n",
        "  if(mylist[i]>mylist[i+1]):\n",
        "    list.append(mylist[i])\n",
        "print(list)"
      ],
      "metadata": {
        "id": "SFIeTYqoqKN3",
        "colab": {
          "base_uri": "https://localhost:8080/"
        },
        "outputId": "2f9b40b5-750f-4558-ac5b-6380849b6ebf"
      },
      "execution_count": null,
      "outputs": [
        {
          "output_type": "stream",
          "name": "stdout",
          "text": [
            "[20, 7]\n"
          ]
        }
      ],
      "id": "SFIeTYqoqKN3"
    },
    {
      "cell_type": "code",
      "source": [
        "#swaping in largest in list\n",
        "Alist=[10,20,4,70,500,12,850]\n",
        "for i in range(0,1):\n",
        "  for j in range(i+1,len(Alist)):\n",
        "    if(Alist[i]<Alist[j]):\n",
        "      temp=Alist[j]\n",
        "      Alist[j]=Alist[i]\n",
        "      Alist[i]=temp\n",
        "print(Alist)"
      ],
      "metadata": {
        "id": "qqLdnxfShx2F",
        "colab": {
          "base_uri": "https://localhost:8080/"
        },
        "outputId": "f0fee419-dd39-4fe0-f6e3-8b1d4ee00286"
      },
      "id": "qqLdnxfShx2F",
      "execution_count": 14,
      "outputs": [
        {
          "output_type": "stream",
          "name": "stdout",
          "text": [
            "####\n",
            "####\n",
            "####\n",
            "####\n",
            "[850, 10, 4, 20, 70, 12, 500]\n"
          ]
        }
      ]
    },
    {
      "cell_type": "code",
      "source": [
        "#approach 2\n",
        "mylist=[10,20,4,7,5,12]\n",
        "maxi=mylist[0]\n",
        "for i in range(0,len(mylist)):\n",
        "  if(maxi<mylist[i]):\n",
        "    maxi=mylist[i]\n",
        "print(maxi)"
      ],
      "metadata": {
        "colab": {
          "base_uri": "https://localhost:8080/"
        },
        "id": "3Dp1vnfdm4Oo",
        "outputId": "5774b3cf-b541-4bb9-a367-ef564b7f9b0c"
      },
      "id": "3Dp1vnfdm4Oo",
      "execution_count": 15,
      "outputs": [
        {
          "output_type": "stream",
          "name": "stdout",
          "text": [
            "20\n"
          ]
        }
      ]
    },
    {
      "cell_type": "code",
      "source": [
        "#seccond highest element\n",
        "Blist=[10,30,500,70,60,100]\n",
        "x=Blist[0]\n",
        "y=0\n",
        "for i in range(0,len(Blist)):\n",
        "  if(x<Blist[i]):\n",
        "    y=x\n",
        "    x=Blist[i]\n",
        "  elif(y<Blist[i]):\n",
        "    y=Blist[i]\n",
        "print(\"second highest element is\",y)"
      ],
      "metadata": {
        "colab": {
          "base_uri": "https://localhost:8080/"
        },
        "id": "wEHEvXz6pgdK",
        "outputId": "61869c54-e754-4f16-cd94-8851707d38dd"
      },
      "id": "wEHEvXz6pgdK",
      "execution_count": 21,
      "outputs": [
        {
          "output_type": "stream",
          "name": "stdout",
          "text": [
            "second highest element is 100\n"
          ]
        }
      ]
    },
    {
      "cell_type": "code",
      "source": [
        "#time complexicity ?\n",
        "#calculating the time complexicity of a loop ?\n",
        "#func read  enumerate and zip\n",
        "#revise list ques\n",
        "#what is dictionary what are its usage"
      ],
      "metadata": {
        "id": "HpOnIRqLquWv"
      },
      "id": "HpOnIRqLquWv",
      "execution_count": null,
      "outputs": []
    }
  ],
  "metadata": {
    "kernelspec": {
      "display_name": "Python 3 (ipykernel)",
      "language": "python",
      "name": "python3"
    },
    "language_info": {
      "codemirror_mode": {
        "name": "ipython",
        "version": 3
      },
      "file_extension": ".py",
      "mimetype": "text/x-python",
      "name": "python",
      "nbconvert_exporter": "python",
      "pygments_lexer": "ipython3",
      "version": "3.12.7"
    },
    "colab": {
      "provenance": []
    }
  },
  "nbformat": 4,
  "nbformat_minor": 5
}