{
 "cells": [
  {
   "cell_type": "code",
   "execution_count": 8,
   "metadata": {},
   "outputs": [
    {
     "name": "stdout",
     "output_type": "stream",
     "text": [
      "[99, 10, 4, 20, 45]\n",
      "maximum element is : 99\n"
     ]
    }
   ],
   "source": [
    "numbers = [10, 20, 4, 45, 99] \n",
    "for i in range(0,1):\n",
    "    for j in range(0, len(numbers)):\n",
    "        if numbers[j] > numbers[i]:\n",
    "            numbers[i], numbers[j] = numbers[j], numbers[i]\n",
    "print(numbers)\n",
    "largest = numbers[0]\n",
    "print(\"maximum element is :\" , largest)"
   ]
  },
  {
   "cell_type": "code",
   "execution_count": 11,
   "metadata": {},
   "outputs": [
    {
     "name": "stdout",
     "output_type": "stream",
     "text": [
      "the sum of all element is : 100\n"
     ]
    }
   ],
   "source": [
    "numbers = [10, 20, 30, 40]\n",
    "sum = 0\n",
    "for i in numbers:\n",
    "    sum = sum+i\n",
    "print(\"the sum of all element is :\" , sum)\n"
   ]
  },
  {
   "cell_type": "code",
   "execution_count": 20,
   "metadata": {},
   "outputs": [
    {
     "name": "stdout",
     "output_type": "stream",
     "text": [
      "reversed list : [40, 30, 20, 10]\n"
     ]
    }
   ],
   "source": [
    "# reversing a list \n",
    "numbers = [10, 20, 30, 40]\n",
    "reverse_list = []\n",
    "for i in range(len(numbers) - 1, -1, -1):\n",
    "    reverse_list.append(numbers[i])\n",
    "print(\"reversed list :\" ,reverse_list)\n"
   ]
  },
  {
   "cell_type": "code",
   "execution_count": 102,
   "metadata": {},
   "outputs": [
    {
     "name": "stdout",
     "output_type": "stream",
     "text": [
      "ascended_list:  [11, 12, 23, 34, 56, 78, 89, 90]\n"
     ]
    }
   ],
   "source": [
    "# Write a Python program to sort a list in ascending order without sort functions\n",
    "list1 = [56, 23, 89, 12, 78, 34, 90, 11]\n",
    "for i in range(len(list1)):\n",
    "    for j in range(i + 1, len(list1)):\n",
    "        if list1[i] > list1[j]:\n",
    "            temp = list1[i]\n",
    "            list1[i] = list1[j]\n",
    "            list1[j] = temp\n",
    "ascended_list = list1  \n",
    "print(\"ascended_list: \" , ascended_list)\n"
   ]
  },
  {
   "cell_type": "code",
   "execution_count": 30,
   "metadata": {},
   "outputs": [
    {
     "name": "stdout",
     "output_type": "stream",
     "text": [
      "removed duplicates:  [1, 2, 3, 4, 5]\n"
     ]
    }
   ],
   "source": [
    "numbers = [1, 2, 2, 3, 4, 4, 5]\n",
    "# removing duplicates\n",
    "clean_list = []\n",
    "for i in numbers:\n",
    "    if i not in clean_list:\n",
    "        clean_list.append(i) \n",
    "print(\"removed duplicates: \" , clean_list)"
   ]
  },
  {
   "cell_type": "code",
   "execution_count": 44,
   "metadata": {},
   "outputs": [
    {
     "name": "stdout",
     "output_type": "stream",
     "text": [
      "pairs:  [[1, 5], [2, 4], [3, 3]]\n"
     ]
    }
   ],
   "source": [
    "numbers = [1, 2, 3, 4, 3, 5, 6]  \n",
    "target_sum = 6 \n",
    "result = []\n",
    "for i in range(len(numbers)):  \n",
    "    for j in range(i + 1, len(numbers)):  \n",
    "        if numbers[i] + numbers[j] == target_sum:\n",
    "            result.append([numbers[i], numbers[j]])\n",
    "\n",
    "print(\"pairs: \",result)  \n"
   ]
  },
  {
   "cell_type": "code",
   "execution_count": 1,
   "metadata": {},
   "outputs": [
    {
     "name": "stdout",
     "output_type": "stream",
     "text": [
      "[1, 2, 3, 4, 5, 6, 7, 8]\n"
     ]
    }
   ],
   "source": [
    "# Write a Python program to flatten a nested list (list within lists) into a single list.\n",
    "nested_list = [1, [2, 3], [4, [5, 6], 7], 8]\n",
    "flattened_list = []\n",
    "\n",
    "def flatten_list(nested):\n",
    "    for element in nested:\n",
    "        if isinstance(element, list):\n",
    "            flatten_list(element)\n",
    "        else:\n",
    "            flattened_list.append(element)\n",
    "\n",
    "flatten_list(nested_list)\n",
    "print(flattened_list)  # Output: [1, 2, 3, 4, 5, 6, 7, 8]\n"
   ]
  },
  {
   "cell_type": "code",
   "execution_count": 55,
   "metadata": {},
   "outputs": [
    {
     "name": "stdout",
     "output_type": "stream",
     "text": [
      "Sum excluding the largest and smallest element: 9\n"
     ]
    }
   ],
   "source": [
    "numbers = [1, 2, 3, 4, 5]\n",
    "largest = []\n",
    "smallest = []\n",
    "sum = 0\n",
    "for i in numbers:\n",
    "    if i < 5:\n",
    "        smallest.append(i)\n",
    "    else:\n",
    "        largest.append(i)\n",
    "# print(largest)\n",
    "# print(smallest)\n",
    "smallest.remove(1)\n",
    "# print(smallest)\n",
    "\n",
    "for i in smallest:\n",
    "    sum += i\n",
    "print(\"Sum excluding the largest and smallest element:\",sum)\n",
    "\n"
   ]
  },
  {
   "cell_type": "code",
   "execution_count": 3,
   "metadata": {},
   "outputs": [
    {
     "name": "stdout",
     "output_type": "stream",
     "text": [
      "True\n"
     ]
    }
   ],
   "source": [
    "# Intermediate\n",
    "# Write a Python program to check if a list is a palindrome (reads the same backward \n",
    "# as forward) using two pointer approach \n",
    "numbers = [1, 2, 3, 2, 1] \n",
    "\n",
    "start = 0\n",
    "end = len(numbers) - 1\n",
    "# Check if the list is a palindrome\n",
    "while start < end:\n",
    "    if numbers[start] != numbers[end]:\n",
    "        print(False)\n",
    "        break\n",
    "    start += 1\n",
    "    end -= 1    \n",
    "else:\n",
    "    print(True)\n"
   ]
  },
  {
   "cell_type": "code",
   "execution_count": 62,
   "metadata": {},
   "outputs": [
    {
     "name": "stdout",
     "output_type": "stream",
     "text": [
      "[1, 2, 3, 4, 5, 6]\n"
     ]
    }
   ],
   "source": [
    "# Write a function to remove duplicate elements from a list. \n",
    "numbers = [1, 2, 3, 2, 4, 5, 1, 6]\n",
    "removed_duplicates = []\n",
    "for num in numbers:\n",
    "    if num not in removed_duplicates:\n",
    "        removed_duplicates.append(num)\n",
    "print(removed_duplicates)"
   ]
  },
  {
   "cell_type": "code",
   "execution_count": null,
   "metadata": {},
   "outputs": [
    {
     "name": "stdout",
     "output_type": "stream",
     "text": [
      "[3, 4, 5]\n"
     ]
    }
   ],
   "source": [
    "#  Find Common Elements in Two Lists \n",
    "list1 = [1, 2, 3, 4, 5] \n",
    "list2 = [3, 4, 5, 6, 7] \n",
    "comnon_elements = []\n",
    "for i in list1:\n",
    "    if i in list2 and i not in comnon_elements:\n",
    "        comnon_elements.append(i)\n",
    "print(\"REsult:\", comnon_elements)\n"
   ]
  },
  {
   "cell_type": "code",
   "execution_count": null,
   "metadata": {},
   "outputs": [
    {
     "name": "stdout",
     "output_type": "stream",
     "text": [
      "strawberry\n",
      "{'apple': 5, 'banana': 6, 'strawberry': 10, 'kiwi': 4}\n"
     ]
    }
   ],
   "source": [
    "#  Find the Longest Word in a List \n",
    "words = [\"apple\", \"banana\", \"strawberry\", \"kiwi\"]\n",
    "lengths = { word : len(word) for word in words }\n",
    "longest_word = max(lengths, key=lengths.get)\n",
    "print(longest_word)  \n",
    "print(lengths)\n"
   ]
  },
  {
   "cell_type": "code",
   "execution_count": null,
   "metadata": {},
   "outputs": [
    {
     "name": "stdout",
     "output_type": "stream",
     "text": [
      "3\n",
      "15\n"
     ]
    }
   ],
   "source": [
    "# Find Missing Number in a List \n",
    "# You are given a list of n-1 numbers in the range 1 to n. One number is missing \n",
    "# from the sequence. Find the missing number. \n",
    "numbers = [1, 2, 4, 5, 6] \n",
    "sum_of_num = 0\n",
    "n = len(numbers) + 1\n",
    "# Calculate the sum \n",
    "\n",
    "total_sum = n * (n + 1) // 2\n",
    "\n",
    "for num in numbers:\n",
    "    sum_of_num += num\n",
    "missing_number = total_sum - sum_of_num\n",
    "print(missing_number)  \n",
    "\n"
   ]
  },
  {
   "cell_type": "code",
   "execution_count": 86,
   "metadata": {},
   "outputs": [
    {
     "name": "stdout",
     "output_type": "stream",
     "text": [
      "{4: 2, 5: 2, 1: 1, 2: 2, 0: 1}\n",
      "Expected outcome :  1\n"
     ]
    }
   ],
   "source": [
    "# Find the First Non-Repeating Element \n",
    "# Given a list of integers, find the first element that appears only once. \n",
    "numbers = [4, 5, 1, 2, 0, 4, 5, 2] \n",
    "# Expected Output: 1\n",
    "freq = {}\n",
    "for i in numbers:\n",
    "    if i in freq:\n",
    "        freq[i] += 1\n",
    "    else:\n",
    "        freq[i] = 1\n",
    "print(freq)\n",
    "\n",
    "for key, value in freq.items():\n",
    "    if value == 1:\n",
    "        print(\"Expected outcome : \" , key)\n",
    "        break  "
   ]
  },
  {
   "cell_type": "code",
   "execution_count": 90,
   "metadata": {},
   "outputs": [
    {
     "name": "stdout",
     "output_type": "stream",
     "text": [
      "[0, 0]\n",
      "[1, 3, 12]\n",
      "Result:  [1, 3, 12, 0, 0]\n"
     ]
    }
   ],
   "source": [
    "# Move All Zeros to the End \n",
    "# Given a list of integers, move all zeros to the end while maintaining the relative order \n",
    "# of non-zero elements. Don’t use any inbuilt functions \n",
    "numbers = [0, 1, 0, 3, 12] \n",
    "# [1, 3, 12, 0, 0]\n",
    "\n",
    "zero_list = []\n",
    "non_zero_list = []\n",
    "for i in numbers:\n",
    "    if i == 0:\n",
    "        zero_list.append(i)\n",
    "    else:\n",
    "        non_zero_list.append(i)\n",
    "print(zero_list)\n",
    "print(non_zero_list)\n",
    "\n",
    "non_zero_list.extend(zero_list)\n",
    "print(\"Result: \",non_zero_list)\n",
    "\n",
    "\n"
   ]
  },
  {
   "cell_type": "code",
   "execution_count": null,
   "metadata": {},
   "outputs": [
    {
     "name": "stdout",
     "output_type": "stream",
     "text": [
      "[3, 6, 8]\n"
     ]
    }
   ],
   "source": [
    "# Find Elements Greater Than Their Left Neighbor \n",
    "numbers = [1, 3, 2, 6, 5, 8, 7] \n",
    "# [3, 6, 8] \n",
    "\n",
    "list1 = []  \n",
    "for i in range(1, len(numbers)):  \n",
    "    if numbers[i] > numbers[i - 1]:  \n",
    "        list1.append(numbers[i])  \n",
    "print(list1)  \n"
   ]
  },
  {
   "cell_type": "code",
   "execution_count": 100,
   "metadata": {},
   "outputs": [
    {
     "name": "stdout",
     "output_type": "stream",
     "text": [
      "[[-1, 0, 1], [-1, -1, 2]]\n"
     ]
    }
   ],
   "source": [
    "# Find Triplets That Sum to Zero \n",
    "# Given a list of numbers, find all unique triplets (a, b, c) such that a + b + c = 0. \n",
    "numbers = [-1, 0, 1, 2, -1, -4] \n",
    "# b.  Expected Output: [(-1, -1, 2), (-1, 0, 1)] \n",
    "target = 0\n",
    "triplets = []\n",
    "for i in range(len(numbers)):\n",
    "    for j in range(i + 1, len(numbers)):\n",
    "        for k in range(j + 1, len(numbers)):\n",
    "            if numbers[i] + numbers[j] + numbers[k] == target:\n",
    "                triplet = sorted((numbers[i], numbers[j], numbers[k]))\n",
    "                if triplet not in triplets:\n",
    "                    triplets.append(triplet)\n",
    "print(triplets)  # Expected Output: [(-1, -1, 2), (-1, 0, 1)]"
   ]
  },
  {
   "cell_type": "code",
   "execution_count": 114,
   "metadata": {},
   "outputs": [
    {
     "name": "stdout",
     "output_type": "stream",
     "text": [
      "Counter({'a': 3, 'b': 2, 'c': 1})\n",
      "a\n"
     ]
    }
   ],
   "source": [
    "from collections import Counter\n",
    "\n",
    "data = ['a', 'b', 'c', 'a', 'b', 'a']\n",
    "freq = Counter(data)\n",
    "print(freq)  # {'a': 3, 'b': 2, 'c': 1}\n",
    "for item, count in freq.items():\n",
    "    if count >= len(data) / 2:\n",
    "        print(item)  # prints 'a'"
   ]
  },
  {
   "cell_type": "code",
   "execution_count": null,
   "metadata": {},
   "outputs": [],
   "source": []
  }
 ],
 "metadata": {
  "kernelspec": {
   "display_name": "base",
   "language": "python",
   "name": "python3"
  },
  "language_info": {
   "codemirror_mode": {
    "name": "ipython",
    "version": 3
   },
   "file_extension": ".py",
   "mimetype": "text/x-python",
   "name": "python",
   "nbconvert_exporter": "python",
   "pygments_lexer": "ipython3",
   "version": "3.12.7"
  }
 },
 "nbformat": 4,
 "nbformat_minor": 2
}
