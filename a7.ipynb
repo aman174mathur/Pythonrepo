{
 "cells": [
  {
   "cell_type": "raw",
   "id": "b141d022-d30b-4b34-8335-6de71b81362c",
   "metadata": {},
   "source": [
    "*args (non keyword arguments)\n",
    "args allows you to pass multiple positional arguments to a function . it collects them into tuple"
   ]
  },
  {
   "cell_type": "code",
   "execution_count": 2,
   "id": "ddd7345a-51a3-4eb6-a1a5-5afdeb7d4064",
   "metadata": {},
   "outputs": [
    {
     "name": "stdout",
     "output_type": "stream",
     "text": [
      "sum: 30\n"
     ]
    }
   ],
   "source": [
    "def add_num(*args):\n",
    "    total =sum (args)\n",
    "    print(\"sum:\",total)\n",
    "\n",
    "add_num(5,10,15)"
   ]
  },
  {
   "cell_type": "raw",
   "id": "fc6e7d65-ebd6-439a-a306-d61df09a77c2",
   "metadata": {},
   "source": [
    "**kwargs(key word arguments)\n",
    "it allows you to pass multiple arguments(name-value pairs).it collects them into a dictionary."
   ]
  },
  {
   "cell_type": "code",
   "execution_count": 3,
   "id": "2876f56d-b6f3-47de-a69a-a1535a625d78",
   "metadata": {},
   "outputs": [
    {
     "name": "stdout",
     "output_type": "stream",
     "text": [
      "name:saurabh\n",
      "age:24\n",
      "city:jaipur\n"
     ]
    }
   ],
   "source": [
    "def print_details(**kwargs):\n",
    "    for key, value in kwargs.items():\n",
    "        print(f\"{key}:{value}\")\n",
    "\n",
    "print_details(name=\"saurabh\", age=24,city=\"jaipur\")"
   ]
  },
  {
   "cell_type": "raw",
   "id": "5860aa49-3f23-411a-9ab7-b6db4b274eb8",
   "metadata": {},
   "source": [
    "using args and kwargs together\n",
    "you can use both in the same function,but args must come before kwargs\n"
   ]
  },
  {
   "cell_type": "code",
   "execution_count": 5,
   "id": "b5999b77-5626-4c06-9c05-459e42d9fb0e",
   "metadata": {},
   "outputs": [
    {
     "name": "stdout",
     "output_type": "stream",
     "text": [
      "positional arguments: (1, 2, 3)\n",
      "keyword argumnts: {'name': 'saurabh', 'age': 24}\n"
     ]
    }
   ],
   "source": [
    "def display_info(*args,**kwargs):\n",
    "    print(\"positional arguments:\",args)\n",
    "    print(\"keyword argumnts:\",kwargs)\n",
    "\n",
    "display_info(1,2,3,name=\"saurabh\",age=24)"
   ]
  },
  {
   "cell_type": "raw",
   "id": "e48b19e6-7665-4159-b422-60d933817ce8",
   "metadata": {},
   "source": [
    "required arguments(mandatory inputs)\n",
    "these are arguments that must be passed to a function otherwise.pyhton throws an error . there is no default value for these arguments."
   ]
  },
  {
   "cell_type": "code",
   "execution_count": 8,
   "id": "d3740739-491b-4ffe-8fa3-4457c6d9ee56",
   "metadata": {},
   "outputs": [
    {
     "name": "stdout",
     "output_type": "stream",
     "text": [
      "hello ,saurabh!\n"
     ]
    }
   ],
   "source": [
    "def greet(name):\n",
    "    print(f\"hello ,{name}!\")\n",
    "\n",
    "greet(\"saurabh\")\n",
    "#greet()                    throws an error no name argument given"
   ]
  },
  {
   "cell_type": "raw",
   "id": "009494fe-6272-412c-9813-10bb00b1e688",
   "metadata": {},
   "source": [
    "default arguments(optional inputs)\n",
    "these arguments have a default value assigned if no value is provided. pyhton uses the default."
   ]
  },
  {
   "cell_type": "code",
   "execution_count": 12,
   "id": "16c7446d-74ac-40a7-a898-6822c65ef071",
   "metadata": {},
   "outputs": [
    {
     "name": "stdout",
     "output_type": "stream",
     "text": [
      "hello, aman\n",
      "hello, geust\n"
     ]
    }
   ],
   "source": [
    "def greet(name=\"geust\"):\n",
    "    print(f\"hello, {name}\")\n",
    "\n",
    "greet(\"aman\")\n",
    "greet()"
   ]
  },
  {
   "cell_type": "raw",
   "id": "9a682406-e49b-49f5-ab9c-c90f867f1354",
   "metadata": {},
   "source": [
    "return keyword (output of a function)\n",
    "the reutrn statement sends a value back from a function.if return is not used,the function returns none."
   ]
  },
  {
   "cell_type": "code",
   "execution_count": 13,
   "id": "ce9e5c09-2edd-47e2-a084-7ad561f2b2b9",
   "metadata": {},
   "outputs": [
    {
     "name": "stdout",
     "output_type": "stream",
     "text": [
      "8\n"
     ]
    }
   ],
   "source": [
    "def add(a,b):\n",
    "    return a+b\n",
    "\n",
    "result=add(5,3)\n",
    "print(result)"
   ]
  },
  {
   "cell_type": "code",
   "execution_count": 16,
   "id": "eecafe20-46dd-4087-a9f3-a3bfb6e5b18c",
   "metadata": {},
   "outputs": [
    {
     "name": "stdout",
     "output_type": "stream",
     "text": [
      "65\n",
      "5\n"
     ]
    }
   ],
   "source": [
    "#find the max number using args:\n",
    "\n",
    "def find_max(*args):\n",
    "    return max(args)\n",
    "\n",
    "print(find_max(12,34,65,1,3))\n",
    "print(find_max(-1,-3,5,-6))"
   ]
  },
  {
   "cell_type": "code",
   "execution_count": 18,
   "id": "22bb9446-14ae-47c1-a33b-f8b88134e6b2",
   "metadata": {},
   "outputs": [
    {
     "name": "stdout",
     "output_type": "stream",
     "text": [
      "60\n"
     ]
    }
   ],
   "source": [
    "#calculate the product of numbers using *args\n",
    "\n",
    "def product(*args):\n",
    "    result=1\n",
    "    for num in args:\n",
    "        result*=num\n",
    "    return result\n",
    "\n",
    "print(product(1,3,4,5))"
   ]
  },
  {
   "cell_type": "code",
   "execution_count": 22,
   "id": "03497ce3-c306-41d7-98dd-1aa618a15f90",
   "metadata": {},
   "outputs": [
    {
     "name": "stdout",
     "output_type": "stream",
     "text": [
      "saurabh sahrma\n",
      "rahul mehta\n"
     ]
    }
   ],
   "source": [
    "#generate a full name using **kwargs\n",
    "\n",
    "def full_name(**kwargs):\n",
    "    return f\"{kwargs.get(\"first_name\",'unknown')} {kwargs.get('last_name','mehta')}\"\n",
    "\n",
    "print(full_name(first_name=\"saurabh\",last_name=\"sahrma\"))\n",
    "print(full_name(first_name=\"rahul\"))   #here the default value is \"mehta\""
   ]
  },
  {
   "cell_type": "code",
   "execution_count": 23,
   "id": "10f5b58f-f640-4c1c-a135-d6d2025ae33b",
   "metadata": {},
   "outputs": [
    {
     "name": "stdout",
     "output_type": "stream",
     "text": [
      "3\n",
      "1\n"
     ]
    }
   ],
   "source": [
    "#count vowels in a given string using return \n",
    "def count_vowels(string):\n",
    "    vowels=\"aeiouAEIOU\"\n",
    "    return sum(1 for char in string if char in vowels) #1 is incrementing\n",
    "\n",
    "print(count_vowels(\"Hello World\"))\n",
    "print(count_vowels(\"python\"))"
   ]
  },
  {
   "cell_type": "code",
   "execution_count": 26,
   "id": "2ad6c500-9a27-4e77-825f-0424fb4241bc",
   "metadata": {},
   "outputs": [
    {
     "name": "stdout",
     "output_type": "stream",
     "text": [
      "100\n",
      "70\n"
     ]
    }
   ],
   "source": [
    "#shopping cart using args and kwargs\n",
    "\n",
    "def shopping_cart(*items,**prices):\n",
    "    total = sum(prices[items] for items in items if items in prices)\n",
    "    return total\n",
    "\n",
    "print(shopping_cart(\"apple\",\"banana\",\"mango\",apple=50,banana=20,mango=30))\n",
    "print(shopping_cart(\"apple\",\"banana\",apple=50,banana=20))"
   ]
  },
  {
   "cell_type": "code",
   "execution_count": 34,
   "id": "32361b1c-7daf-4e8a-b7dc-68a592c1ce5e",
   "metadata": {},
   "outputs": [
    {
     "name": "stdout",
     "output_type": "stream",
     "text": [
      "hello saurabh,you are 18 years old\n",
      "hello rahul,you are 25 years old\n"
     ]
    }
   ],
   "source": [
    "#function with required and default arguments\n",
    "def greet(name , age=18):\n",
    "    return f\"hello {name},you are {age} years old\"\n",
    "\n",
    "print(greet(\"saurabh\"))\n",
    "print(greet(\"rahul\", 25))"
   ]
  },
  {
   "cell_type": "code",
   "execution_count": 35,
   "id": "25952c31-39d3-474d-ac53-f7a71747eea5",
   "metadata": {},
   "outputs": [
    {
     "name": "stdout",
     "output_type": "stream",
     "text": [
      "[1, 2, 3, 4, 5, 6]\n",
      "['a', 'b', 'c', 'c', 'd', 'e']\n"
     ]
    }
   ],
   "source": [
    "#merge two lists \n",
    "def merge_list(*args):\n",
    "    return[item for lst in args for item in lst]\n",
    "\n",
    "print(merge_list([1,2,3],[4,5,6]))\n",
    "print(merge_list(['a','b','c'] , ['c' , 'd'] , ['e']))"
   ]
  },
  {
   "cell_type": "code",
   "execution_count": 37,
   "id": "e79131dc-5df4-4fa3-a408-caeb6ce30670",
   "metadata": {},
   "outputs": [
    {
     "name": "stdout",
     "output_type": "stream",
     "text": [
      "even [2, 4, 6, 8]\n",
      "odd:  [1, 3, 5, 5, 7, 9]\n"
     ]
    }
   ],
   "source": [
    "#even and odd lists\n",
    "def seperate_even_odd(number):\n",
    "    even=[num for num in number if num%2==0]\n",
    "    odd=[num for num in number if num%2!=0]\n",
    "    return even,odd\n",
    "\n",
    "even,odd=seperate_even_odd([1,2,3,4,5,5,6,7,8,9])\n",
    "print(\"even\" , even)\n",
    "print(\"odd: \" ,odd)"
   ]
  },
  {
   "cell_type": "code",
   "execution_count": null,
   "id": "675a41f2-5153-4b1a-b2bb-0295f58244d5",
   "metadata": {},
   "outputs": [],
   "source": []
  }
 ],
 "metadata": {
  "kernelspec": {
   "display_name": "Python 3 (ipykernel)",
   "language": "python",
   "name": "python3"
  },
  "language_info": {
   "codemirror_mode": {
    "name": "ipython",
    "version": 3
   },
   "file_extension": ".py",
   "mimetype": "text/x-python",
   "name": "python",
   "nbconvert_exporter": "python",
   "pygments_lexer": "ipython3",
   "version": "3.12.7"
  }
 },
 "nbformat": 4,
 "nbformat_minor": 5
}
