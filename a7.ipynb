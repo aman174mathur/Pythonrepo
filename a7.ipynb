{
 "cells": [
  {
   "cell_type": "markdown",
   "id": "68dc960f-4273-4e57-bdab-2422a5249bc8",
   "metadata": {},
   "source": [
    "*args (non keyword arguments)\n",
    "args allows you to pass multiple positional arguments to a function . it collects them into tuple"
   ]
  },
  {
   "cell_type": "code",
   "execution_count": 2,
   "id": "ddd7345a-51a3-4eb6-a1a5-5afdeb7d4064",
   "metadata": {},
   "outputs": [
    {
     "name": "stdout",
     "output_type": "stream",
     "text": [
      "sum: 30\n"
     ]
    }
   ],
   "source": [
    "def add_num(*args):\n",
    "    total =sum (args)\n",
    "    print(\"sum:\",total)\n",
    "\n",
    "add_num(5,10,15)"
   ]
  },
  {
   "cell_type": "raw",
   "id": "fc6e7d65-ebd6-439a-a306-d61df09a77c2",
   "metadata": {},
   "source": [
    "**kwargs(key word arguments)\n",
    "it allows you to pass multiple arguments(name-value pairs).it collects them into a dictionary."
   ]
  },
  {
   "cell_type": "code",
   "execution_count": 3,
   "id": "2876f56d-b6f3-47de-a69a-a1535a625d78",
   "metadata": {},
   "outputs": [
    {
     "name": "stdout",
     "output_type": "stream",
     "text": [
      "name:saurabh\n",
      "age:24\n",
      "city:jaipur\n"
     ]
    }
   ],
   "source": [
    "def print_details(**kwargs):\n",
    "    for key, value in kwargs.items():\n",
    "        print(f\"{key}:{value}\")\n",
    "\n",
    "print_details(name=\"saurabh\", age=24,city=\"jaipur\")"
   ]
  },
  {
   "cell_type": "raw",
   "id": "5860aa49-3f23-411a-9ab7-b6db4b274eb8",
   "metadata": {},
   "source": [
    "using args and kwargs together\n",
    "you can use both in the same function,but args must come before kwargs\n"
   ]
  },
  {
   "cell_type": "code",
   "execution_count": 5,
   "id": "b5999b77-5626-4c06-9c05-459e42d9fb0e",
   "metadata": {},
   "outputs": [
    {
     "name": "stdout",
     "output_type": "stream",
     "text": [
      "positional arguments: (1, 2, 3)\n",
      "keyword argumnts: {'name': 'saurabh', 'age': 24}\n"
     ]
    }
   ],
   "source": [
    "def display_info(*args,**kwargs):\n",
    "    print(\"positional arguments:\",args)\n",
    "    print(\"keyword argumnts:\",kwargs)\n",
    "\n",
    "display_info(1,2,3,name=\"saurabh\",age=24)"
   ]
  },
  {
   "cell_type": "raw",
   "id": "e48b19e6-7665-4159-b422-60d933817ce8",
   "metadata": {},
   "source": [
    "required arguments(mandatory inputs)\n",
    "these are arguments that must be passed to a function otherwise.pyhton throws an error . there is no default value for these arguments."
   ]
  },
  {
   "cell_type": "code",
   "execution_count": 8,
   "id": "d3740739-491b-4ffe-8fa3-4457c6d9ee56",
   "metadata": {},
   "outputs": [
    {
     "name": "stdout",
     "output_type": "stream",
     "text": [
      "hello ,saurabh!\n"
     ]
    }
   ],
   "source": [
    "def greet(name):\n",
    "    print(f\"hello ,{name}!\")\n",
    "\n",
    "greet(\"saurabh\")\n",
    "#greet()                    throws an error no name argument given"
   ]
  },
  {
   "cell_type": "raw",
   "id": "009494fe-6272-412c-9813-10bb00b1e688",
   "metadata": {},
   "source": [
    "default arguments(optional inputs)\n",
    "these arguments have a default value assigned if no value is provided. pyhton uses the default."
   ]
  },
  {
   "cell_type": "code",
   "execution_count": 12,
   "id": "16c7446d-74ac-40a7-a898-6822c65ef071",
   "metadata": {},
   "outputs": [
    {
     "name": "stdout",
     "output_type": "stream",
     "text": [
      "hello, aman\n",
      "hello, geust\n"
     ]
    }
   ],
   "source": [
    "def greet(name=\"geust\"):\n",
    "    print(f\"hello, {name}\")\n",
    "\n",
    "greet(\"aman\")\n",
    "greet()"
   ]
  },
  {
   "cell_type": "raw",
   "id": "9a682406-e49b-49f5-ab9c-c90f867f1354",
   "metadata": {},
   "source": [
    "return keyword (output of a function)\n",
    "the reutrn statement sends a value back from a function.if return is not used,the function returns none."
   ]
  },
  {
   "cell_type": "code",
   "execution_count": 13,
   "id": "ce9e5c09-2edd-47e2-a084-7ad561f2b2b9",
   "metadata": {},
   "outputs": [
    {
     "name": "stdout",
     "output_type": "stream",
     "text": [
      "8\n"
     ]
    }
   ],
   "source": [
    "def add(a,b):\n",
    "    return a+b\n",
    "\n",
    "result=add(5,3)\n",
    "print(result)"
   ]
  },
  {
   "cell_type": "code",
   "execution_count": 16,
   "id": "eecafe20-46dd-4087-a9f3-a3bfb6e5b18c",
   "metadata": {},
   "outputs": [
    {
     "name": "stdout",
     "output_type": "stream",
     "text": [
      "65\n",
      "5\n"
     ]
    }
   ],
   "source": [
    "#find the max number using args:\n",
    "\n",
    "def find_max(*args):\n",
    "    return max(args)\n",
    "\n",
    "print(find_max(12,34,65,1,3))\n",
    "print(find_max(-1,-3,5,-6))"
   ]
  },
  {
   "cell_type": "code",
   "execution_count": 18,
   "id": "22bb9446-14ae-47c1-a33b-f8b88134e6b2",
   "metadata": {},
   "outputs": [
    {
     "name": "stdout",
     "output_type": "stream",
     "text": [
      "60\n"
     ]
    }
   ],
   "source": [
    "#calculate the product of numbers using *args\n",
    "\n",
    "def product(*args):\n",
    "    result=1\n",
    "    for num in args:\n",
    "        result*=num\n",
    "    return result\n",
    "\n",
    "print(product(1,3,4,5))"
   ]
  },
  {
   "cell_type": "code",
   "execution_count": 22,
   "id": "03497ce3-c306-41d7-98dd-1aa618a15f90",
   "metadata": {},
   "outputs": [
    {
     "name": "stdout",
     "output_type": "stream",
     "text": [
      "saurabh sahrma\n",
      "rahul mehta\n"
     ]
    }
   ],
   "source": [
    "#generate a full name using **kwargs\n",
    "\n",
    "def full_name(**kwargs):\n",
    "    return f\"{kwargs.get(\"first_name\",'unknown')} {kwargs.get('last_name','mehta')}\"\n",
    "\n",
    "print(full_name(first_name=\"saurabh\",last_name=\"sahrma\"))\n",
    "print(full_name(first_name=\"rahul\"))   #here the default value is \"mehta\""
   ]
  },
  {
   "cell_type": "code",
   "execution_count": 23,
   "id": "10f5b58f-f640-4c1c-a135-d6d2025ae33b",
   "metadata": {},
   "outputs": [
    {
     "name": "stdout",
     "output_type": "stream",
     "text": [
      "3\n",
      "1\n"
     ]
    }
   ],
   "source": [
    "#count vowels in a given string using return \n",
    "def count_vowels(string):\n",
    "    vowels=\"aeiouAEIOU\"\n",
    "    return sum(1 for char in string if char in vowels) #1 is incrementing\n",
    "\n",
    "print(count_vowels(\"Hello World\"))\n",
    "print(count_vowels(\"python\"))"
   ]
  },
  {
   "cell_type": "code",
   "execution_count": 26,
   "id": "2ad6c500-9a27-4e77-825f-0424fb4241bc",
   "metadata": {},
   "outputs": [
    {
     "name": "stdout",
     "output_type": "stream",
     "text": [
      "100\n",
      "70\n"
     ]
    }
   ],
   "source": [
    "#shopping cart using args and kwargs\n",
    "\n",
    "def shopping_cart(*items,**prices):\n",
    "    total = sum(prices[items] for items in items if items in prices)\n",
    "    return total\n",
    "\n",
    "print(shopping_cart(\"apple\",\"banana\",\"mango\",apple=50,banana=20,mango=30))\n",
    "print(shopping_cart(\"apple\",\"banana\",apple=50,banana=20))"
   ]
  },
  {
   "cell_type": "code",
   "execution_count": 34,
   "id": "32361b1c-7daf-4e8a-b7dc-68a592c1ce5e",
   "metadata": {},
   "outputs": [
    {
     "name": "stdout",
     "output_type": "stream",
     "text": [
      "hello saurabh,you are 18 years old\n",
      "hello rahul,you are 25 years old\n"
     ]
    }
   ],
   "source": [
    "#function with required and default arguments\n",
    "def greet(name , age=18):\n",
    "    return f\"hello {name},you are {age} years old\"\n",
    "\n",
    "print(greet(\"saurabh\"))\n",
    "print(greet(\"rahul\", 25))"
   ]
  },
  {
   "cell_type": "code",
   "execution_count": 35,
   "id": "25952c31-39d3-474d-ac53-f7a71747eea5",
   "metadata": {},
   "outputs": [
    {
     "name": "stdout",
     "output_type": "stream",
     "text": [
      "[1, 2, 3, 4, 5, 6]\n",
      "['a', 'b', 'c', 'c', 'd', 'e']\n"
     ]
    }
   ],
   "source": [
    "#merge two lists \n",
    "def merge_list(*args):\n",
    "    return[item for lst in args for item in lst]\n",
    "\n",
    "print(merge_list([1,2,3],[4,5,6]))\n",
    "print(merge_list(['a','b','c'] , ['c' , 'd'] , ['e']))"
   ]
  },
  {
   "cell_type": "code",
   "execution_count": 37,
   "id": "e79131dc-5df4-4fa3-a408-caeb6ce30670",
   "metadata": {},
   "outputs": [
    {
     "name": "stdout",
     "output_type": "stream",
     "text": [
      "even [2, 4, 6, 8]\n",
      "odd:  [1, 3, 5, 5, 7, 9]\n"
     ]
    }
   ],
   "source": [
    "#even and odd lists\n",
    "def seperate_even_odd(number):\n",
    "    even=[num for num in number if num%2==0]\n",
    "    odd=[num for num in number if num%2!=0]\n",
    "    return even,odd\n",
    "\n",
    "even,odd=seperate_even_odd([1,2,3,4,5,5,6,7,8,9])\n",
    "print(\"even\" , even)\n",
    "print(\"odd: \" ,odd)"
   ]
  },
  {
   "cell_type": "code",
   "execution_count": 1,
   "id": "a4603df9-804c-4a11-b08f-73e6c794311b",
   "metadata": {},
   "outputs": [],
   "source": [
    "##list comprehension\n",
    "#consise way to create lists.\n",
    "#they are more readable and efficient\n",
    "#syntax:  [expressiom for  item in iterable if conditon]"
   ]
  },
  {
   "cell_type": "markdown",
   "id": "4e40e1ac-b796-4cc8-b1f2-789881177c71",
   "metadata": {},
   "source": [
    "create a list of squares"
   ]
  },
  {
   "cell_type": "code",
   "execution_count": 2,
   "id": "e8434ba2-88ac-4477-8eb1-32da4fb0628d",
   "metadata": {},
   "outputs": [
    {
     "name": "stdout",
     "output_type": "stream",
     "text": [
      "[0, 1, 2, 3, 4, 5]\n"
     ]
    }
   ],
   "source": [
    "sq=[x for x in range(0,6)]\n",
    "print(sq)"
   ]
  },
  {
   "cell_type": "markdown",
   "id": "f02e51ca-4e05-4441-9e23-88b24c4a2afd",
   "metadata": {},
   "source": [
    "filter even numbers"
   ]
  },
  {
   "cell_type": "code",
   "execution_count": 5,
   "id": "7baf542d-c144-496b-b434-18298c4dcfa6",
   "metadata": {},
   "outputs": [
    {
     "name": "stdout",
     "output_type": "stream",
     "text": [
      "[0, 2, 4, 6, 8]\n"
     ]
    }
   ],
   "source": [
    "evens=[x for x in range(10) if x %2==0]\n",
    "print(evens)"
   ]
  },
  {
   "cell_type": "markdown",
   "id": "d70bec1c-cd3c-4c78-9bce-f7414193cb51",
   "metadata": {},
   "source": [
    "convert strings to uppercase"
   ]
  },
  {
   "cell_type": "code",
   "execution_count": 6,
   "id": "645ef3a7-b2bf-4fc4-ba77-fd92ced2a49d",
   "metadata": {},
   "outputs": [
    {
     "name": "stdout",
     "output_type": "stream",
     "text": [
      "['SAM', 'ROHIT', 'ANKIT']\n"
     ]
    }
   ],
   "source": [
    "names=[\"sam\",\"rohit\",\"ankit\"]\n",
    "upper_names=[name.upper() for name in names]\n",
    "print(upper_names)"
   ]
  },
  {
   "cell_type": "markdown",
   "id": "e7cba5a0-f9a4-4aae-a517-3853e14578eb",
   "metadata": {},
   "source": [
    "flatten a nested list"
   ]
  },
  {
   "cell_type": "code",
   "execution_count": 7,
   "id": "1419b0a1-99d6-48ac-918d-bd197ff7ce3f",
   "metadata": {},
   "outputs": [
    {
     "name": "stdout",
     "output_type": "stream",
     "text": [
      "[1, 2, 3, 4, 5, 6]\n"
     ]
    }
   ],
   "source": [
    "matrix=[[1,2],[3,4],[5,6]]\n",
    "flattened=[num for sublist in matrix for num in sublist]\n",
    "print(flattened)"
   ]
  },
  {
   "cell_type": "markdown",
   "id": "ad5184aa-c7de-4f28-9bb6-1583bb8a5a7c",
   "metadata": {},
   "source": [
    "generate a list of tuples"
   ]
  },
  {
   "cell_type": "code",
   "execution_count": 8,
   "id": "774d2448-eddb-4588-ad88-35af014bff87",
   "metadata": {},
   "outputs": [
    {
     "name": "stdout",
     "output_type": "stream",
     "text": [
      "[(0, 0), (0, 1), (0, 2), (1, 0), (1, 1), (1, 2), (2, 0), (2, 1), (2, 2)]\n"
     ]
    }
   ],
   "source": [
    "pairs = [(x,y) for x in range(3) for y in range(3)]\n",
    "print(pairs)"
   ]
  },
  {
   "cell_type": "code",
   "execution_count": 9,
   "id": "61571ef0-a761-4041-ba5b-63e5ee1807b3",
   "metadata": {},
   "outputs": [],
   "source": [
    "#dictionary comprehension: consice way to create dictionaries from iterables\n",
    "#similar to list comprehensions\n",
    "#syntaX:   {KEY_EXPRESSION : VALUE_EXPRESSION FOR ITEM IN ITERABLE IF COMDITION}"
   ]
  },
  {
   "cell_type": "code",
   "execution_count": 11,
   "id": "9ef691b4-b43e-4f56-8b0e-f77358fbfd2e",
   "metadata": {},
   "outputs": [
    {
     "name": "stdout",
     "output_type": "stream",
     "text": [
      "{1: 1, 2: 4, 3: 9, 4: 16, 5: 25, 6: 36, 7: 49}\n"
     ]
    }
   ],
   "source": [
    "#create a dictionary of square\n",
    "square_dictionary={x: x**2 for x in range(1,8)}\n",
    "print(square_dictionary)"
   ]
  },
  {
   "cell_type": "code",
   "execution_count": 12,
   "id": "42b57677-3489-4b8c-bda0-01b55b8f378f",
   "metadata": {},
   "outputs": [
    {
     "name": "stdout",
     "output_type": "stream",
     "text": [
      "{0: 0, 2: 4, 4: 16, 6: 36, 8: 64}\n"
     ]
    }
   ],
   "source": [
    "#filter even numbers:\n",
    "even_dictonary={x:x**2 for x in range(10) if x%2==0}\n",
    "print(even_dictonary)"
   ]
  },
  {
   "cell_type": "code",
   "execution_count": 13,
   "id": "1eaae1ba-c917-4123-8a1c-b47cc7435c2f",
   "metadata": {},
   "outputs": [
    {
     "name": "stdout",
     "output_type": "stream",
     "text": [
      "{1: 'a', 2: 'b', 3: 'c'}\n"
     ]
    }
   ],
   "source": [
    "#reverse a dic:\n",
    "\n",
    "original={'a':1,'b':2,'c':3}\n",
    "reverse_dict={v: k for k , v in original.items()}\n",
    "print(reverse_dict)"
   ]
  },
  {
   "cell_type": "code",
   "execution_count": 14,
   "id": "25838135-4915-4f46-9b92-8dda8054d78e",
   "metadata": {},
   "outputs": [
    {
     "name": "stdout",
     "output_type": "stream",
     "text": [
      "{'apple': 5, 'banana': 6, 'cherry': 6}\n"
     ]
    }
   ],
   "source": [
    "#convert list to dictionary with lengeths:\n",
    "words=[\"apple\",\"banana\",\"cherry\"]\n",
    "len_dic={word: len(word) for word in words}\n",
    "print(len_dic)"
   ]
  },
  {
   "cell_type": "code",
   "execution_count": 15,
   "id": "eada26f1-e187-4754-aa38-497c479ce93f",
   "metadata": {},
   "outputs": [
    {
     "name": "stdout",
     "output_type": "stream",
     "text": [
      "{1: 'odd', 2: 'even', 3: 'odd', 4: 'even', 5: 'odd'}\n"
     ]
    }
   ],
   "source": [
    "#dictionary of conditional values:\n",
    "even_odd_dict={x:('even' if x%2==0 else 'odd') for x in range(1,6)}\n",
    "print(even_odd_dict)"
   ]
  },
  {
   "cell_type": "raw",
   "id": "f6af9b05-5646-4dea-9b11-d62736a3f588",
   "metadata": {},
   "source": [
    "Exception Handling====>"
   ]
  },
  {
   "cell_type": "raw",
   "id": "424ad78e-7c17-4346-9368-f59ec21bf3d9",
   "metadata": {},
   "source": [
    "Python Exception Handling handles errors that occur during the execution of a program. \n",
    "Exception handling allows to respond to the error, instead of crashing the running program. \n",
    "It enables you to catch and manage errors, making your code more robust and user-friendly."
   ]
  },
  {
   "cell_type": "code",
   "execution_count": 20,
   "id": "349bd20c-39a6-4e0f-8f11-5bda1e5c7b59",
   "metadata": {},
   "outputs": [
    {
     "name": "stdout",
     "output_type": "stream",
     "text": [
      "Cannot divide by zero!\n"
     ]
    }
   ],
   "source": [
    "def exception_handling_examples():\n",
    "    try:\n",
    "        result = 10 / 0\n",
    "    except ZeroDivisionError:\n",
    "        print(f\"Cannot divide by zero!\")\n",
    "exception_handling_examples()"
   ]
  },
  {
   "cell_type": "code",
   "execution_count": 21,
   "id": "a066edf6-469b-49a0-916d-99144a05c3bd",
   "metadata": {},
   "outputs": [
    {
     "name": "stdin",
     "output_type": "stream",
     "text": [
      "enter a number:  sam\n"
     ]
    },
    {
     "name": "stdout",
     "output_type": "stream",
     "text": [
      "Invalid input. Please enter a valid integer. invalid literal for int() with base 10: 'sam'\n"
     ]
    }
   ],
   "source": [
    "def exception_handling_examples():\n",
    "    try:\n",
    "        number= int(input(\"enter a number: \"))\n",
    "    except ValueError as e:\n",
    "        print(f\"Invalid input. Please enter a valid integer.\",e)\n",
    "\n",
    "exception_handling_examples()"
   ]
  },
  {
   "cell_type": "code",
   "execution_count": 18,
   "id": "e3564786-5f65-41fc-89a3-3ebc33bae151",
   "metadata": {},
   "outputs": [
    {
     "name": "stdout",
     "output_type": "stream",
     "text": [
      "KeyError: 'subject'\n"
     ]
    }
   ],
   "source": [
    "def exception_handling_examples():\n",
    "    try:\n",
    "        data={\"name\":\"aman\",\"age\":20}\n",
    "        print(data[\"subject\"])\n",
    "    except KeyError as e:\n",
    "        print(f\"KeyError: {e}\")\n",
    "exception_handling_examples()\n"
   ]
  },
  {
   "cell_type": "code",
   "execution_count": 19,
   "id": "4335200b-0175-42bc-bc98-96f34525222b",
   "metadata": {},
   "outputs": [
    {
     "name": "stdout",
     "output_type": "stream",
     "text": [
      "Caught an IndexError: list index out of range\n"
     ]
    }
   ],
   "source": [
    "def exception_handling_examples():\n",
    "    try:\n",
    "        mylist=[1,2,3]\n",
    "        print(mylist[5])\n",
    "    except IndexError as e:\n",
    "        print(f\"Caught an IndexError: {e}\")\n",
    "exception_handling_examples()\n"
   ]
  },
  {
   "cell_type": "code",
   "execution_count": 22,
   "id": "ab17a4be-00d7-460f-b0d0-f682ba7ff226",
   "metadata": {},
   "outputs": [
    {
     "name": "stdout",
     "output_type": "stream",
     "text": [
      "File not found! [Errno 2] No such file or directory: 'example.txt'\n"
     ]
    }
   ],
   "source": [
    "def exception_handling_examples():\n",
    "    try:\n",
    "        with open('example.txt', 'r') as file:\n",
    "            contents = file.read()\n",
    "            print(contents)\n",
    "    except FileNotFoundError as e:\n",
    "        print(\"File not found!\",e)\n",
    "\n",
    "exception_handling_examples()\n"
   ]
  },
  {
   "cell_type": "code",
   "execution_count": 23,
   "id": "3326b999-b651-4a1f-bb15-22d863d3ca5c",
   "metadata": {},
   "outputs": [
    {
     "name": "stdin",
     "output_type": "stream",
     "text": [
      "enter a string: dd\n"
     ]
    },
    {
     "name": "stdout",
     "output_type": "stream",
     "text": [
      "caugth either a value error or zero division error invalid literal for int() with base 10: 'dd'\n"
     ]
    }
   ],
   "source": [
    "def exception_handling_examples():\n",
    "    try:\n",
    "        number=int(input(\"enter a string:\"))\n",
    "        result=10/number\n",
    "        print(result)\n",
    "    except( ValueError , ZeroDivisionError) as e:\n",
    "        print(\"caugth either a value error or zero division error\",e)\n",
    "            \n",
    "\n",
    "exception_handling_examples()\n"
   ]
  },
  {
   "cell_type": "code",
   "execution_count": 24,
   "id": "7b0a68dc-3bdd-420a-9d21-f39be9273908",
   "metadata": {},
   "outputs": [
    {
     "name": "stdout",
     "output_type": "stream",
     "text": [
      "attempting to open a file...\n",
      "file not found\n",
      "file operation completed\n"
     ]
    }
   ],
   "source": [
    "def exception_handling_examples():\n",
    "    try:\n",
    "        print(\"attempting to open a file...\")\n",
    "        with open(\"example.txt\", \"r\") as file:\n",
    "            file.write(\"hello , world!\")\n",
    "    except FileNotFoundError:\n",
    "        print(\"file not found\")\n",
    "    else:\n",
    "        print(\"file opened successfully\")\n",
    "    finally:\n",
    "        print(\"file operation completed\")\n",
    "exception_handling_examples()\n"
   ]
  },
  {
   "cell_type": "code",
   "execution_count": null,
   "id": "ae4c4364-7b66-4784-a578-11f10efcda22",
   "metadata": {},
   "outputs": [],
   "source": []
  }
 ],
 "metadata": {
  "kernelspec": {
   "display_name": "Python 3 (ipykernel)",
   "language": "python",
   "name": "python3"
  },
  "language_info": {
   "codemirror_mode": {
    "name": "ipython",
    "version": 3
   },
   "file_extension": ".py",
   "mimetype": "text/x-python",
   "name": "python",
   "nbconvert_exporter": "python",
   "pygments_lexer": "ipython3",
   "version": "3.12.7"
  }
 },
 "nbformat": 4,
 "nbformat_minor": 5
}
